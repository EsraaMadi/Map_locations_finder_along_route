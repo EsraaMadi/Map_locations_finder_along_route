{
 "cells": [
  {
   "cell_type": "code",
   "execution_count": 1,
   "metadata": {},
   "outputs": [],
   "source": [
    "# !pip install streamlit\n",
    "# !pip install folium\n",
    "# !pip install geocoder\n",
    "# !pip install colour==0.1.1"
   ]
  },
  {
   "cell_type": "code",
   "execution_count": 2,
   "metadata": {},
   "outputs": [],
   "source": [
    "# import libraries\n",
    "import numpy as np\n",
    "import pandas as pd\n",
    "import folium\n",
    "from folium.plugins import BeautifyIcon\n",
    "import geocoder\n",
    "import requests\n",
    "import json\n",
    "from selenium import webdriver\n",
    "from selenium.webdriver.chrome.options import Options\n",
    "from selenium.webdriver.support.ui import WebDriverWait\n",
    "import time\n",
    "import pickle\n",
    "import matplotlib.pyplot as plt\n",
    "from bs4 import BeautifulSoup\n",
    "from colour import Color\n",
    "from googletrans import Translator"
   ]
  },
  {
   "cell_type": "markdown",
   "metadata": {},
   "source": [
    "### Step 1: [TomTom](https://developer.tomtom.com/) API Setting:"
   ]
  },
  {
   "cell_type": "markdown",
   "metadata": {},
   "source": [
    "To be able to use TomTom api features, you have to register as a developer and get your own key, you can follow the steps in this article to issue your key [How to register a TomTom Api key](https://www.mapsmarker.com/kb/user-guide/how-tomtom-api/)"
   ]
  },
  {
   "cell_type": "code",
   "execution_count": 3,
   "metadata": {},
   "outputs": [],
   "source": [
    "# My key is saved in file so need to retrive and set TomTom api key \n",
    "with open('help_files/tomtomapikey.txt') as f:\n",
    "    api_key = f.readline()"
   ]
  },
  {
   "cell_type": "markdown",
   "metadata": {},
   "source": [
    "### Step 2: Map Initialization"
   ]
  },
  {
   "cell_type": "markdown",
   "metadata": {},
   "source": [
    "We here use [Folium](https://python-visualization.github.io/folium/) to visual our data on an interactive maps "
   ]
  },
  {
   "cell_type": "code",
   "execution_count": 4,
   "metadata": {},
   "outputs": [],
   "source": [
    "# A function to initialize any map using TomTom map.\n",
    "def init_map(api_key, latitude=0, longitude=0, zoom=14, layer = \"basic\", style = \"main\"):\n",
    "    \"\"\"\n",
    "    A function to initialize a clean TomTom map\n",
    "    \"\"\"\n",
    "    \n",
    "    maps_url = \"http://{s}.api.tomtom.com/map/1/tile/\"+layer+\"/\"+style+\"/{z}/{x}/{y}.png?tileSize=512&key=\"\n",
    "    TomTom_map = folium.Map(\n",
    "        location = [latitude, longitude],  # on what coordinates [lat, lon] initialise the map\n",
    "        zoom_start = zoom,\n",
    "        tiles = str(maps_url + api_key),\n",
    "        attr = 'TomTom')\n",
    "    \n",
    "    # add get latitude and longitude feature to our map\n",
    "    folium.LatLngPopup().add_to(TomTom_map)\n",
    "    \n",
    "    return TomTom_map"
   ]
  },
  {
   "cell_type": "code",
   "execution_count": 5,
   "metadata": {},
   "outputs": [
    {
     "data": {
      "text/html": [
       "<div style=\"width:100%;\"><div style=\"position:relative;width:100%;height:0;padding-bottom:60%;\"><iframe src=\"data:text/html;charset=utf-8;base64,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\" style=\"position:absolute;width:100%;height:100%;left:0;top:0;border:none !important;\" allowfullscreen webkitallowfullscreen mozallowfullscreen></iframe></div></div>"
      ],
      "text/plain": [
       "<folium.folium.Map at 0x7f963d716a58>"
      ]
     },
     "execution_count": 5,
     "metadata": {},
     "output_type": "execute_result"
    }
   ],
   "source": [
    "init_map(api_key)"
   ]
  },
  {
   "cell_type": "markdown",
   "metadata": {},
   "source": [
    "### Step 3: Center our Map on Your Location "
   ]
  },
  {
   "cell_type": "markdown",
   "metadata": {},
   "source": [
    "In our case that we run our script on PC and not all of them have GPS module to get your accurate location `latitude` and `longitude`. Therfore we instead could use GeoIP lookup to help with that. This involves getting the user’s public IP address and then using a database to convert that to a general location. \n",
    "\n",
    "This can be done in different ways using:\n",
    "1. Libraries\n",
    "2. RESTful APIs.\n",
    "3. Selenium\n",
    "\n",
    "P.S. I've tried many ways trying to get accurate GeoIP latitude and longitude."
   ]
  },
  {
   "cell_type": "markdown",
   "metadata": {},
   "source": [
    "#### Method 1: Use [geocoder](https://pypi.org/project/geocoder/) library"
   ]
  },
  {
   "cell_type": "code",
   "execution_count": 6,
   "metadata": {},
   "outputs": [],
   "source": [
    "# save all my trials to get location\n",
    "my_location_lst = []"
   ]
  },
  {
   "cell_type": "code",
   "execution_count": 7,
   "metadata": {},
   "outputs": [],
   "source": [
    "# Request my location\n",
    "my_location = geocoder.ip('me')"
   ]
  },
  {
   "cell_type": "code",
   "execution_count": 8,
   "metadata": {
    "scrolled": true
   },
   "outputs": [
    {
     "data": {
      "text/plain": [
       "{'address': 'Riyadh, Ar Riyāḑ, SA',\n",
       " 'city': 'Riyadh',\n",
       " 'country': 'SA',\n",
       " 'ip': '51.36.225.90',\n",
       " 'lat': 24.6877,\n",
       " 'lng': 46.7219,\n",
       " 'ok': True,\n",
       " 'org': 'AS43766 MTC KSA',\n",
       " 'raw': {'ip': '51.36.225.90',\n",
       "  'city': 'Riyadh',\n",
       "  'region': 'Ar Riyāḑ',\n",
       "  'country': 'SA',\n",
       "  'loc': '24.6877,46.7219',\n",
       "  'org': 'AS43766 MTC KSA',\n",
       "  'timezone': 'Asia/Riyadh',\n",
       "  'readme': 'https://ipinfo.io/missingauth'},\n",
       " 'state': 'Ar Riyāḑ',\n",
       " 'status': 'OK'}"
      ]
     },
     "execution_count": 8,
     "metadata": {},
     "output_type": "execute_result"
    }
   ],
   "source": [
    "# show location result\n",
    "my_location.geojson['features'][0]['properties']"
   ]
  },
  {
   "cell_type": "code",
   "execution_count": 9,
   "metadata": {},
   "outputs": [
    {
     "name": "stdout",
     "output_type": "stream",
     "text": [
      "latitude:  24.6877\n",
      "longitude:  46.7219\n"
     ]
    }
   ],
   "source": [
    "my_location_1 = [float(my_location.latlng[0]), float(my_location.latlng[1])]\n",
    "print('latitude: ', my_location_1[0])\n",
    "print('longitude: ', my_location_1[1])\n",
    "my_location_lst.append(my_location_1)"
   ]
  },
  {
   "cell_type": "markdown",
   "metadata": {},
   "source": [
    "#### Method 2: Use RESTful APIs"
   ]
  },
  {
   "cell_type": "code",
   "execution_count": 10,
   "metadata": {},
   "outputs": [
    {
     "data": {
      "text/plain": [
       "'51.36.225.90'"
      ]
     },
     "execution_count": 10,
     "metadata": {},
     "output_type": "execute_result"
    }
   ],
   "source": [
    "# step 1 : get my ip \n",
    "ip_request = requests.get('https://get.geojs.io/v1/ip.json')\n",
    "my_ip = ip_request.json()['ip']\n",
    "my_ip"
   ]
  },
  {
   "cell_type": "code",
   "execution_count": 11,
   "metadata": {},
   "outputs": [],
   "source": [
    "# step 2_1 : get GEOIP latitude and longitude\n",
    "geo_request = requests.get('https://get.geojs.io/v1/ip/geo/' +my_ip + '.json')\n",
    "geo_data = geo_request.json()"
   ]
  },
  {
   "cell_type": "code",
   "execution_count": 12,
   "metadata": {},
   "outputs": [
    {
     "name": "stdout",
     "output_type": "stream",
     "text": [
      "latitude:  24.6537\n",
      "longitude:  46.7152\n"
     ]
    }
   ],
   "source": [
    "my_location_2 = [float(geo_data['latitude']), float(geo_data['longitude'])]\n",
    "print('latitude: ', my_location_2[0])\n",
    "print('longitude: ', my_location_2[1])\n",
    "my_location_lst.append(my_location_2)"
   ]
  },
  {
   "cell_type": "markdown",
   "metadata": {},
   "source": [
    "> It's slightly different than what we got from library above"
   ]
  },
  {
   "cell_type": "code",
   "execution_count": 13,
   "metadata": {
    "scrolled": true
   },
   "outputs": [],
   "source": [
    "# step 2_2 : get GEOIP latitude and longitude\n",
    "geo_request = requests.get('https://ipinfo.io/')\n",
    "geo_data = geo_request.json()"
   ]
  },
  {
   "cell_type": "code",
   "execution_count": 14,
   "metadata": {},
   "outputs": [
    {
     "name": "stdout",
     "output_type": "stream",
     "text": [
      "latitude:  24.6877\n",
      "longitude:  46.7219\n"
     ]
    }
   ],
   "source": [
    "my_location_3 = [float(i) for i in geo_data['loc'].split(',')]\n",
    "print('latitude: ', my_location_3[0])\n",
    "print('longitude: ', my_location_3[1])\n",
    "my_location_lst.append(my_location_3)"
   ]
  },
  {
   "cell_type": "markdown",
   "metadata": {},
   "source": [
    "> Same as `my_location_1`"
   ]
  },
  {
   "cell_type": "code",
   "execution_count": 615,
   "metadata": {
    "scrolled": true
   },
   "outputs": [],
   "source": [
    "# step 2_3 : get GEOIP latitude and longitude\n",
    "\n",
    "# need api key for this request\n",
    "with open('help_files/ipstackkey.txt') as f:\n",
    "    api_key_loc = f.readline()\n",
    "    \n",
    "geo_request = requests.get(f\"http://api.ipstack.com/{my_ip}?access_key={api_key_loc}\")\n",
    "geo_data = geo_request.json()"
   ]
  },
  {
   "cell_type": "code",
   "execution_count": 616,
   "metadata": {},
   "outputs": [
    {
     "data": {
      "text/plain": [
       "{'ip': '51.36.225.90',\n",
       " 'type': 'ipv4',\n",
       " 'continent_code': 'AS',\n",
       " 'continent_name': 'Asia',\n",
       " 'country_code': 'SA',\n",
       " 'country_name': 'Saudi Arabia',\n",
       " 'region_code': '01',\n",
       " 'region_name': 'Ar Riyāḑ',\n",
       " 'city': 'Riyadh',\n",
       " 'zip': '11142',\n",
       " 'latitude': 24.68773078918457,\n",
       " 'longitude': 46.72185134887695,\n",
       " 'location': {'geoname_id': 108410,\n",
       "  'capital': 'Riyadh',\n",
       "  'languages': [{'code': 'ar',\n",
       "    'name': 'Arabic',\n",
       "    'native': 'العربية',\n",
       "    'rtl': 1}],\n",
       "  'country_flag': 'http://assets.ipstack.com/flags/sa.svg',\n",
       "  'country_flag_emoji': '🇸🇦',\n",
       "  'country_flag_emoji_unicode': 'U+1F1F8 U+1F1E6',\n",
       "  'calling_code': '966',\n",
       "  'is_eu': False}}"
      ]
     },
     "execution_count": 616,
     "metadata": {},
     "output_type": "execute_result"
    }
   ],
   "source": [
    "# show result \n",
    "geo_data"
   ]
  },
  {
   "cell_type": "code",
   "execution_count": 617,
   "metadata": {},
   "outputs": [
    {
     "name": "stdout",
     "output_type": "stream",
     "text": [
      "latitude:  24.68773078918457\n",
      "longitude:  46.72185134887695\n"
     ]
    }
   ],
   "source": [
    "my_location_4 = [float(geo_data['latitude']), float(geo_data['longitude'])]\n",
    "print('latitude: ', my_location_4[0])\n",
    "print('longitude: ', my_location_4[1])\n",
    "my_location_lst.append(my_location_4)"
   ]
  },
  {
   "cell_type": "code",
   "execution_count": 623,
   "metadata": {},
   "outputs": [
    {
     "data": {
      "text/plain": [
       "('01', 'Riyadh')"
      ]
     },
     "execution_count": 623,
     "metadata": {},
     "output_type": "execute_result"
    }
   ],
   "source": [
    "# save resion code and city name for later use\n",
    "my_region_code = geo_data['region_code']\n",
    "my_region = geo_data['city']\n",
    "my_region_code, my_region"
   ]
  },
  {
   "cell_type": "markdown",
   "metadata": {},
   "source": [
    "> It seems more accurate right!"
   ]
  },
  {
   "cell_type": "markdown",
   "metadata": {},
   "source": [
    "#### Method 3: Use Selenium"
   ]
  },
  {
   "cell_type": "code",
   "execution_count": 18,
   "metadata": {},
   "outputs": [],
   "source": [
    "#create driver\n",
    "options = Options()\n",
    "options.add_argument(\"--use-fake-ui-for-media-stream\")\n",
    "timeout = 20\n",
    "driver = webdriver.Chrome(executable_path = 'help_files/chromedriver/chromedriver', chrome_options=options)\n",
    "# request page\n",
    "driver.get(\"https://mycurrentlocation.net/\")\n",
    "wait = WebDriverWait(driver, timeout)\n",
    "time.sleep(3)\n",
    "longitude = driver.find_elements_by_xpath('//*[@id=\"longitude\"]')\n",
    "longitude = [x.text for x in longitude]\n",
    "longitude = str(longitude[0])\n",
    "latitude = driver.find_elements_by_xpath('//*[@id=\"latitude\"]')\n",
    "latitude = [x.text for x in latitude]\n",
    "latitude = str(latitude[0])\n",
    "driver.quit()"
   ]
  },
  {
   "cell_type": "code",
   "execution_count": 19,
   "metadata": {},
   "outputs": [
    {
     "name": "stdout",
     "output_type": "stream",
     "text": [
      "latitude:  24.71355\n",
      "longitude:  46.6753\n"
     ]
    }
   ],
   "source": [
    "my_location_5 = [float(latitude), float(longitude)]\n",
    "print('latitude: ', my_location_5[0])\n",
    "print('longitude: ', my_location_5[1])\n",
    "my_location_lst.append(my_location_5)"
   ]
  },
  {
   "cell_type": "markdown",
   "metadata": {},
   "source": [
    "#### Since we already tried many ways to get my latitude and longitude, let's center our map using their average as follows:"
   ]
  },
  {
   "cell_type": "code",
   "execution_count": 20,
   "metadata": {},
   "outputs": [
    {
     "data": {
      "text/plain": [
       "[[24.6877, 46.7219],\n",
       " [24.6537, 46.7152],\n",
       " [24.6877, 46.7219],\n",
       " [24.68773078918457, 46.72185134887695],\n",
       " [24.71355, 46.6753]]"
      ]
     },
     "execution_count": 20,
     "metadata": {},
     "output_type": "execute_result"
    }
   ],
   "source": [
    "my_location_lst"
   ]
  },
  {
   "cell_type": "code",
   "execution_count": 21,
   "metadata": {},
   "outputs": [
    {
     "name": "stdout",
     "output_type": "stream",
     "text": [
      "24.686076157836915\n",
      "46.711230269775385\n"
     ]
    }
   ],
   "source": [
    "my_latitude = sum([loc[0] for loc in my_location_lst])/len(my_location_lst)\n",
    "my_longitude = sum([loc[1] for loc in my_location_lst])/len(my_location_lst)\n",
    "print(my_latitude)\n",
    "print(my_longitude)"
   ]
  },
  {
   "cell_type": "code",
   "execution_count": 22,
   "metadata": {
    "scrolled": false
   },
   "outputs": [
    {
     "data": {
      "text/html": [
       "<div style=\"width:100%;\"><div style=\"position:relative;width:100%;height:0;padding-bottom:60%;\"><iframe src=\"data:text/html;charset=utf-8;base64,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\" style=\"position:absolute;width:100%;height:100%;left:0;top:0;border:none !important;\" allowfullscreen webkitallowfullscreen mozallowfullscreen></iframe></div></div>"
      ],
      "text/plain": [
       "<folium.folium.Map at 0x7f963d7b0588>"
      ]
     },
     "execution_count": 22,
     "metadata": {},
     "output_type": "execute_result"
    }
   ],
   "source": [
    "tomtom_map = init_map(api_key, latitude=my_latitude, longitude=my_longitude)\n",
    "tomtom_map"
   ]
  },
  {
   "cell_type": "markdown",
   "metadata": {},
   "source": [
    "#### In our streamlit app, we will just use one method `ipstack` to get our location to save compution power "
   ]
  },
  {
   "cell_type": "markdown",
   "metadata": {},
   "source": [
    "### Step 4: Get Destination Point (Target Place):"
   ]
  },
  {
   "cell_type": "code",
   "execution_count": 23,
   "metadata": {},
   "outputs": [],
   "source": [
    "# A function to add a point marker at any TomTom map.\n",
    "def add_marker_map(tomtom_map, marker_latitude, marker_longitude, marker_title='point', marker_color='blue'):\n",
    "    \"\"\"\n",
    "    A function to add a point marker at any TomTom map\n",
    "    \"\"\"\n",
    "    folium.Marker(location=( marker_latitude, marker_longitude),\n",
    "                  popup=marker_title, \n",
    "                  icon=folium.Icon(color=marker_color, icon='glyphicon-star')\n",
    "             ).add_to(tomtom_map)\n",
    "    \n",
    "    return tomtom_map"
   ]
  },
  {
   "cell_type": "markdown",
   "metadata": {},
   "source": [
    "- 1st Point: **Home**"
   ]
  },
  {
   "cell_type": "code",
   "execution_count": 24,
   "metadata": {
    "scrolled": false
   },
   "outputs": [
    {
     "data": {
      "text/html": [
       "<div style=\"width:100%;\"><div style=\"position:relative;width:100%;height:0;padding-bottom:60%;\"><iframe src=\"data:text/html;charset=utf-8;base64,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\" style=\"position:absolute;width:100%;height:100%;left:0;top:0;border:none !important;\" allowfullscreen webkitallowfullscreen mozallowfullscreen></iframe></div></div>"
      ],
      "text/plain": [
       "<folium.folium.Map at 0x7f963d7b0588>"
      ]
     },
     "execution_count": 24,
     "metadata": {},
     "output_type": "execute_result"
    }
   ],
   "source": [
    "# add marker for home point (detected current point from api)\n",
    "tomtom_map = add_marker_map(tomtom_map, my_latitude, my_longitude, \"your Location\", 'blue')\n",
    "tomtom_map"
   ]
  },
  {
   "cell_type": "markdown",
   "metadata": {},
   "source": [
    "- 2nd Point: **Destination**"
   ]
  },
  {
   "cell_type": "markdown",
   "metadata": {},
   "source": [
    "The current version of Folium maps does not have a feature to take the user mouse click as input, it would be great if it provides this!\n",
    "<br>\n",
    "<br>\n",
    "Here, we are going to use the available feature from Folium `LatLngPopup()` that shows user latitude and longitude wherever he clicks on the map then do manual copy past for them in input boxes"
   ]
  },
  {
   "cell_type": "markdown",
   "metadata": {},
   "source": [
    "![Alt Text](assets/input_lat_long.gif)"
   ]
  },
  {
   "cell_type": "code",
   "execution_count": 25,
   "metadata": {},
   "outputs": [
    {
     "name": "stdout",
     "output_type": "stream",
     "text": [
      "Enter Destination Latitude :24.6948\n"
     ]
    }
   ],
   "source": [
    "dest_latitude = float(input(\"Enter Destination Latitude :\"))\n",
    "# 24.6948"
   ]
  },
  {
   "cell_type": "code",
   "execution_count": 26,
   "metadata": {
    "scrolled": true
   },
   "outputs": [
    {
     "name": "stdout",
     "output_type": "stream",
     "text": [
      "Enter Destination Longitude :46.6803\n"
     ]
    }
   ],
   "source": [
    "dest_longitude = float(input(\"Enter Destination Longitude :\"))\n",
    "#46.6803"
   ]
  },
  {
   "cell_type": "code",
   "execution_count": 27,
   "metadata": {},
   "outputs": [],
   "source": [
    "def get_map_center_zoom(home_latitude, home_longitude, dest_latitude, dest_longitude):\n",
    "    \"\"\"Function to get center of folium map and zoom used\"\"\"\n",
    "    # get center of our map based on home and destination points\n",
    "    ave_lat = (home_latitude + dest_latitude) / 2\n",
    "    ave_long = (home_longitude + dest_longitude) /2\n",
    "    \n",
    "    # calculate map zoom\n",
    "    zoom = 14 #defuelt zoom\n",
    "    latitude_diff = abs(home_latitude - dest_latitude)\n",
    "    longitude_diff = abs(home_longitude - dest_longitude)\n",
    "    \n",
    "    if latitude_diff > longitude_diff:\n",
    "        while latitude_diff > 0:\n",
    "            zoom = zoom -1\n",
    "            latitude_diff = latitude_diff - 0.1\n",
    "    else:\n",
    "        while longitude_diff > 0:\n",
    "            zoom = zoom -1\n",
    "            longitude_diff = longitude_diff - 0.1\n",
    "    return ave_lat, ave_long, zoom"
   ]
  },
  {
   "cell_type": "code",
   "execution_count": 28,
   "metadata": {},
   "outputs": [],
   "source": [
    "lat_, long_, zoom_ = get_map_center_zoom(my_latitude, my_longitude, dest_latitude, dest_longitude)"
   ]
  },
  {
   "cell_type": "code",
   "execution_count": 29,
   "metadata": {},
   "outputs": [
    {
     "data": {
      "text/html": [
       "<div style=\"width:100%;\"><div style=\"position:relative;width:100%;height:0;padding-bottom:60%;\"><iframe src=\"data:text/html;charset=utf-8;base64,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\" style=\"position:absolute;width:100%;height:100%;left:0;top:0;border:none !important;\" allowfullscreen webkitallowfullscreen mozallowfullscreen></iframe></div></div>"
      ],
      "text/plain": [
       "<folium.folium.Map at 0x7f963d7ee2e8>"
      ]
     },
     "execution_count": 29,
     "metadata": {},
     "output_type": "execute_result"
    }
   ],
   "source": [
    "tomtom_map = init_map(api_key, latitude=lat_, longitude=long_, zoom=zoom_)\n",
    "tomtom_map = add_marker_map(tomtom_map, my_latitude, my_longitude, \"Your Location\", 'blue')\n",
    "tomtom_map = add_marker_map(tomtom_map, dest_latitude, dest_longitude, \"destination Location\", 'green')\n",
    "tomtom_map"
   ]
  },
  {
   "cell_type": "markdown",
   "metadata": {},
   "source": [
    "#### We can use [Fuzzy search](https://developer.tomtom.com/search?keywords=Address+%26+POI+search) and [autocomplete](https://developer.tomtom.com/search-api/search-api-documentation/autocomplete) Services to enter our destination as follows:"
   ]
  },
  {
   "cell_type": "code",
   "execution_count": 778,
   "metadata": {},
   "outputs": [],
   "source": [
    "# autocomplete part\n",
    "text = \"King\"\n",
    "lang = \"en-GB\"\n",
    "limit_ = 10"
   ]
  },
  {
   "cell_type": "code",
   "execution_count": 779,
   "metadata": {},
   "outputs": [],
   "source": [
    "def autocomplete_search(text, lang, search_limit):\n",
    "    \"\"\"Function to retrieve result for given text\"\"\"\n",
    "\n",
    "    # Gather all paramters in dict\n",
    "    params_ = {'countrySet' : 'SA',\n",
    "               'language' : lang,\n",
    "               'limit' : search_limit,\n",
    "               'key' : api_key\n",
    "              }\n",
    "    # create a request \n",
    "    url = (f'https://api.tomtom.com/search/2/autocomplete/{text}.json')\n",
    "    r = requests.get(url, params=params_)\n",
    "    \n",
    "    # check response status to make sure it went through\n",
    "    if r.status_code == 200:\n",
    "        result = r.json()\n",
    "    return result   "
   ]
  },
  {
   "cell_type": "code",
   "execution_count": 780,
   "metadata": {},
   "outputs": [
    {
     "data": {
      "text/plain": [
       "{'context': {'inputQuery': 'King'},\n",
       " 'results': [{'segments': [{'type': 'brand',\n",
       "     'value': 'BURGER KING',\n",
       "     'matches': {'inputQuery': [{'offset': 0, 'length': 4}]}}]}]}"
      ]
     },
     "execution_count": 780,
     "metadata": {},
     "output_type": "execute_result"
    }
   ],
   "source": [
    "autocomplete_search(text, lang, limit_)"
   ]
  },
  {
   "cell_type": "markdown",
   "metadata": {},
   "source": [
    "### Step 5: Find Shortest Route Between Two Points:"
   ]
  },
  {
   "cell_type": "markdown",
   "metadata": {},
   "source": [
    "TomTom [Calculate Route](https://developer.tomtom.com/routing-api/routing-api-documentation-routing/calculate-route) service calculates a route between an origin and a destination based on historical traffic data.\n",
    "\n",
    "- Information returned includes:\n",
    "    - Distance (in meters)\n",
    "    - Estimated travel time (in seconds)\n",
    "    - Estimated arrival time\n",
    "    \n",
    "P.S. This service cannot predict sudden large-scale changes in road network utilization like the one many areas are experiencing due to the COVID-19 crisis"
   ]
  },
  {
   "cell_type": "code",
   "execution_count": 282,
   "metadata": {},
   "outputs": [],
   "source": [
    "# Make the Request\n",
    "r = requests.get(f\"https://api.tomtom.com/routing/1/calculateRoute/{my_latitude},{my_longitude}:{dest_latitude},{dest_longitude}/xml?avoid=unpavedRoads&key={api_key}\")"
   ]
  },
  {
   "cell_type": "code",
   "execution_count": 283,
   "metadata": {},
   "outputs": [
    {
     "data": {
      "text/plain": [
       "200"
      ]
     },
     "execution_count": 283,
     "metadata": {},
     "output_type": "execute_result"
    }
   ],
   "source": [
    "# check response status to make sure it went through\n",
    "r.status_code"
   ]
  },
  {
   "cell_type": "code",
   "execution_count": 284,
   "metadata": {
    "scrolled": true
   },
   "outputs": [],
   "source": [
    "# Turn the XML data into a human readable format\n",
    "soup = BeautifulSoup(r.content, \"lxml\")\n",
    "\n",
    "# Print out the information\n",
    "# print(soup.prettify())"
   ]
  },
  {
   "cell_type": "code",
   "execution_count": 285,
   "metadata": {},
   "outputs": [],
   "source": [
    "def convert_sec_to_h_m(sec, hours=True ):\n",
    "    \"\"\"Function to convert sec to corresponding hours and minates or minates\"\"\"\n",
    "    if hours:\n",
    "        time_h = int(sec / (60*60))\n",
    "        time_m = int((sec % (60*60)) /60)\n",
    "    else:\n",
    "        time_h = 0\n",
    "        time_m = int(sec / 60)\n",
    "    return time_h, time_m    "
   ]
  },
  {
   "cell_type": "code",
   "execution_count": 286,
   "metadata": {},
   "outputs": [
    {
     "name": "stdout",
     "output_type": "stream",
     "text": [
      "Travel Time: 0 hours, 8 mins\n"
     ]
    }
   ],
   "source": [
    "# get Estimated travel time\n",
    "time_tot_sec = float(soup.find('summary').find('traveltimeinseconds').text)\n",
    "time_h, time_m  = convert_sec_to_h_m(time_tot_sec)\n",
    "print(f'Travel Time: {time_h} hours, {time_m} mins')"
   ]
  },
  {
   "cell_type": "code",
   "execution_count": 287,
   "metadata": {},
   "outputs": [
    {
     "name": "stdout",
     "output_type": "stream",
     "text": [
      "Travel Distance: 6.193 Km\n"
     ]
    }
   ],
   "source": [
    "# get distance\n",
    "print('Travel Distance:', float(soup.find('summary').find('lengthinmeters').text)/1000, 'Km')"
   ]
  },
  {
   "cell_type": "code",
   "execution_count": 288,
   "metadata": {
    "scrolled": true
   },
   "outputs": [
    {
     "name": "stdout",
     "output_type": "stream",
     "text": [
      "Estimated Arrival Date: 2020-06-23\n",
      "Estimated Arrival Time: 22:39:09\n"
     ]
    }
   ],
   "source": [
    "# get EAT\n",
    "eta = soup.find('summary').find('arrivaltime').text.split('T')\n",
    "eta_date = eta[0]\n",
    "eta_time = eta[1].split('+')[0]\n",
    "print(f'Estimated Arrival Date: {eta_date}')\n",
    "print(f'Estimated Arrival Time: {eta_time}')"
   ]
  },
  {
   "cell_type": "code",
   "execution_count": 289,
   "metadata": {},
   "outputs": [
    {
     "data": {
      "text/plain": [
       "[<point latitude=\"24.68610\" longitude=\"46.71127\"></point>,\n",
       " <point latitude=\"24.68597\" longitude=\"46.71136\"></point>,\n",
       " <point latitude=\"24.68578\" longitude=\"46.71129\"></point>]"
      ]
     },
     "execution_count": 289,
     "metadata": {},
     "output_type": "execute_result"
    }
   ],
   "source": [
    "# Find all the tags that contain a point in our route\n",
    "points = soup.find_all('point')\n",
    "points[:3]"
   ]
  },
  {
   "cell_type": "code",
   "execution_count": 290,
   "metadata": {},
   "outputs": [
    {
     "data": {
      "text/plain": [
       "[(24.6861, 46.71127), (24.68597, 46.71136), (24.68578, 46.71129)]"
      ]
     },
     "execution_count": 290,
     "metadata": {},
     "output_type": "execute_result"
    }
   ],
   "source": [
    "# clean points list \n",
    "points = [tuple([float(point['latitude']), float(point['longitude'])]) for point in points ]\n",
    "points[:3]"
   ]
  },
  {
   "cell_type": "code",
   "execution_count": 291,
   "metadata": {
    "scrolled": true
   },
   "outputs": [
    {
     "data": {
      "image/png": "[encoded data removed]",
      "text/plain": [
       "<Figure size 432x288 with 1 Axes>"
      ]
     },
     "metadata": {
      "needs_background": "light"
     },
     "output_type": "display_data"
    }
   ],
   "source": [
    "# draw your route using matplot\n",
    "\n",
    "# Initialize our 2 arrays that will contain all the points\n",
    "lat = [point[0] for point in points]\n",
    "long = [point[1] for point in points]\n",
    "\n",
    "# plot\n",
    "plt.scatter(long,lat)\n",
    "plt.title('Route from TomTom API')\n",
    "plt.show()"
   ]
  },
  {
   "cell_type": "code",
   "execution_count": 292,
   "metadata": {},
   "outputs": [],
   "source": [
    "# draw our route using Folium\n",
    "\n",
    "def draw_route(points):\n",
    "    \"\"\"Function to draw a route between two points using folium\"\"\"\n",
    "    \n",
    "    # get center of our map based on obtained route\n",
    "    ave_lat = sum(float(p[0]) for p in points)/len(points)\n",
    "    ave_long = sum(float(p[1]) for p in points)/len(points)\n",
    "    \n",
    "    # initlize a map \n",
    "    TomTom_map = init_map(api_key, latitude=ave_lat, longitude=ave_long)\n",
    "\n",
    "    #add a markers for home and destination points\n",
    "    TomTom_map = add_marker_map(TomTom_map, points[0][0], points[0][1], marker_title='Your location', marker_color='blue')\n",
    "    TomTom_map = add_marker_map(TomTom_map, points[-1][0], points[-1][1], marker_title='Your destination point', marker_color='red')\n",
    "\n",
    "\n",
    "    # add lines \n",
    "    folium.PolyLine(points, color=\"green\", weight=2.5, opacity=1).add_to(TomTom_map)\n",
    "\n",
    "    return TomTom_map\n",
    "    "
   ]
  },
  {
   "cell_type": "code",
   "execution_count": 293,
   "metadata": {
    "scrolled": false
   },
   "outputs": [
    {
     "data": {
      "text/html": [
       "<div style=\"width:100%;\"><div style=\"position:relative;width:100%;height:0;padding-bottom:60%;\"><iframe src=\"data:text/html;charset=utf-8;base64,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\" style=\"position:absolute;width:100%;height:100%;left:0;top:0;border:none !important;\" allowfullscreen webkitallowfullscreen mozallowfullscreen></iframe></div></div>"
      ],
      "text/plain": [
       "<folium.folium.Map at 0x7f9640a78128>"
      ]
     },
     "execution_count": 293,
     "metadata": {},
     "output_type": "execute_result"
    }
   ],
   "source": [
    "tomtom_map = draw_route(points)\n",
    "tomtom_map"
   ]
  },
  {
   "cell_type": "markdown",
   "metadata": {},
   "source": [
    "### Step 6: Grab your Coffees in your way:"
   ]
  },
  {
   "cell_type": "markdown",
   "metadata": {},
   "source": [
    "Let's try two different TomTom services to achive this task and find all possible options:"
   ]
  },
  {
   "cell_type": "markdown",
   "metadata": {},
   "source": [
    "1. **TomTom [category Search](https://developer.tomtom.com/search-api/search-api-documentation-search/category-search) service**:\n",
    "    - This service returns POI (Points of Interest) results around a location which are categorized as specified.\n",
    "    - This service handles several categories, to check available categories, you can check the provided link above. For our script, we've saved them in a file so we can retrieve and try various categories."
   ]
  },
  {
   "cell_type": "code",
   "execution_count": 515,
   "metadata": {},
   "outputs": [],
   "source": [
    "with open('help_files/categories.txt') as f:\n",
    "    poi_categories = f.read().replace('\"', '').split(',')"
   ]
  },
  {
   "cell_type": "code",
   "execution_count": 516,
   "metadata": {},
   "outputs": [
    {
     "data": {
      "text/plain": [
       "['(sub) urban',\n",
       " ' access gateway',\n",
       " ' administrative area',\n",
       " ' administrative division',\n",
       " ' adventure sports venue',\n",
       " ' adventure vehicle',\n",
       " ' advertising/marketing',\n",
       " ' afghan',\n",
       " ' african',\n",
       " ' agricultural school']"
      ]
     },
     "execution_count": 516,
     "metadata": {},
     "output_type": "execute_result"
    }
   ],
   "source": [
    "# check first 10 categories\n",
    "poi_categories[:10]"
   ]
  },
  {
   "cell_type": "code",
   "execution_count": 296,
   "metadata": {},
   "outputs": [],
   "source": [
    "# let's search for cafes category (around one point)"
   ]
  },
  {
   "cell_type": "code",
   "execution_count": 709,
   "metadata": {},
   "outputs": [],
   "source": [
    "# specify paramters for API (you could check out folloing paramters and more using link above)\n",
    "\n",
    "# maximum number of responses (POI) that will be returned (1-100)\n",
    "search_limit = 100 \n",
    "\n",
    "# The results will be constrained to the defined area (radius) in meters.\n",
    "search_radius = 500\n",
    "\n",
    "# place category \n",
    "category = 'coffee'"
   ]
  },
  {
   "cell_type": "code",
   "execution_count": 710,
   "metadata": {},
   "outputs": [],
   "source": [
    "def get_cafes_around_point(dest_latitude, dest_longitude, search_limit, search_radius, category):\n",
    "    \"\"\"Function to retrieve cafes around given point\"\"\"\n",
    "\n",
    "    # Gather all paramters in dict\n",
    "    params_ = {'countrySet' : 'SA',\n",
    "               'lat' : dest_latitude,\n",
    "               'lon' : dest_longitude,\n",
    "               'limit' : search_limit,\n",
    "               'radius' : search_radius,\n",
    "               'key' : api_key\n",
    "              }\n",
    "    # create a request \n",
    "    url = (f'https://api.tomtom.com/search/2/categorySearch/{category}.json')\n",
    "    r = requests.get(url, params=params_)\n",
    "    \n",
    "    # check response status to make sure it went through\n",
    "    if r.status_code == 200:\n",
    "        result = r.json()\n",
    "    return result   "
   ]
  },
  {
   "cell_type": "code",
   "execution_count": 711,
   "metadata": {},
   "outputs": [],
   "source": [
    "result = get_cafes_around_point(dest_latitude, dest_longitude, search_limit, search_radius, category)"
   ]
  },
  {
   "cell_type": "code",
   "execution_count": 712,
   "metadata": {},
   "outputs": [
    {
     "data": {
      "text/plain": [
       "11"
      ]
     },
     "execution_count": 712,
     "metadata": {},
     "output_type": "execute_result"
    }
   ],
   "source": [
    "# show how many POI returned\n",
    "len(result['results'])"
   ]
  },
  {
   "cell_type": "code",
   "execution_count": 713,
   "metadata": {},
   "outputs": [
    {
     "data": {
      "text/plain": [
       "{'type': 'POI',\n",
       " 'id': 'g6JpZK82ODIwMDkwMDA1MTk1NTihY6NTQVWhdqdVbmlmaWVk',\n",
       " 'score': 2.5745251178741455,\n",
       " 'dist': 89.9022089251954,\n",
       " 'info': 'search:ta:682009000519558-SA',\n",
       " 'poi': {'name': 'Naomy for Organic Tea',\n",
       "  'categorySet': [{'id': 9376005}],\n",
       "  'categories': ['café/pub', 'tea house'],\n",
       "  'classifications': [{'code': 'CAFE_PUB',\n",
       "    'names': [{'nameLocale': 'en-US', 'name': 'café/pub'},\n",
       "     {'nameLocale': 'en-US', 'name': 'tea house'}]}]},\n",
       " 'address': {'streetName': 'Prince Muhammad Bin Abdulaziz Road',\n",
       "  'municipalitySubdivision': 'Al Olaya',\n",
       "  'municipality': 'Riyadh',\n",
       "  'countrySubdivision': 'Riyadh Province',\n",
       "  'postalCode': '12212',\n",
       "  'countryCode': 'SA',\n",
       "  'country': 'Saudi Arabia',\n",
       "  'countryCodeISO3': 'SAU',\n",
       "  'freeformAddress': 'Prince Muhammad Bin Abdulaziz Road, Riyadh Province, Riyadh',\n",
       "  'localName': 'Riyadh'},\n",
       " 'position': {'lat': 24.69497, 'lon': 46.68117},\n",
       " 'viewport': {'topLeftPoint': {'lat': 24.69587, 'lon': 46.68018},\n",
       "  'btmRightPoint': {'lat': 24.69407, 'lon': 46.68216}},\n",
       " 'entryPoints': [{'type': 'main',\n",
       "   'position': {'lat': 24.69493, 'lon': 46.68101}}]}"
      ]
     },
     "execution_count": 713,
     "metadata": {},
     "output_type": "execute_result"
    }
   ],
   "source": [
    "# show how every place in the result\n",
    "result['results'][0]"
   ]
  },
  {
   "cell_type": "code",
   "execution_count": 714,
   "metadata": {
    "scrolled": false
   },
   "outputs": [
    {
     "data": {
      "text/html": [
       "<div style=\"width:100%;\"><div style=\"position:relative;width:100%;height:0;padding-bottom:60%;\"><iframe src=\"data:text/html;charset=utf-8;base64,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\" style=\"position:absolute;width:100%;height:100%;left:0;top:0;border:none !important;\" allowfullscreen webkitallowfullscreen mozallowfullscreen></iframe></div></div>"
      ],
      "text/plain": [
       "<folium.folium.Map at 0x7f9641a34198>"
      ]
     },
     "execution_count": 714,
     "metadata": {},
     "output_type": "execute_result"
    }
   ],
   "source": [
    "# draw shortest route between home and dest\n",
    "tomtom_map = draw_route(points)\n",
    "\n",
    "# add a grey circle to represent the search radius\n",
    "folium.Circle(\n",
    "    [dest_latitude, dest_longitude],\n",
    "    radius=search_radius,\n",
    "    color='#004B7F', # Navy\n",
    "    opacity=0.3,\n",
    "    fill = False\n",
    ").add_to(tomtom_map)\n",
    "\n",
    "# Add POIs one by one to the map\n",
    "for poi in result['results']:\n",
    "    folium.Marker(location=tuple(poi['position'].values()),\n",
    "                  popup=str(poi['poi']['name']), \n",
    "                  icon=folium.Icon(color='purple', icon='glyphicon-star')\n",
    "             ).add_to(tomtom_map)\n",
    "tomtom_map"
   ]
  },
  {
   "cell_type": "markdown",
   "metadata": {},
   "source": [
    "- You can press on any marker to show cafe shop name "
   ]
  },
  {
   "cell_type": "markdown",
   "metadata": {},
   "source": [
    "#### We can get use of this service more Efficient by Retrieving cafes in given area by providing area center points `lon/lat`"
   ]
  },
  {
   "cell_type": "code",
   "execution_count": 669,
   "metadata": {},
   "outputs": [],
   "source": [
    "# let's get area center points"
   ]
  },
  {
   "cell_type": "code",
   "execution_count": 670,
   "metadata": {},
   "outputs": [],
   "source": [
    "def SearchCity(city, country):\n",
    "    \"\"\" Function use Geocoding feature in Search API to get lat/lon of the center of a city or area\"\"\"\n",
    "    \n",
    "    url = f'https://api.tomtom.com/search/2/search/{city},{country}.json?limit=1&idxSet=Geo&key={api_key}'\n",
    "    result = requests.get(url).json()\n",
    "    \n",
    "    GeoID = result['results'][0]['dataSources']['geometry']['id']\n",
    "    position = result['results'][0]['position']\n",
    "    \n",
    "    return GeoID,position"
   ]
  },
  {
   "cell_type": "code",
   "execution_count": 671,
   "metadata": {},
   "outputs": [
    {
     "data": {
      "text/plain": [
       "('01', 'Riyadh')"
      ]
     },
     "execution_count": 671,
     "metadata": {},
     "output_type": "execute_result"
    }
   ],
   "source": [
    "# from your location we can identify the resion name \n",
    "my_region_code, my_region"
   ]
  },
  {
   "cell_type": "code",
   "execution_count": 672,
   "metadata": {},
   "outputs": [
    {
     "name": "stdout",
     "output_type": "stream",
     "text": [
      "The center of the neighborhood is: ( 24.77586 ,  46.75362 )\n"
     ]
    }
   ],
   "source": [
    "# let's try 'KAl Hamra' area in riyadh city\n",
    "GeoID, position = SearchCity('Al Hamra' ,my_region)\n",
    "lat_area = position['lat']\n",
    "lon_area = position['lon']\n",
    "print(\"The center of the neighborhood is: (\", lat_area, \", \", lon_area, \")\")"
   ]
  },
  {
   "cell_type": "markdown",
   "metadata": {},
   "source": [
    "To get all Saudi regions to use them later in Streamlit app, we can use **[National Address API](https://api.address.gov.sa/lookupsapi-cities)**:"
   ]
  },
  {
   "cell_type": "code",
   "execution_count": 673,
   "metadata": {},
   "outputs": [],
   "source": [
    "def getPolygon(GeoID,zoomLevel):\n",
    "    \"\"\" Function to get polygon of a given GeoID\"\"\"\n",
    "    \n",
    "    url = f'https://api.tomtom.com/search/2/additionalData.json?geometries={GeoID}&geometriesZoom={zoomLevel}&key={api_key}'\n",
    "    result = requests.get(url).json()\n",
    "    \n",
    "    GeoJson = result['additionalData'][0]['geometryData']\n",
    "    \n",
    "    return GeoJson"
   ]
  },
  {
   "cell_type": "code",
   "execution_count": 674,
   "metadata": {},
   "outputs": [],
   "source": [
    "Polygon = getPolygon(GeoID,22)"
   ]
  },
  {
   "cell_type": "code",
   "execution_count": 675,
   "metadata": {},
   "outputs": [],
   "source": [
    "with open('help_files/nationaladdapikey.txt') as f:\n",
    "    nationaladd_key = f.read()"
   ]
  },
  {
   "cell_type": "code",
   "execution_count": 688,
   "metadata": {},
   "outputs": [],
   "source": [
    "def get_saudi_regions(key):\n",
    "    \"\"\"Function to return all Saudi Arabia regions names in english and arabic\"\"\"\n",
    "    \n",
    "    regions = dict()\n",
    "    \n",
    "    # request En cities names\n",
    "    citys_request_ar = requests.get(f'https://apina.address.gov.sa/NationalAddress/v3.1/lookup/regions?language=A&format=json&api_key={key}')\n",
    "    \n",
    "    time.sleep(5)\n",
    "    \n",
    "    # request Ar cities names\n",
    "    citys_request_en = requests.get(f'https://apina.address.gov.sa/NationalAddress/v3.1/lookup/regions?language=E&format=json&api_key={key}')\n",
    "    \n",
    "    if citys_request_en.status_code == 200 and citys_request_ar.status_code == 200:\n",
    "        \n",
    "        cities_en = citys_request_en.json()['Regions']\n",
    "        cities_ar = citys_request_ar.json()['Regions']\n",
    "        for en_city, ar_city in zip(cities_en, cities_ar):\n",
    "            if not regions.get(int(en_city['Id']),0):\n",
    "                regions[int(en_city['Id'])]={}\n",
    "            if not regions.get(int(ar_city['Id']),0):\n",
    "                regions[int(ar_city['Id'])] = {}\n",
    "\n",
    "            regions[int(en_city['Id'])][0] = en_city['Name']\n",
    "            regions[int(ar_city['Id'])][1] = ar_city['Name']\n",
    "    return regions"
   ]
  },
  {
   "cell_type": "code",
   "execution_count": 689,
   "metadata": {},
   "outputs": [
    {
     "data": {
      "text/plain": [
       "{6: {0: 'Asir', 1: ' عسير'},\n",
       " 12: {1: ' الباحة', 0: 'Bahah'},\n",
       " 13: {1: ' الجوف', 0: 'Jawf'},\n",
       " 5: {0: 'Eastern Province', 1: 'الشرقية'},\n",
       " 9: {1: ' الحدود الشمالية', 0: 'Northern Borders'},\n",
       " 8: {0: 'Hail', 1: ' حائل'},\n",
       " 1: {1: ' الرياض', 0: 'Riyadh'},\n",
       " 4: {1: ' القصيم', 0: 'Qassim'},\n",
       " 10: {0: 'Jizan', 1: ' جازان'},\n",
       " 3: {1: ' المدينة المنورة', 0: 'Madinah'},\n",
       " 7: {1: ' تبوك', 0: 'Tabuk'},\n",
       " 2: {0: 'Makkah', 1: ' مكة المكرمة'},\n",
       " 11: {0: 'Najran', 1: ' نجران'}}"
      ]
     },
     "execution_count": 689,
     "metadata": {},
     "output_type": "execute_result"
    }
   ],
   "source": [
    "ksa_cities = get_saudi_regions(nationaladd_key)\n",
    "ksa_cities"
   ]
  },
  {
   "cell_type": "code",
   "execution_count": 693,
   "metadata": {},
   "outputs": [],
   "source": [
    "# save it to load it again in the streamlit app\n",
    "with open('help_files/sa_regions.pkl', 'wb') as f:\n",
    "    pickle.dump(ksa_cities, f)"
   ]
  },
  {
   "cell_type": "code",
   "execution_count": 679,
   "metadata": {},
   "outputs": [
    {
     "data": {
      "text/html": [
       "<div style=\"width:100%;\"><div style=\"position:relative;width:100%;height:0;padding-bottom:60%;\"><iframe src=\"data:text/html;charset=utf-8;base64,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\" style=\"position:absolute;width:100%;height:100%;left:0;top:0;border:none !important;\" allowfullscreen webkitallowfullscreen mozallowfullscreen></iframe></div></div>"
      ],
      "text/plain": [
       "<folium.folium.Map at 0x7f9641820f98>"
      ]
     },
     "execution_count": 679,
     "metadata": {},
     "output_type": "execute_result"
    }
   ],
   "source": [
    "# draw area on map\n",
    "\n",
    "#initialize new map\n",
    "tomtom_map = init_map(api_key, lat_area, lon_area)\n",
    "\n",
    "\n",
    "# add polygons to a map\n",
    "folium.GeoJson(Polygon).add_to(tomtom_map)\n",
    "\n",
    "tomtom_map"
   ]
  },
  {
   "cell_type": "code",
   "execution_count": 684,
   "metadata": {},
   "outputs": [],
   "source": [
    "result = get_cafes_around_point(lat_area, lon_area, search_limit, search_radius, category)"
   ]
  },
  {
   "cell_type": "code",
   "execution_count": 685,
   "metadata": {},
   "outputs": [
    {
     "data": {
      "text/plain": [
       "4"
      ]
     },
     "execution_count": 685,
     "metadata": {},
     "output_type": "execute_result"
    }
   ],
   "source": [
    "#\n",
    "len(result['results'])"
   ]
  },
  {
   "cell_type": "code",
   "execution_count": 686,
   "metadata": {
    "scrolled": false
   },
   "outputs": [
    {
     "data": {
      "text/html": [
       "<div style=\"width:100%;\"><div style=\"position:relative;width:100%;height:0;padding-bottom:60%;\"><iframe src=\"data:text/html;charset=utf-8;base64,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\" style=\"position:absolute;width:100%;height:100%;left:0;top:0;border:none !important;\" allowfullscreen webkitallowfullscreen mozallowfullscreen></iframe></div></div>"
      ],
      "text/plain": [
       "<folium.folium.Map at 0x7f9641820f98>"
      ]
     },
     "execution_count": 686,
     "metadata": {},
     "output_type": "execute_result"
    }
   ],
   "source": [
    "# Add POIs one by one to the map\n",
    "for poi in result['results']:\n",
    "    folium.Marker(location=tuple(poi['position'].values()),\n",
    "                  popup=str(poi['poi']['name']), \n",
    "                  icon=folium.Icon(color='green', icon='glyphicon-star')\n",
    "                  #icon=icon\n",
    "             ).add_to(tomtom_map)\n",
    "tomtom_map"
   ]
  },
  {
   "cell_type": "markdown",
   "metadata": {},
   "source": [
    "\n",
    "> This service just considers one point and try to get the nearest places within a radius. **What about the other places along the route from home point to destination point! Maybe there are better options!**"
   ]
  },
  {
   "cell_type": "markdown",
   "metadata": {},
   "source": [
    "2. **TomTom [Along Route Search](https://developer.tomtom.com/search-api/search-api-documentation-search/along-route-search) service**:\n",
    "    - This service allows you to perform a search for POIs along a specified route (from home point to destination point).\n",
    "\n",
    "    - This search is constrained by specifying a detour time-limiting measure.\n",
    "    \n",
    "    - To specify the route, we should provide points along it (from Home point to Destination point) \n",
    "         - The minimum number of route points is 2.\n",
    "         - A good scenario for route points is using a start point and an end point and some middle points, therefore in our request here we will try to use 6 points to describe our route:\n",
    "            - Home point (start point)\n",
    "            - 4 middle points\n",
    "            - Destination point (end point)"
   ]
  },
  {
   "cell_type": "markdown",
   "metadata": {},
   "source": [
    "> **i. Finding all cafes along the route (between home and destination point)**"
   ]
  },
  {
   "cell_type": "code",
   "execution_count": 305,
   "metadata": {},
   "outputs": [],
   "source": [
    "# helper func:"
   ]
  },
  {
   "cell_type": "code",
   "execution_count": 306,
   "metadata": {},
   "outputs": [],
   "source": [
    "def get_route_points(points, num_points):\n",
    "    \"\"\"Function returns distributed selected number of points along route (array of points)\"\"\"\n",
    "    \n",
    "    # calculate step between each 2 points\n",
    "    step = len(points)// (num_points + 2) # num_points +1 for start point +1 for end points\n",
    "    \n",
    "    # return points\n",
    "    return [{'lat':points[step * i][0], 'lon':points[step * i][1]} for i in range(1,num_points+1)]"
   ]
  },
  {
   "cell_type": "code",
   "execution_count": 307,
   "metadata": {},
   "outputs": [],
   "source": [
    "def tomtom_category_sets():\n",
    "    \"\"\"Function to dataframe of categories supported by tomtom api\"\"\"\n",
    "    \n",
    "    res = requests.get(f'https://api.tomtom.com/search/2/poiCategories.json?key={api_key}')\n",
    "    if res.status_code == 200:\n",
    "        cat_res = json.loads(res.text)\n",
    "        cat_df = pd.DataFrame(cat_res['poiCategories'])\n",
    "        return cat_df"
   ]
  },
  {
   "cell_type": "code",
   "execution_count": 308,
   "metadata": {
    "scrolled": true
   },
   "outputs": [
    {
     "data": {
      "text/html": [
       "<div>\n",
       "<style scoped>\n",
       "    .dataframe tbody tr th:only-of-type {\n",
       "        vertical-align: middle;\n",
       "    }\n",
       "\n",
       "    .dataframe tbody tr th {\n",
       "        vertical-align: top;\n",
       "    }\n",
       "\n",
       "    .dataframe thead th {\n",
       "        text-align: right;\n",
       "    }\n",
       "</style>\n",
       "<table border=\"1\" class=\"dataframe\">\n",
       "  <thead>\n",
       "    <tr style=\"text-align: right;\">\n",
       "      <th></th>\n",
       "      <th>id</th>\n",
       "      <th>name</th>\n",
       "      <th>childCategoryIds</th>\n",
       "      <th>synonyms</th>\n",
       "    </tr>\n",
       "  </thead>\n",
       "  <tbody>\n",
       "    <tr>\n",
       "      <th>0</th>\n",
       "      <td>7320</td>\n",
       "      <td>Sports Center</td>\n",
       "      <td>[7320002, 7320003, 7320005]</td>\n",
       "      <td>[Gym, Indoors Sports, Sports Centre]</td>\n",
       "    </tr>\n",
       "    <tr>\n",
       "      <th>1</th>\n",
       "      <td>7374</td>\n",
       "      <td>Stadium</td>\n",
       "      <td>[7374002, 7374009, 7374012, 7374003, 7374010, ...</td>\n",
       "      <td>[Arena, Gymnasium, Sports Ground, Sports Stadium]</td>\n",
       "    </tr>\n",
       "    <tr>\n",
       "      <th>2</th>\n",
       "      <td>7315</td>\n",
       "      <td>Restaurant</td>\n",
       "      <td>[7315081, 7315002, 7315082, 7315003, 7315083, ...</td>\n",
       "      <td>[Dining, Eatery, Eating House, Eating Place]</td>\n",
       "    </tr>\n",
       "    <tr>\n",
       "      <th>3</th>\n",
       "      <td>9376</td>\n",
       "      <td>Café/Pub</td>\n",
       "      <td>[9376002, 9376006, 9376004, 9376007, 9376003, ...</td>\n",
       "      <td>[Ale House, Public House, Tavern]</td>\n",
       "    </tr>\n",
       "    <tr>\n",
       "      <th>4</th>\n",
       "      <td>9663</td>\n",
       "      <td>Health Care Service</td>\n",
       "      <td>[9663005, 9663004, 9663003, 9663002]</td>\n",
       "      <td>[]</td>\n",
       "    </tr>\n",
       "  </tbody>\n",
       "</table>\n",
       "</div>"
      ],
      "text/plain": [
       "     id                 name  \\\n",
       "0  7320        Sports Center   \n",
       "1  7374              Stadium   \n",
       "2  7315           Restaurant   \n",
       "3  9376             Café/Pub   \n",
       "4  9663  Health Care Service   \n",
       "\n",
       "                                    childCategoryIds  \\\n",
       "0                        [7320002, 7320003, 7320005]   \n",
       "1  [7374002, 7374009, 7374012, 7374003, 7374010, ...   \n",
       "2  [7315081, 7315002, 7315082, 7315003, 7315083, ...   \n",
       "3  [9376002, 9376006, 9376004, 9376007, 9376003, ...   \n",
       "4               [9663005, 9663004, 9663003, 9663002]   \n",
       "\n",
       "                                            synonyms  \n",
       "0               [Gym, Indoors Sports, Sports Centre]  \n",
       "1  [Arena, Gymnasium, Sports Ground, Sports Stadium]  \n",
       "2       [Dining, Eatery, Eating House, Eating Place]  \n",
       "3                  [Ale House, Public House, Tavern]  \n",
       "4                                                 []  "
      ]
     },
     "execution_count": 308,
     "metadata": {},
     "output_type": "execute_result"
    }
   ],
   "source": [
    "# specify paramters for API (you could check out folloing paramters and more using link above)\n",
    "\n",
    "# route points points[0][0], points[0][1],\n",
    "route_dict={\"points\": [{\"lat\": points[0][0], \"lon\": points[0][1]}] #start point\n",
    "            + get_route_points(points, 4) # 4 middle points\n",
    "            + [{\"lat\": points[-1][0],\"lon\": points[-1][1]}] # end point\n",
    "           }\n",
    "api_points = {\"route\":route_dict}\n",
    "\n",
    "# maximum detour time limit (sec)\n",
    "max_detour_time=200\n",
    "\n",
    "\n",
    "# maximum number of responses that will be returned.\n",
    "max_res_limit = 20\n",
    "\n",
    "\n",
    "# return calculation of the distance between the start of the route and the starting point of the detour to a POI.\n",
    "detour_offset = True\n",
    "\n",
    "# categories to restrict the result to the Points Of Interest of specific categories. \n",
    "# The list of categories can be discovered using the POI Categories endpoint.\n",
    "category_set_df = tomtom_category_sets()\n",
    "category_set_df.head()"
   ]
  },
  {
   "cell_type": "code",
   "execution_count": 762,
   "metadata": {},
   "outputs": [],
   "source": [
    "# save some categories for later use in streamlit app\n",
    "category_set_lang_df = category_set_df[['id', 'name']].iloc[[121, 2, 206, 8, 215, 220, 587, 579, 577, 5, 39, 11, 260, 25,  147,   335],:].copy()"
   ]
  },
  {
   "cell_type": "code",
   "execution_count": 763,
   "metadata": {},
   "outputs": [
    {
     "data": {
      "text/html": [
       "<div>\n",
       "<style scoped>\n",
       "    .dataframe tbody tr th:only-of-type {\n",
       "        vertical-align: middle;\n",
       "    }\n",
       "\n",
       "    .dataframe tbody tr th {\n",
       "        vertical-align: top;\n",
       "    }\n",
       "\n",
       "    .dataframe thead th {\n",
       "        text-align: right;\n",
       "    }\n",
       "</style>\n",
       "<table border=\"1\" class=\"dataframe\">\n",
       "  <thead>\n",
       "    <tr style=\"text-align: right;\">\n",
       "      <th></th>\n",
       "      <th>id</th>\n",
       "      <th>name</th>\n",
       "      <th>name_ar</th>\n",
       "    </tr>\n",
       "  </thead>\n",
       "  <tbody>\n",
       "    <tr>\n",
       "      <th>121</th>\n",
       "      <td>9376002</td>\n",
       "      <td>Café</td>\n",
       "      <td>قهوة</td>\n",
       "    </tr>\n",
       "    <tr>\n",
       "      <th>2</th>\n",
       "      <td>7315</td>\n",
       "      <td>Restaurant</td>\n",
       "      <td>مطعم</td>\n",
       "    </tr>\n",
       "    <tr>\n",
       "      <th>206</th>\n",
       "      <td>7315015</td>\n",
       "      <td>Fast Food</td>\n",
       "      <td>الوجبات السريعة</td>\n",
       "    </tr>\n",
       "    <tr>\n",
       "      <th>8</th>\n",
       "      <td>7332</td>\n",
       "      <td>Market</td>\n",
       "      <td>سوق</td>\n",
       "    </tr>\n",
       "    <tr>\n",
       "      <th>215</th>\n",
       "      <td>9361018</td>\n",
       "      <td>Bakery</td>\n",
       "      <td>مخبز</td>\n",
       "    </tr>\n",
       "    <tr>\n",
       "      <th>220</th>\n",
       "      <td>9361023</td>\n",
       "      <td>Grocery Store</td>\n",
       "      <td>بقالة</td>\n",
       "    </tr>\n",
       "    <tr>\n",
       "      <th>587</th>\n",
       "      <td>7328</td>\n",
       "      <td>Bank</td>\n",
       "      <td>مصرف</td>\n",
       "    </tr>\n",
       "    <tr>\n",
       "      <th>579</th>\n",
       "      <td>7397</td>\n",
       "      <td>ATM</td>\n",
       "      <td>ماكينة الصراف الآلي</td>\n",
       "    </tr>\n",
       "    <tr>\n",
       "      <th>577</th>\n",
       "      <td>7311</td>\n",
       "      <td>Gas Station</td>\n",
       "      <td>محطة غاز</td>\n",
       "    </tr>\n",
       "    <tr>\n",
       "      <th>5</th>\n",
       "      <td>7321</td>\n",
       "      <td>Hospital</td>\n",
       "      <td>مستشفى</td>\n",
       "    </tr>\n",
       "    <tr>\n",
       "      <th>39</th>\n",
       "      <td>9155</td>\n",
       "      <td>Car Wash</td>\n",
       "      <td>غسيل سيارة</td>\n",
       "    </tr>\n",
       "    <tr>\n",
       "      <th>11</th>\n",
       "      <td>7324</td>\n",
       "      <td>Post Office</td>\n",
       "      <td>مكتب البريد</td>\n",
       "    </tr>\n",
       "    <tr>\n",
       "      <th>260</th>\n",
       "      <td>7314003</td>\n",
       "      <td>Hotel</td>\n",
       "      <td>الفندق</td>\n",
       "    </tr>\n",
       "    <tr>\n",
       "      <th>25</th>\n",
       "      <td>7372</td>\n",
       "      <td>School</td>\n",
       "      <td>مدرسة</td>\n",
       "    </tr>\n",
       "    <tr>\n",
       "      <th>147</th>\n",
       "      <td>9361006</td>\n",
       "      <td>Clothing Shop</td>\n",
       "      <td>محل ملابس</td>\n",
       "    </tr>\n",
       "    <tr>\n",
       "      <th>335</th>\n",
       "      <td>7339003</td>\n",
       "      <td>Mosque</td>\n",
       "      <td>مسجد</td>\n",
       "    </tr>\n",
       "  </tbody>\n",
       "</table>\n",
       "</div>"
      ],
      "text/plain": [
       "          id           name              name_ar\n",
       "121  9376002           Café                 قهوة\n",
       "2       7315     Restaurant                 مطعم\n",
       "206  7315015      Fast Food      الوجبات السريعة\n",
       "8       7332         Market                  سوق\n",
       "215  9361018         Bakery                 مخبز\n",
       "220  9361023  Grocery Store                بقالة\n",
       "587     7328           Bank                 مصرف\n",
       "579     7397            ATM  ماكينة الصراف الآلي\n",
       "577     7311    Gas Station             محطة غاز\n",
       "5       7321       Hospital               مستشفى\n",
       "39      9155       Car Wash           غسيل سيارة\n",
       "11      7324    Post Office          مكتب البريد\n",
       "260  7314003          Hotel               الفندق\n",
       "25      7372         School                مدرسة\n",
       "147  9361006  Clothing Shop            محل ملابس\n",
       "335  7339003         Mosque                 مسجد"
      ]
     },
     "execution_count": 763,
     "metadata": {},
     "output_type": "execute_result"
    }
   ],
   "source": [
    "translator = Translator()\n",
    "category_set_lang_df['name_ar'] = category_set_lang_df.name.map(lambda x: translator.translate(x, dest='ar').text)\n",
    "category_set_lang_df"
   ]
  },
  {
   "cell_type": "code",
   "execution_count": 764,
   "metadata": {},
   "outputs": [],
   "source": [
    "# save it to load it again in the streamlit app\n",
    "with open('help_files/categories.pkl', 'wb') as f:\n",
    "    pickle.dump(category_set_lang_df, f)"
   ]
  },
  {
   "cell_type": "code",
   "execution_count": 378,
   "metadata": {},
   "outputs": [],
   "source": [
    "def get_cafes_along_route(detour_time, res_limit, cafe_brand=None):\n",
    "    \"\"\"Function to retrieve cafes spread over given route\"\"\"\n",
    "    # Gather all paramters in dict\n",
    "    params_ = {'maxDetourTime' : detour_time,\n",
    "               'detourOffset' : json.dumps(True),\n",
    "               'limit' : res_limit,\n",
    "               'categorySet' : category_set_df[category_set_df['name']=='Café/Pub']['id'],\n",
    "               'key': api_key\n",
    "              } \n",
    "    # add place brand if it's provided\n",
    "    if cafe_brand:\n",
    "        params_['brandSet'] = cafe_brand\n",
    "            \n",
    "    # create a request\n",
    "    headers = {'Content-type': 'application/json'}\n",
    "    response = requests.post(f'https://api.tomtom.com/search/2/searchAlongRoute/{category}.json',\n",
    "                             json=api_points,\n",
    "                             headers=headers,\n",
    "                             params=params_)\n",
    "    \n",
    "    # check response status to make sure it went through\n",
    "    if response.status_code == 200:\n",
    "        res = json.loads(response.text) \n",
    "    return res   "
   ]
  },
  {
   "cell_type": "code",
   "execution_count": 344,
   "metadata": {},
   "outputs": [],
   "source": [
    "res = get_cafes_along_route(max_detour_time, max_res_limit)"
   ]
  },
  {
   "cell_type": "code",
   "execution_count": 345,
   "metadata": {},
   "outputs": [
    {
     "data": {
      "text/plain": [
       "dict_keys(['summary', 'results'])"
      ]
     },
     "execution_count": 345,
     "metadata": {},
     "output_type": "execute_result"
    }
   ],
   "source": [
    "# check response\n",
    "res.keys()"
   ]
  },
  {
   "cell_type": "code",
   "execution_count": 346,
   "metadata": {},
   "outputs": [
    {
     "data": {
      "text/plain": [
       "20"
      ]
     },
     "execution_count": 346,
     "metadata": {},
     "output_type": "execute_result"
    }
   ],
   "source": [
    "# show how many POI returned\n",
    "res['summary']['totalResults']"
   ]
  },
  {
   "cell_type": "code",
   "execution_count": 347,
   "metadata": {},
   "outputs": [
    {
     "data": {
      "text/plain": [
       "{'type': 'POI',\n",
       " 'id': 'g6JpZK82ODIwMDkwMDA1MzIxNDShY6NTQVWhdqdVbmlmaWVk',\n",
       " 'score': 2.997896194458008,\n",
       " 'dist': 116.90260388771955,\n",
       " 'info': 'search:ta:682009000532144-SA',\n",
       " 'poi': {'name': 'Al Awaleen Coffee',\n",
       "  'categorySet': [{'id': 9376006}],\n",
       "  'categories': ['café/pub', 'coffee shop'],\n",
       "  'classifications': [{'code': 'CAFE_PUB',\n",
       "    'names': [{'nameLocale': 'en-US', 'name': 'café/pub'},\n",
       "     {'nameLocale': 'en-US', 'name': 'coffee shop'}]}]},\n",
       " 'address': {'streetName': 'Makkah Al Mukarrama Road',\n",
       "  'municipalitySubdivision': 'Al Olaya',\n",
       "  'municipality': 'Riyadh',\n",
       "  'countrySubdivision': 'Riyadh Province',\n",
       "  'postalCode': '12221',\n",
       "  'countryCode': 'SA',\n",
       "  'country': 'Saudi Arabia',\n",
       "  'countryCodeISO3': 'SAU',\n",
       "  'freeformAddress': 'Makkah Al Mukarrama Road, Riyadh Province, Riyadh',\n",
       "  'localName': 'Riyadh'},\n",
       " 'position': {'lat': 24.6827, 'lon': 46.69676},\n",
       " 'viewport': {'topLeftPoint': {'lat': 24.6836, 'lon': 46.69577},\n",
       "  'btmRightPoint': {'lat': 24.6818, 'lon': 46.69775}},\n",
       " 'entryPoints': [{'type': 'main',\n",
       "   'position': {'lat': 24.68252, 'lon': 46.69685}}],\n",
       " 'detourTime': 12,\n",
       " 'detourDistance': 2,\n",
       " 'detourOffset': 2498}"
      ]
     },
     "execution_count": 347,
     "metadata": {},
     "output_type": "execute_result"
    }
   ],
   "source": [
    "# show how every place in the result\n",
    "res['results'][4]"
   ]
  },
  {
   "cell_type": "code",
   "execution_count": 348,
   "metadata": {
    "scrolled": false
   },
   "outputs": [
    {
     "name": "stdout",
     "output_type": "stream",
     "text": [
      "\u001b[1m1. Naomy for Organic Tea\u001b[0m\n",
      "Naomy for Organic Tea , Prince Muhammad Bin Abdulaziz Road , Al Olaya\n",
      "\n",
      "\n",
      "\u001b[1m2. Dunkin'\u001b[0m\n",
      "Dunkin' , King Fahd Road , Al Olaya\n",
      "\n",
      "\n",
      "\u001b[1m3. Al Awaleen Coffee - Jalsat Shaabiyah\u001b[0m\n",
      "Al Awaleen Coffee - Jalsat Shaabiyah , Makkah Al Mukarrama Road , Al Olaya\n",
      "\n",
      "\n",
      "\u001b[1m4. Java Time\u001b[0m\n",
      "Java Time , Makkah Al Mukarrama Road , Al Olaya\n",
      "\n",
      "\n",
      "\u001b[1m5. Al Awaleen Coffee\u001b[0m\n",
      "Al Awaleen Coffee , Makkah Al Mukarrama Road , Al Olaya\n",
      "\n",
      "\n",
      "\u001b[1m6. Najdeyat Haleeb and Heal\u001b[0m\n",
      "Najdeyat Haleeb and Heal , Makkah Al Mukarrama Road , Al Olaya\n",
      "\n",
      "\n",
      "\u001b[1m7. Roma Cafe\u001b[0m\n",
      "Roma Cafe ,  , Al Olaya\n",
      "\n",
      "\n",
      "\u001b[1m8. Dan Kon\u001b[0m\n",
      "Dan Kon , Madaen Saleh Street , Al Olaya\n",
      "\n",
      "\n",
      "\u001b[1m9. Dallatna Lounge\u001b[0m\n",
      "Dallatna Lounge , Prince Muhammad Bin Abdulaziz Road , Al Olaya\n",
      "\n",
      "\n",
      "\u001b[1m10. Coffee Net\u001b[0m\n",
      "Coffee Net , Wady Al Tairy Street , Al Olaya\n",
      "\n",
      "\n",
      "\u001b[1m11. Paris Coffee\u001b[0m\n",
      "Paris Coffee , Wadi Al Amaria Street , Al Olaya\n",
      "\n",
      "\n",
      "\u001b[1m12. Black House\u001b[0m\n",
      "Black House , 50 Street , Al Olaya\n",
      "\n",
      "\n",
      "\u001b[1m13. London Pastries And Coffee\u001b[0m\n",
      "London Pastries And Coffee ,  , Al Olaya\n",
      "\n",
      "\n",
      "\u001b[1m14. Madar Al Hayah Center For Internet\u001b[0m\n",
      "Madar Al Hayah Center For Internet , Wadi Al Dawaser Street , Al Olaya\n",
      "\n",
      "\n",
      "\u001b[1m15. Coffee Day\u001b[0m\n",
      "Coffee Day , Al Moatasem Street , Al Olaya\n",
      "\n",
      "\n",
      "\u001b[1m16. Seven Cafe\u001b[0m\n",
      "Seven Cafe ,  , Al Olaya\n",
      "\n",
      "\n",
      "\u001b[1m17. Dunkin'\u001b[0m\n",
      "Dunkin' , Haba Allah Al Samry Alley , Al Olaya\n",
      "\n",
      "\n",
      "\u001b[1m18. Al Khuzama\u001b[0m\n",
      "Al Khuzama , Prince Mansoor Bin Abulaziz Street , Al Olaya\n",
      "\n",
      "\n",
      "\u001b[1m19. Dunkin'\u001b[0m\n",
      "Dunkin' , Makkah Al Mukarrama Road , Al Olaya\n",
      "\n",
      "\n",
      "\u001b[1m20. Al Wahah Place Coffee\u001b[0m\n",
      "Al Wahah Place Coffee , 6 Street , Al Olaya\n",
      "\n",
      "\n"
     ]
    }
   ],
   "source": [
    "# show returned places names and address\n",
    "for ind, i in enumerate(res['results']):\n",
    "    print(\"\\033[1m\"+f\"{ind+1}. {i['poi']['name']}\"+\"\\033[0m\")\n",
    "    print(i['poi']['name'], ',', i.get('address').get('streetName',''),',', i['address']['municipalitySubdivision'])\n",
    "    print('\\n')"
   ]
  },
  {
   "cell_type": "markdown",
   "metadata": {},
   "source": [
    "### Visualize the map that shows the following:\n",
    "    - Home point \n",
    "    - Destination point\n",
    "    - The shortest route between both points\n",
    "    - Returned places:\n",
    "        - Each place marker has a number indicate the oreder of the place based on its detour time.\n",
    "            - ex: the place with the shortest derout time will have number 1 then the second shortest place will have number 2 and so on. \n",
    "        - Each place has a different coloer and size repersents its derout time\n",
    "            - ex: the place with the shortest derout time will have darkest color and bigger size then the second shortest place be little bit lighter and smaller and so on. \n",
    "        - Each place has 2 popup windows:\n",
    "            1. Popup window that showup when pressing on the marker to give you some location's information (name, full address) .\n",
    "            2. Popup window that showup when  hovering over the marker to give you some location's information (name, derout time) ."
   ]
  },
  {
   "cell_type": "code",
   "execution_count": 351,
   "metadata": {
    "scrolled": false
   },
   "outputs": [],
   "source": [
    "def draw_along_search_map(res):\n",
    "    \"\"\"Function to draw returned result of along_search service on map\"\"\"\n",
    "    \n",
    "    # draw home, destination, shortest route between them\n",
    "    tomtom_map = draw_route(points)\n",
    "\n",
    "    # create heat colors scale for markers to show Priority of the place\n",
    "    # we chose here blue gradients\n",
    "    colors = list(Color(\"#000080\").range_to(Color(\"#d5e5ff\"),max_res_limit))\n",
    "\n",
    "    # for each returened place\n",
    "    for ind, poi in enumerate(res['results']):\n",
    "\n",
    "        # calculate detour time for this place in minutes \n",
    "        detour_h, detour_min = convert_sec_to_h_m(poi['detourTime'], False)\n",
    "\n",
    "        # create marker on the place has own size and color\n",
    "        icon_ = BeautifyIcon(icon_shape='marker',\n",
    "                             number=ind,\n",
    "                             spin=True,\n",
    "                             text_color='gray',\n",
    "                             icon_size=(40-ind, 40-ind),\n",
    "                             border_color =str(colors[ind]),\n",
    "                             background_color=str(colors[ind]),\n",
    "                             inner_icon_style=\"font-size:12px;padding-top:-5px;\"\n",
    "                            )\n",
    "\n",
    "        # add a marker for each lat, lon\n",
    "        folium.Marker(location=tuple(poi['position'].values()),\n",
    "                      popup=folium.Popup(f\"<b>{poi['poi']['name']}</b> <br>{poi.get('address').get('streetName','')}, {poi['address']['municipalitySubdivision']}\", max_width=100) , \n",
    "                      icon=icon_,\n",
    "                      tooltip=f\"<b>{poi['poi']['name']}</b> <br> ({detour_min} mins)\"\n",
    "                 ).add_to(tomtom_map)\n",
    "    return tomtom_map"
   ]
  },
  {
   "cell_type": "code",
   "execution_count": 352,
   "metadata": {},
   "outputs": [
    {
     "data": {
      "text/html": [
       "<div style=\"width:100%;\"><div style=\"position:relative;width:100%;height:0;padding-bottom:60%;\"><iframe src=\"data:text/html;charset=utf-8;base64,PCFET0NUWVBFIGh0bWw+CjxoZWFkPiAgICAKICAgIDxtZXRhIGh0dHAtZXF1aXY9ImNvbnRlbnQtdHlwZSIgY29udGVudD0idGV4dC9odG1sOyBjaGFyc2V0PVVURi04IiAvPgogICAgCiAgICAgICAgPHNjcmlwdD4KICAgICAgICAgICAgTF9OT19UT1VDSCA9IGZhbHNlOwogICAgICAgICAgICBMX0RJU0FCTEVfM0QgPSBmYWxzZTsKICAgICAgICA8L3NjcmlwdD4KICAgIAogICAgPHNjcmlwdCBzcmM9Imh0dHBzOi8vY2RuLmpzZGVsaXZyLm5ldC9ucG0vbGVhZmxldEAxLjQuMC9kaXN0L2xlYWZsZXQuanMiPjwvc2NyaXB0PgogICAgPHNjcmlwdCBzcmM9Imh0dHBzOi8vY29kZS5qcXVlcnkuY29tL2pxdWVyeS0xLjEyLjQubWluLmpzIj48L3NjcmlwdD4KICAgIDxzY3JpcHQgc3JjPSJodHRwczovL21heGNkbi5ib290c3RyYXBjZG4uY29tL2Jvb3RzdHJhcC8zLjIuMC9qcy9ib290c3RyYXAubWluLmpzIj48L3NjcmlwdD4KICAgIDxzY3JpcHQgc3JjPSJodHRwczovL2NkbmpzLmNsb3VkZmxhcmUuY29tL2FqYXgvbGlicy9MZWFmbGV0LmF3ZXNvbWUtbWFya2Vycy8yLjAuMi9sZWFmbGV0LmF3ZXNvbWUtbWFya2Vycy5qcyI+PC9zY3JpcHQ+CiAgICA8bGluayByZWw9InN0eWxlc2hlZXQiIGhyZWY9Imh0dHBzOi8vY2RuLmpzZGVsaXZyLm5ldC9ucG0vbGVhZmxldEAxLjQuMC9kaXN0L2xlYWZsZXQuY3NzIi8+CiAgICA8bGluayByZWw9InN0eWxlc2hlZXQiIGhyZWY9Imh0dHBzOi8vbWF4Y2RuLmJvb3RzdHJhcGNkbi5jb20vYm9vdHN0cmFwLzMuMi4wL2Nzcy9ib290c3RyYXAubWluLmNzcyIvPgogICAgPGxpbmsgcmVsPSJzdHlsZXNoZWV0IiBocmVmPSJodHRwczovL21heGNkbi5ib290c3RyYXBjZG4uY29tL2Jvb3RzdHJhcC8zLjIuMC9jc3MvYm9vdHN0cmFwLXRoZW1lLm1pbi5jc3MiLz4KICAgIDxsaW5rIHJlbD0ic3R5bGVzaGVldCIgaHJlZj0iaHR0cHM6Ly9tYXhjZG4uYm9vdHN0cmFwY2RuLmNvbS9mb250LWF3ZXNvbWUvNC42LjMvY3NzL2ZvbnQtYXdlc29tZS5taW4uY3NzIi8+CiAgICA8bGluayByZWw9InN0eWxlc2hlZXQiIGhyZWY9Imh0dHBzOi8vY2RuanMuY2xvdWRmbGFyZS5jb20vYWpheC9saWJzL0xlYWZsZXQuYXdlc29tZS1tYXJrZXJzLzIuMC4yL2xlYWZsZXQuYXdlc29tZS1tYXJrZXJzLmNzcyIvPgogICAgPGxpbmsgcmVsPSJzdHlsZXNoZWV0IiBocmVmPSJodHRwczovL3Jhd2Nkbi5naXRoYWNrLmNvbS9weXRob24tdmlzdWFsaXphdGlvbi9mb2xpdW0vbWFzdGVyL2ZvbGl1bS90ZW1wbGF0ZXMvbGVhZmxldC5hd2Vzb21lLnJvdGF0ZS5jc3MiLz4KICAgIDxzdHlsZT5odG1sLCBib2R5IHt3aWR0aDogMTAwJTtoZWlnaHQ6IDEwMCU7bWFyZ2luOiAwO3BhZGRpbmc6IDA7fTwvc3R5bGU+CiAgICA8c3R5bGU+I21hcCB7cG9zaXRpb246YWJzb2x1dGU7dG9wOjA7Ym90dG9tOjA7cmlnaHQ6MDtsZWZ0OjA7fTwvc3R5bGU+CiAgICAKICAgICAgICAgICAgPG1ldGEgbmFtZT0idmlld3BvcnQiIGNvbnRlbnQ9IndpZHRoPWRldmljZS13aWR0aCwKICAgICAgICAgICAgICAgIGluaXRpYWwtc2NhbGU9MS4wLCBtYXhpbXVtLXNjYWxlPTEuMCwgdXNlci1zY2FsYWJsZT1ubyIgLz4KICAgICAgICAgICAgPHN0eWxlPgogICAgICAgICAgICAgICAgI21hcF84MDU5Nzg1YTVjZjI0MzFkOThlODgwMGZlNDNkZWQ1YyB7CiAgICAgICAgICAgICAgICAgICAgcG9zaXRpb246IHJlbGF0aXZlOwogICAgICAgICAgICAgICAgICAgIHdpZHRoOiAxMDAuMCU7CiAgICAgICAgICAgICAgICAgICAgaGVpZ2h0OiAxMDAuMCU7CiAgICAgICAgICAgICAgICAgICAgbGVmdDogMC4wJTsKICAgICAgICAgICAgICAgICAgICB0b3A6IDAuMCU7CiAgICAgICAgICAgICAgICB9CiAgICAgICAgICAgIDwvc3R5bGU+CiAgICAgICAgCiAgICA8bGluayByZWw9InN0eWxlc2hlZXQiIGhyZWY9Imh0dHBzOi8vcmF3Y2RuLmdpdGhhY2suY29tL21hcnNsYW4zOTAvQmVhdXRpZnlNYXJrZXIvbWFzdGVyL2xlYWZsZXQtYmVhdXRpZnktbWFya2VyLWljb24uY3NzIi8+CiAgICA8c2NyaXB0IHNyYz0iaHR0cHM6Ly9yYXdjZG4uZ2l0aGFjay5jb20vbWFyc2xhbjM5MC9CZWF1dGlmeU1hcmtlci9tYXN0ZXIvbGVhZmxldC1iZWF1dGlmeS1tYXJrZXItaWNvbi5qcyI+PC9zY3JpcHQ+CjwvaGVhZD4KPGJvZHk+ICAgIAogICAgCiAgICAgICAgICAgIDxkaXYgY2xhc3M9ImZvbGl1bS1tYXAiIGlkPSJtYXBfODA1OTc4NWE1Y2YyNDMxZDk4ZTg4MDBmZTQzZGVkNWMiID48L2Rpdj4KICAgICAgICAKPC9ib2R5Pgo8c2NyaXB0PiAgICAKICAgIAogICAgICAgICAgICB2YXIgbWFwXzgwNTk3ODVhNWNmMjQzMWQ5OGU4ODAwZmU0M2RlZDVjID0gTC5tYXAoCiAgICAgICAgICAgICAgICAibWFwXzgwNTk3ODVhNWNmMjQzMWQ5OGU4ODAwZmU0M2RlZDVjIiwKICAgICAgICAgICAgICAgIHsKICAgICAgICAgICAgICAgICAgICBjZW50ZXI6IFsyNC42ODQ3Njk1NTY5NjIwMjgsIDQ2LjY5Mjk3MDA2MzI5MTEzXSwKICAgICAgICAgICAgICAgICAgICBjcnM6IEwuQ1JTLkVQU0czODU3LAogICAgICAgICAgICAgICAgICAgIHpvb206IDE0LAogICAgICAgICAgICAgICAgICAgIHpvb21Db250cm9sOiB0cnVlLAogICAgICAgICAgICAgICAgICAgIHByZWZlckNhbnZhczogZmFsc2UsCiAgICAgICAgICAgICAgICB9CiAgICAgICAgICAgICk7CgogICAgICAgICAgICAKCiAgICAgICAgCiAgICAKICAgICAgICAgICAgdmFyIHRpbGVfbGF5ZXJfNjE3NWEwMzI1ZDQ5NDdmY2I0ODQzMzhhOGM0OWUwNjMgPSBMLnRpbGVMYXllcigKICAgICAgICAgICAgICAgICJodHRwOi8ve3N9LmFwaS50b210b20uY29tL21hcC8xL3RpbGUvYmFzaWMvbWFpbi97en0ve3h9L3t5fS5wbmc/dGlsZVNpemU9NTEyXHUwMDI2a2V5PVBBcHZreXdzdjZLZjdvQkJIanh2b2VScDl6R0RLRmRwIiwKICAgICAgICAgICAgICAgIHsiYXR0cmlidXRpb24iOiAiVG9tVG9tIiwgImRldGVjdFJldGluYSI6IGZhbHNlLCAibWF4TmF0aXZlWm9vbSI6IDE4LCAibWF4Wm9vbSI6IDE4LCAibWluWm9vbSI6IDAsICJub1dyYXAiOiBmYWxzZSwgIm9wYWNpdHkiOiAxLCAic3ViZG9tYWlucyI6ICJhYmMiLCAidG1zIjogZmFsc2V9CiAgICAgICAgICAgICkuYWRkVG8obWFwXzgwNTk3ODVhNWNmMjQzMWQ5OGU4ODAwZmU0M2RlZDVjKTsKICAgICAgICAKICAgIAogICAgICAgICAgICAgICAgdmFyIGxhdF9sbmdfcG9wdXBfYmU5ODY2ZTM5NTI1NDY5NzgzMjlmMjcxOGJkMWY0YWUgPSBMLnBvcHVwKCk7CiAgICAgICAgICAgICAgICBmdW5jdGlvbiBsYXRMbmdQb3AoZSkgewogICAgICAgICAgICAgICAgICAgIGxhdF9sbmdfcG9wdXBfYmU5ODY2ZTM5NTI1NDY5NzgzMjlmMjcxOGJkMWY0YWUKICAgICAgICAgICAgICAgICAgICAgICAgLnNldExhdExuZyhlLmxhdGxuZykKICAgICAgICAgICAgICAgICAgICAgICAgLnNldENvbnRlbnQoIkxhdGl0dWRlOiAiICsgZS5sYXRsbmcubGF0LnRvRml4ZWQoNCkgKwogICAgICAgICAgICAgICAgICAgICAgICAgICAgICAgICAgICAiPGJyPkxvbmdpdHVkZTogIiArIGUubGF0bG5nLmxuZy50b0ZpeGVkKDQpKQogICAgICAgICAgICAgICAgICAgICAgICAub3Blbk9uKG1hcF84MDU5Nzg1YTVjZjI0MzFkOThlODgwMGZlNDNkZWQ1Yyk7CiAgICAgICAgICAgICAgICAgICAgfQogICAgICAgICAgICAgICAgbWFwXzgwNTk3ODVhNWNmMjQzMWQ5OGU4ODAwZmU0M2RlZDVjLm9uKCdjbGljaycsIGxhdExuZ1BvcCk7CiAgICAgICAgICAgIAogICAgCiAgICAgICAgICAgIHZhciBtYXJrZXJfYzRjMmQ5MzllMmMzNGQxY2IwNTI4OGUyNTY3N2MxYzYgPSBMLm1hcmtlcigKICAgICAgICAgICAgICAgIFsyNC42ODYxLCA0Ni43MTEyN10sCiAgICAgICAgICAgICAgICB7fQogICAgICAgICAgICApLmFkZFRvKG1hcF84MDU5Nzg1YTVjZjI0MzFkOThlODgwMGZlNDNkZWQ1Yyk7CiAgICAgICAgCiAgICAKICAgICAgICAgICAgdmFyIGljb25fNzlhZWMzODJlNDJjNGIxOTllYTc4OGJmYzhkYjEzYzMgPSBMLkF3ZXNvbWVNYXJrZXJzLmljb24oCiAgICAgICAgICAgICAgICB7ImV4dHJhQ2xhc3NlcyI6ICJmYS1yb3RhdGUtMCIsICJpY29uIjogImdseXBoaWNvbi1zdGFyIiwgImljb25Db2xvciI6ICJ3aGl0ZSIsICJtYXJrZXJDb2xvciI6ICJibHVlIiwgInByZWZpeCI6ICJnbHlwaGljb24ifQogICAgICAgICAgICApOwogICAgICAgICAgICBtYXJrZXJfYzRjMmQ5MzllMmMzNGQxY2IwNTI4OGUyNTY3N2MxYzYuc2V0SWNvbihpY29uXzc5YWVjMzgyZTQyYzRiMTk5ZWE3ODhiZmM4ZGIxM2MzKTsKICAgICAgICAKICAgIAogICAgICAgIHZhciBwb3B1cF8wZWEzMmFkZGIxN2U0MjI4OGVhZjM3N2ZjNWEzMTk5NCA9IEwucG9wdXAoeyJtYXhXaWR0aCI6ICIxMDAlIn0pOwoKICAgICAgICAKICAgICAgICAgICAgdmFyIGh0bWxfN2M3Y2ZmZWZmODVmNDUwMzg0NjYwM2NjNmUxMDM5ZmUgPSAkKGA8ZGl2IGlkPSJodG1sXzdjN2NmZmVmZjg1ZjQ1MDM4NDY2MDNjYzZlMTAzOWZlIiBzdHlsZT0id2lkdGg6IDEwMC4wJTsgaGVpZ2h0OiAxMDAuMCU7Ij5Zb3VyIGxvY2F0aW9uPC9kaXY+YClbMF07CiAgICAgICAgICAgIHBvcHVwXzBlYTMyYWRkYjE3ZTQyMjg4ZWFmMzc3ZmM1YTMxOTk0LnNldENvbnRlbnQoaHRtbF83YzdjZmZlZmY4NWY0NTAzODQ2NjAzY2M2ZTEwMzlmZSk7CiAgICAgICAgCgogICAgICAgIG1hcmtlcl9jNGMyZDkzOWUyYzM0ZDFjYjA1Mjg4ZTI1Njc3YzFjNi5iaW5kUG9wdXAocG9wdXBfMGVhMzJhZGRiMTdlNDIyODhlYWYzNzdmYzVhMzE5OTQpCiAgICAgICAgOwoKICAgICAgICAKICAgIAogICAgCiAgICAgICAgICAgIHZhciBtYXJrZXJfZjQ0YTIwMTlmMWJhNDI2NzkzNmQ1MTk5ZmIxNDgwODUgPSBMLm1hcmtlcigKICAgICAgICAgICAgICAgIFsyNC42OTQ3NywgNDYuNjgwMjldLAogICAgICAgICAgICAgICAge30KICAgICAgICAgICAgKS5hZGRUbyhtYXBfODA1OTc4NWE1Y2YyNDMxZDk4ZTg4MDBmZTQzZGVkNWMpOwogICAgICAgIAogICAgCiAgICAgICAgICAgIHZhciBpY29uX2Q2ZWVmMjhkOTM2NjQ2MzA5MjI3Mjg3ZWI2Y2Y0MjQ3ID0gTC5Bd2Vzb21lTWFya2Vycy5pY29uKAogICAgICAgICAgICAgICAgeyJleHRyYUNsYXNzZXMiOiAiZmEtcm90YXRlLTAiLCAiaWNvbiI6ICJnbHlwaGljb24tc3RhciIsICJpY29uQ29sb3IiOiAid2hpdGUiLCAibWFya2VyQ29sb3IiOiAicmVkIiwgInByZWZpeCI6ICJnbHlwaGljb24ifQogICAgICAgICAgICApOwogICAgICAgICAgICBtYXJrZXJfZjQ0YTIwMTlmMWJhNDI2NzkzNmQ1MTk5ZmIxNDgwODUuc2V0SWNvbihpY29uX2Q2ZWVmMjhkOTM2NjQ2MzA5MjI3Mjg3ZWI2Y2Y0MjQ3KTsKICAgICAgICAKICAgIAogICAgICAgIHZhciBwb3B1cF85OGRiYjdmOWY4MjI0MmVjODA0M2Q5OGI5YTA3ODlkNiA9IEwucG9wdXAoeyJtYXhXaWR0aCI6ICIxMDAlIn0pOwoKICAgICAgICAKICAgICAgICAgICAgdmFyIGh0bWxfNjcwZTUzNWFlZTI3NGE3ZmFmZWEwYjg4M2FlZmJiOGEgPSAkKGA8ZGl2IGlkPSJodG1sXzY3MGU1MzVhZWUyNzRhN2ZhZmVhMGI4ODNhZWZiYjhhIiBzdHlsZT0id2lkdGg6IDEwMC4wJTsgaGVpZ2h0OiAxMDAuMCU7Ij5Zb3VyIGRlc3RpbmF0aW9uIHBvaW50PC9kaXY+YClbMF07CiAgICAgICAgICAgIHBvcHVwXzk4ZGJiN2Y5ZjgyMjQyZWM4MDQzZDk4YjlhMDc4OWQ2LnNldENvbnRlbnQoaHRtbF82NzBlNTM1YWVlMjc0YTdmYWZlYTBiODgzYWVmYmI4YSk7CiAgICAgICAgCgogICAgICAgIG1hcmtlcl9mNDRhMjAxOWYxYmE0MjY3OTM2ZDUxOTlmYjE0ODA4NS5iaW5kUG9wdXAocG9wdXBfOThkYmI3ZjlmODIyNDJlYzgwNDNkOThiOWEwNzg5ZDYpCiAgICAgICAgOwoKICAgICAgICAKICAgIAogICAgCiAgICAgICAgICAgIHZhciBwb2x5X2xpbmVfNzU2OGRmMDc5ZmVjNDFhYThjNDY3YTIwMDgwNDgzYTEgPSBMLnBvbHlsaW5lKAogICAgICAgICAgICAgICAgW1syNC42ODYxLCA0Ni43MTEyN10sIFsyNC42ODU5NywgNDYuNzExMzZdLCBbMjQuNjg1NzgsIDQ2LjcxMTI5XSwgWzI0LjY4NDcyLCA0Ni43MTA0OV0sIFsyNC42ODQ2MSwgNDYuNzEwNDFdLCBbMjQuNjg0MTgsIDQ2LjcxMDA2XSwgWzI0LjY4NDA0LCA0Ni43MDk5Nl0sIFsyNC42ODM2LCA0Ni43MDk1OV0sIFsyNC42ODI3LCA0Ni43MDg4OF0sIFsyNC42ODI0MiwgNDYuNzA4NjddLCBbMjQuNjgyMzMsIDQ2LjcwODZdLCBbMjQuNjgyLCA0Ni43MDgzNF0sIFsyNC42ODE0OSwgNDYuNzA3OTVdLCBbMjQuNjgxMzcsIDQ2LjcwNzg2XSwgWzI0LjY4MDQyLCA0Ni43MDcxMl0sIFsyNC42OCwgNDYuNzA2OF0sIFsyNC42Nzk3LCA0Ni43MDY1N10sIFsyNC42NzkxOSwgNDYuNzA2MThdLCBbMjQuNjc4ODIsIDQ2LjcwNTg5XSwgWzI0LjY3ODc3LCA0Ni43MDU4Nl0sIFsyNC42Nzg1NywgNDYuNzA1NjldLCBbMjQuNjc3OTksIDQ2LjcwNTI1XSwgWzI0LjY3NzcsIDQ2LjcwNTAyXSwgWzI0LjY3NjY2LCA0Ni43MDQyMl0sIFsyNC42NzY0NiwgNDYuNzA0MDddLCBbMjQuNjc2MzEsIDQ2LjcwMzk1XSwgWzI0LjY3NjE4LCA0Ni43MDM4NV0sIFsyNC42NzU5MywgNDYuNzAzNjZdLCBbMjQuNjc1ODksIDQ2LjcwMzQ4XSwgWzI0LjY3NTg5LCA0Ni43MDM0NF0sIFsyNC42NzU5LCA0Ni43MDM0M10sIFsyNC42NzU5NCwgNDYuNzAzMzZdLCBbMjQuNjc2ODQsIDQ2LjcwMjkyXSwgWzI0LjY3NzIzLCA0Ni43MDI3Ml0sIFsyNC42Nzc5NywgNDYuNzAyNF0sIFsyNC42Nzg0NywgNDYuNzAyMThdLCBbMjQuNjc4NiwgNDYuNzAyMTFdLCBbMjQuNjc5MTYsIDQ2LjcwMTg2XSwgWzI0LjY3OTMyLCA0Ni43MDE3OV0sIFsyNC42Nzk1NywgNDYuNzAxNjddLCBbMjQuNjc5NjQsIDQ2LjcwMTY0XSwgWzI0LjY3OTg4LCA0Ni43MDE1Ml0sIFsyNC42Nzk5NywgNDYuNzAxNDhdLCBbMjQuNjgwNDgsIDQ2LjcwMTIyXSwgWzI0LjY4MDk1LCA0Ni43MDA5OF0sIFsyNC42ODExOSwgNDYuNzAwODddLCBbMjQuNjgxNDUsIDQ2LjcwMDc1XSwgWzI0LjY4MTU1LCA0Ni43MDA3XSwgWzI0LjY4MTYzLCA0Ni43MDA2Nl0sIFsyNC42ODE5NCwgNDYuNzAwNDldLCBbMjQuNjgyMTEsIDQ2LjcwMDRdLCBbMjQuNjgyNDcsIDQ2LjcwMDIyXSwgWzI0LjY4MjU0LCA0Ni43MDAxOV0sIFsyNC42ODI5MSwgNDYuNjk5OThdLCBbMjQuNjgzMTgsIDQ2LjY5OTg0XSwgWzI0LjY4MzI2LCA0Ni42OTk4XSwgWzI0LjY4MzM4LCA0Ni42OTk3NV0sIFsyNC42ODM0MywgNDYuNjk5NzJdLCBbMjQuNjgzNDcsIDQ2LjY5OTY5XSwgWzI0LjY4MzQ5LCA0Ni42OTk2N10sIFsyNC42ODM1OSwgNDYuNjk5NjRdLCBbMjQuNjgzNjMsIDQ2LjY5OTYyXSwgWzI0LjY4MzY5LCA0Ni42OTk1OF0sIFsyNC42ODM2NiwgNDYuNjk5NTNdLCBbMjQuNjgzNjMsIDQ2LjY5OTQ1XSwgWzI0LjY4MzUzLCA0Ni42OTkyMl0sIFsyNC42ODM0MSwgNDYuNjk4OTRdLCBbMjQuNjgzMjYsIDQ2LjY5ODZdLCBbMjQuNjgzMTQsIDQ2LjY5ODMxXSwgWzI0LjY4MjI5LCA0Ni42OTY2OF0sIFsyNC42ODIxMSwgNDYuNjk2MjldLCBbMjQuNjgxOSwgNDYuNjk1OV0sIFsyNC42ODE4NywgNDYuNjk1ODZdLCBbMjQuNjgxNjgsIDQ2LjY5NTQyXSwgWzI0LjY4MTQ5LCA0Ni42OTQ5NV0sIFsyNC42ODA4NCwgNDYuNjkzMzldLCBbMjQuNjgwNSwgNDYuNjkyNTldLCBbMjQuNjgwNDgsIDQ2LjY5MjUxXSwgWzI0LjY4MDM3LCA0Ni42OTIxOF0sIFsyNC42ODAzMiwgNDYuNjkyMDJdLCBbMjQuNjgwMjgsIDQ2LjY5MTg5XSwgWzI0LjY4MDI3LCA0Ni42OTE4N10sIFsyNC42ODAyMiwgNDYuNjkxN10sIFsyNC42Nzk3OSwgNDYuNjkwNV0sIFsyNC42Nzk3NywgNDYuNjkwMl0sIFsyNC42Nzk3NywgNDYuNjkwMTVdLCBbMjQuNjc5NzYsIDQ2LjY4OTkzXSwgWzI0LjY3OTc2LCA0Ni42ODk3XSwgWzI0LjY3OTc3LCA0Ni42ODk0Nl0sIFsyNC42Nzk4MiwgNDYuNjg5MjVdLCBbMjQuNjc5ODcsIDQ2LjY4OTA3XSwgWzI0LjY3OTk0LCA0Ni42ODg4OV0sIFsyNC42ODAwMiwgNDYuNjg4NzFdLCBbMjQuNjgwMTMsIDQ2LjY4ODU0XSwgWzI0LjY4MDI2LCA0Ni42ODgzN10sIFsyNC42ODAzMiwgNDYuNjg4MzFdLCBbMjQuNjgwNDEsIDQ2LjY4ODIxXSwgWzI0LjY4MDQ1LCA0Ni42ODgxOV0sIFsyNC42ODA3LCA0Ni42ODhdLCBbMjQuNjgwODcsIDQ2LjY4NzldLCBbMjQuNjgxNzUsIDQ2LjY4NzQ2XSwgWzI0LjY4MTg4LCA0Ni42ODczMV0sIFsyNC42ODMwNiwgNDYuNjg2NzJdLCBbMjQuNjgzMzIsIDQ2LjY4NjU5XSwgWzI0LjY4MzQzLCA0Ni42ODY1N10sIFsyNC42ODM5MywgNDYuNjg2NF0sIFsyNC42ODQxMiwgNDYuNjg2MzddLCBbMjQuNjg0NDYsIDQ2LjY4NjIyXSwgWzI0LjY4NDYyLCA0Ni42ODYxNF0sIFsyNC42ODUzNCwgNDYuNjg1NzddLCBbMjQuNjg2MDYsIDQ2LjY4NTM5XSwgWzI0LjY4NjI0LCA0Ni42ODUzMV0sIFsyNC42ODczOSwgNDYuNjg0NzNdLCBbMjQuNjg4MzYsIDQ2LjY4NDI0XSwgWzI0LjY4ODUyLCA0Ni42ODQxNl0sIFsyNC42ODkwOCwgNDYuNjgzODhdLCBbMjQuNjg5NjYsIDQ2LjY4MzU5XSwgWzI0LjY5MTA5LCA0Ni42ODI4Nl0sIFsyNC42OTE0MywgNDYuNjgyNjldLCBbMjQuNjkxODcsIDQ2LjY4MjQ3XSwgWzI0LjY5MjMxLCA0Ni42ODIyNV0sIFsyNC42OTMzNCwgNDYuNjgxNzNdLCBbMjQuNjk0NDksIDQ2LjY4MTE0XSwgWzI0LjY5NDYzLCA0Ni42ODEwN10sIFsyNC42OTQ2OSwgNDYuNjgxMDRdLCBbMjQuNjk0ODQsIDQ2LjY4MDk2XSwgWzI0LjY5NTE0LCA0Ni42ODA4XSwgWzI0LjY5NTI4LCA0Ni42ODA3M10sIFsyNC42OTUyNiwgNDYuNjgwNjddLCBbMjQuNjk1MjMsIDQ2LjY4MDYyXSwgWzI0LjY5NTIxLCA0Ni42ODA1OF0sIFsyNC42OTUxOCwgNDYuNjgwNTJdLCBbMjQuNjk1MTYsIDQ2LjY4MDQ0XSwgWzI0LjY5NTEsIDQ2LjY4MDI3XSwgWzI0LjY5NTA1LCA0Ni42ODAwN10sIFsyNC42OTUwMSwgNDYuNjc5OTddLCBbMjQuNjk0ODYsIDQ2LjY3OTU4XSwgWzI0LjY5NDE3LCA0Ni42Nzc5NF0sIFsyNC42OTQwOCwgNDYuNjc3NzFdLCBbMjQuNjkzOTksIDQ2LjY3NzU5XSwgWzI0LjY5Mzg5LCA0Ni42Nzc0XSwgWzI0LjY5Mzc2LCA0Ni42NzcxOV0sIFsyNC42OTM3MiwgNDYuNjc3MTddLCBbMjQuNjkzNjcsIDQ2LjY3NzE4XSwgWzI0LjY5MzY1LCA0Ni42NzcyMl0sIFsyNC42OTM2NCwgNDYuNjc3MjVdLCBbMjQuNjkzNjUsIDQ2LjY3NzI3XSwgWzI0LjY5MzY3LCA0Ni42NzczM10sIFsyNC42OTM3MywgNDYuNjc3NDNdLCBbMjQuNjkzODIsIDQ2LjY3NzY0XSwgWzI0LjY5Mzg0LCA0Ni42Nzc4Ml0sIFsyNC42OTM5NywgNDYuNjc4MDldLCBbMjQuNjk0NywgNDYuNjc5NjhdLCBbMjQuNjk0ODEsIDQ2LjY3OTk1XSwgWzI0LjY5NDgsIDQ2LjY4MDA1XSwgWzI0LjY5NDgxLCA0Ni42ODAxNl0sIFsyNC42OTQ3OCwgNDYuNjgwMjldLCBbMjQuNjk0NzcsIDQ2LjY4MDI5XV0sCiAgICAgICAgICAgICAgICB7ImJ1YmJsaW5nTW91c2VFdmVudHMiOiB0cnVlLCAiY29sb3IiOiAiZ3JlZW4iLCAiZGFzaEFycmF5IjogbnVsbCwgImRhc2hPZmZzZXQiOiBudWxsLCAiZmlsbCI6IGZhbHNlLCAiZmlsbENvbG9yIjogImdyZWVuIiwgImZpbGxPcGFjaXR5IjogMC4yLCAiZmlsbFJ1bGUiOiAiZXZlbm9kZCIsICJsaW5lQ2FwIjogInJvdW5kIiwgImxpbmVKb2luIjogInJvdW5kIiwgIm5vQ2xpcCI6IGZhbHNlLCAib3BhY2l0eSI6IDEsICJzbW9vdGhGYWN0b3IiOiAxLjAsICJzdHJva2UiOiB0cnVlLCAid2VpZ2h0IjogMi41fQogICAgICAgICAgICApLmFkZFRvKG1hcF84MDU5Nzg1YTVjZjI0MzFkOThlODgwMGZlNDNkZWQ1Yyk7CiAgICAgICAgCiAgICAKICAgICAgICAgICAgdmFyIG1hcmtlcl9iYjc3ZGRkYTIyOGE0NjE1YmQzYTRjMjdmYTU3MGFkZiA9IEwubWFya2VyKAogICAgICAgICAgICAgICAgWzI0LjY5NDk3LCA0Ni42ODExN10sCiAgICAgICAgICAgICAgICB7fQogICAgICAgICAgICApLmFkZFRvKG1hcF84MDU5Nzg1YTVjZjI0MzFkOThlODgwMGZlNDNkZWQ1Yyk7CiAgICAgICAgCiAgICAKICAgICAgICAgICAgdmFyIGJlYXV0aWZ5X2ljb25fZDNmZDIxNjQ4NjFiNDRiN2I3ZWJiZWYyOGY4ZDlmYmYgPSBuZXcgTC5CZWF1dGlmeUljb24uaWNvbigKICAgICAgICAgICAgICAgIHsiYmFja2dyb3VuZENvbG9yIjogIm5hdnkiLCAiYm9yZGVyQ29sb3IiOiAibmF2eSIsICJib3JkZXJXaWR0aCI6IDMsICJpY29uU2hhcGUiOiAibWFya2VyIiwgImljb25TaXplIjogWzQwLCA0MF0sICJpbm5lckljb25TdHlsZSI6ICJmb250LXNpemU6MTJweDtwYWRkaW5nLXRvcDotNXB4OyIsICJpc0FscGhhTnVtZXJpY0ljb24iOiB0cnVlLCAic3BpbiI6IHRydWUsICJ0ZXh0IjogMCwgInRleHRDb2xvciI6ICJncmF5In0KICAgICAgICAgICAgKQogICAgICAgICAgICBtYXJrZXJfYmI3N2RkZGEyMjhhNDYxNWJkM2E0YzI3ZmE1NzBhZGYuc2V0SWNvbihiZWF1dGlmeV9pY29uX2QzZmQyMTY0ODYxYjQ0YjdiN2ViYmVmMjhmOGQ5ZmJmKTsKICAgICAgICAKICAgIAogICAgICAgIHZhciBwb3B1cF85NDY5YWMwYjVmNTU0OWJiYTVlNGQ5YTY4NTQwYWExYSA9IEwucG9wdXAoeyJtYXhXaWR0aCI6IDEwMH0pOwoKICAgICAgICAKICAgICAgICAgICAgdmFyIGh0bWxfNzZiMmQwMTljM2VhNGFhY2FiZTQ3N2JmY2ZjNWQ4ZGMgPSAkKGA8ZGl2IGlkPSJodG1sXzc2YjJkMDE5YzNlYTRhYWNhYmU0NzdiZmNmYzVkOGRjIiBzdHlsZT0id2lkdGg6IDEwMC4wJTsgaGVpZ2h0OiAxMDAuMCU7Ij48Yj5OYW9teSBmb3IgT3JnYW5pYyBUZWE8L2I+IDxicj5QcmluY2UgTXVoYW1tYWQgQmluIEFiZHVsYXppeiBSb2FkLCBBbCBPbGF5YTwvZGl2PmApWzBdOwogICAgICAgICAgICBwb3B1cF85NDY5YWMwYjVmNTU0OWJiYTVlNGQ5YTY4NTQwYWExYS5zZXRDb250ZW50KGh0bWxfNzZiMmQwMTljM2VhNGFhY2FiZTQ3N2JmY2ZjNWQ4ZGMpOwogICAgICAgIAoKICAgICAgICBtYXJrZXJfYmI3N2RkZGEyMjhhNDYxNWJkM2E0YzI3ZmE1NzBhZGYuYmluZFBvcHVwKHBvcHVwXzk0NjlhYzBiNWY1NTQ5YmJhNWU0ZDlhNjg1NDBhYTFhKQogICAgICAgIDsKCiAgICAgICAgCiAgICAKICAgIAogICAgICAgICAgICBtYXJrZXJfYmI3N2RkZGEyMjhhNDYxNWJkM2E0YzI3ZmE1NzBhZGYuYmluZFRvb2x0aXAoCiAgICAgICAgICAgICAgICBgPGRpdj4KICAgICAgICAgICAgICAgICAgICAgPGI+TmFvbXkgZm9yIE9yZ2FuaWMgVGVhPC9iPiA8YnI+ICgwIG1pbnMpCiAgICAgICAgICAgICAgICAgPC9kaXY+YCwKICAgICAgICAgICAgICAgIHsic3RpY2t5IjogdHJ1ZX0KICAgICAgICAgICAgKTsKICAgICAgICAKICAgIAogICAgICAgICAgICB2YXIgbWFya2VyX2UxZGY3NTg0MDcyZjQzZGE4MGE0NWY1YjA2NmE5ZmRlID0gTC5tYXJrZXIoCiAgICAgICAgICAgICAgICBbMjQuNjg2NCwgNDYuNjg1MzRdLAogICAgICAgICAgICAgICAge30KICAgICAgICAgICAgKS5hZGRUbyhtYXBfODA1OTc4NWE1Y2YyNDMxZDk4ZTg4MDBmZTQzZGVkNWMpOwogICAgICAgIAogICAgCiAgICAgICAgICAgIHZhciBiZWF1dGlmeV9pY29uXzdhNmZhODIwYjk3ODQ1NGM5MmZkMTQyMjQwZGE3NjViID0gbmV3IEwuQmVhdXRpZnlJY29uLmljb24oCiAgICAgICAgICAgICAgICB7ImJhY2tncm91bmRDb2xvciI6ICIjMDAwMzkyIiwgImJvcmRlckNvbG9yIjogIiMwMDAzOTIiLCAiYm9yZGVyV2lkdGgiOiAzLCAiaWNvblNoYXBlIjogIm1hcmtlciIsICJpY29uU2l6ZSI6IFszOSwgMzldLCAiaW5uZXJJY29uU3R5bGUiOiAiZm9udC1zaXplOjEycHg7cGFkZGluZy10b3A6LTVweDsiLCAiaXNBbHBoYU51bWVyaWNJY29uIjogdHJ1ZSwgInNwaW4iOiB0cnVlLCAidGV4dCI6IDEsICJ0ZXh0Q29sb3IiOiAiZ3JheSJ9CiAgICAgICAgICAgICkKICAgICAgICAgICAgbWFya2VyX2UxZGY3NTg0MDcyZjQzZGE4MGE0NWY1YjA2NmE5ZmRlLnNldEljb24oYmVhdXRpZnlfaWNvbl83YTZmYTgyMGI5Nzg0NTRjOTJmZDE0MjI0MGRhNzY1Yik7CiAgICAgICAgCiAgICAKICAgICAgICB2YXIgcG9wdXBfM2U4ODM3MDU4MTA2NDFhYWE2MzFmODkwMGMzZjk5ZWEgPSBMLnBvcHVwKHsibWF4V2lkdGgiOiAxMDB9KTsKCiAgICAgICAgCiAgICAgICAgICAgIHZhciBodG1sX2RhODZjOTM5MWMxMzQ5YmRhZDFmYTEwZjU2OThmMTg4ID0gJChgPGRpdiBpZD0iaHRtbF9kYTg2YzkzOTFjMTM0OWJkYWQxZmExMGY1Njk4ZjE4OCIgc3R5bGU9IndpZHRoOiAxMDAuMCU7IGhlaWdodDogMTAwLjAlOyI+PGI+RHVua2luJzwvYj4gPGJyPktpbmcgRmFoZCBSb2FkLCBBbCBPbGF5YTwvZGl2PmApWzBdOwogICAgICAgICAgICBwb3B1cF8zZTg4MzcwNTgxMDY0MWFhYTYzMWY4OTAwYzNmOTllYS5zZXRDb250ZW50KGh0bWxfZGE4NmM5MzkxYzEzNDliZGFkMWZhMTBmNTY5OGYxODgpOwogICAgICAgIAoKICAgICAgICBtYXJrZXJfZTFkZjc1ODQwNzJmNDNkYTgwYTQ1ZjViMDY2YTlmZGUuYmluZFBvcHVwKHBvcHVwXzNlODgzNzA1ODEwNjQxYWFhNjMxZjg5MDBjM2Y5OWVhKQogICAgICAgIDsKCiAgICAgICAgCiAgICAKICAgIAogICAgICAgICAgICBtYXJrZXJfZTFkZjc1ODQwNzJmNDNkYTgwYTQ1ZjViMDY2YTlmZGUuYmluZFRvb2x0aXAoCiAgICAgICAgICAgICAgICBgPGRpdj4KICAgICAgICAgICAgICAgICAgICAgPGI+RHVua2luJzwvYj4gPGJyPiAoMCBtaW5zKQogICAgICAgICAgICAgICAgIDwvZGl2PmAsCiAgICAgICAgICAgICAgICB7InN0aWNreSI6IHRydWV9CiAgICAgICAgICAgICk7CiAgICAgICAgCiAgICAKICAgICAgICAgICAgdmFyIG1hcmtlcl8zYjJkOTBjN2JlZWM0NWJmYjhmYmQwYzI2YWNlZWY3YyA9IEwubWFya2VyKAogICAgICAgICAgICAgICAgWzI0LjY4Mjc3LCA0Ni42OTY5Ml0sCiAgICAgICAgICAgICAgICB7fQogICAgICAgICAgICApLmFkZFRvKG1hcF84MDU5Nzg1YTVjZjI0MzFkOThlODgwMGZlNDNkZWQ1Yyk7CiAgICAgICAgCiAgICAKICAgICAgICAgICAgdmFyIGJlYXV0aWZ5X2ljb25fYmY4NTkxOTYzZWY0NGRhY2IwMDkxNzIzYjNkNGFhZDkgPSBuZXcgTC5CZWF1dGlmeUljb24uaWNvbigKICAgICAgICAgICAgICAgIHsiYmFja2dyb3VuZENvbG9yIjogIiMwMDA3YTQiLCAiYm9yZGVyQ29sb3IiOiAiIzAwMDdhNCIsICJib3JkZXJXaWR0aCI6IDMsICJpY29uU2hhcGUiOiAibWFya2VyIiwgImljb25TaXplIjogWzM4LCAzOF0sICJpbm5lckljb25TdHlsZSI6ICJmb250LXNpemU6MTJweDtwYWRkaW5nLXRvcDotNXB4OyIsICJpc0FscGhhTnVtZXJpY0ljb24iOiB0cnVlLCAic3BpbiI6IHRydWUsICJ0ZXh0IjogMiwgInRleHRDb2xvciI6ICJncmF5In0KICAgICAgICAgICAgKQogICAgICAgICAgICBtYXJrZXJfM2IyZDkwYzdiZWVjNDViZmI4ZmJkMGMyNmFjZWVmN2Muc2V0SWNvbihiZWF1dGlmeV9pY29uX2JmODU5MTk2M2VmNDRkYWNiMDA5MTcyM2IzZDRhYWQ5KTsKICAgICAgICAKICAgIAogICAgICAgIHZhciBwb3B1cF9kYmFmYmE1MDFjOGY0M2MzODdlZmFhZjI4NGM1NWU4NyA9IEwucG9wdXAoeyJtYXhXaWR0aCI6IDEwMH0pOwoKICAgICAgICAKICAgICAgICAgICAgdmFyIGh0bWxfYjUyODhmZjM3NmFlNDhjNWIzNDRkY2Q3MGFmZDdmNTkgPSAkKGA8ZGl2IGlkPSJodG1sX2I1Mjg4ZmYzNzZhZTQ4YzViMzQ0ZGNkNzBhZmQ3ZjU5IiBzdHlsZT0id2lkdGg6IDEwMC4wJTsgaGVpZ2h0OiAxMDAuMCU7Ij48Yj5BbCBBd2FsZWVuIENvZmZlZSAtIEphbHNhdCBTaGFhYml5YWg8L2I+IDxicj5NYWtrYWggQWwgTXVrYXJyYW1hIFJvYWQsIEFsIE9sYXlhPC9kaXY+YClbMF07CiAgICAgICAgICAgIHBvcHVwX2RiYWZiYTUwMWM4ZjQzYzM4N2VmYWFmMjg0YzU1ZTg3LnNldENvbnRlbnQoaHRtbF9iNTI4OGZmMzc2YWU0OGM1YjM0NGRjZDcwYWZkN2Y1OSk7CiAgICAgICAgCgogICAgICAgIG1hcmtlcl8zYjJkOTBjN2JlZWM0NWJmYjhmYmQwYzI2YWNlZWY3Yy5iaW5kUG9wdXAocG9wdXBfZGJhZmJhNTAxYzhmNDNjMzg3ZWZhYWYyODRjNTVlODcpCiAgICAgICAgOwoKICAgICAgICAKICAgIAogICAgCiAgICAgICAgICAgIG1hcmtlcl8zYjJkOTBjN2JlZWM0NWJmYjhmYmQwYzI2YWNlZWY3Yy5iaW5kVG9vbHRpcCgKICAgICAgICAgICAgICAgIGA8ZGl2PgogICAgICAgICAgICAgICAgICAgICA8Yj5BbCBBd2FsZWVuIENvZmZlZSAtIEphbHNhdCBTaGFhYml5YWg8L2I+IDxicj4gKDAgbWlucykKICAgICAgICAgICAgICAgICA8L2Rpdj5gLAogICAgICAgICAgICAgICAgeyJzdGlja3kiOiB0cnVlfQogICAgICAgICAgICApOwogICAgICAgIAogICAgCiAgICAgICAgICAgIHZhciBtYXJrZXJfZDc5NzFiZjc2ODYwNDNjZWEwNmUzNDZhMzIyOWVmZTYgPSBMLm1hcmtlcigKICAgICAgICAgICAgICAgIFsyNC42ODI4MiwgNDYuNjk3MTNdLAogICAgICAgICAgICAgICAge30KICAgICAgICAgICAgKS5hZGRUbyhtYXBfODA1OTc4NWE1Y2YyNDMxZDk4ZTg4MDBmZTQzZGVkNWMpOwogICAgICAgIAogICAgCiAgICAgICAgICAgIHZhciBiZWF1dGlmeV9pY29uXzdkNjFkNjBjMjc4ZjRhOGViMzViMzM5YWM4NWNkZTIzID0gbmV3IEwuQmVhdXRpZnlJY29uLmljb24oCiAgICAgICAgICAgICAgICB7ImJhY2tncm91bmRDb2xvciI6ICIjMDAwYmI2IiwgImJvcmRlckNvbG9yIjogIiMwMDBiYjYiLCAiYm9yZGVyV2lkdGgiOiAzLCAiaWNvblNoYXBlIjogIm1hcmtlciIsICJpY29uU2l6ZSI6IFszNywgMzddLCAiaW5uZXJJY29uU3R5bGUiOiAiZm9udC1zaXplOjEycHg7cGFkZGluZy10b3A6LTVweDsiLCAiaXNBbHBoYU51bWVyaWNJY29uIjogdHJ1ZSwgInNwaW4iOiB0cnVlLCAidGV4dCI6IDMsICJ0ZXh0Q29sb3IiOiAiZ3JheSJ9CiAgICAgICAgICAgICkKICAgICAgICAgICAgbWFya2VyX2Q3OTcxYmY3Njg2MDQzY2VhMDZlMzQ2YTMyMjllZmU2LnNldEljb24oYmVhdXRpZnlfaWNvbl83ZDYxZDYwYzI3OGY0YThlYjM1YjMzOWFjODVjZGUyMyk7CiAgICAgICAgCiAgICAKICAgICAgICB2YXIgcG9wdXBfZjNjNTcyYTM1ZjhlNGE0NTk5MGQ5YmIwZWI4MDkzMzEgPSBMLnBvcHVwKHsibWF4V2lkdGgiOiAxMDB9KTsKCiAgICAgICAgCiAgICAgICAgICAgIHZhciBodG1sX2MwZTcwYTBlYmJkNjRlZWU4MWM0ODlhMTQwYTQyNTViID0gJChgPGRpdiBpZD0iaHRtbF9jMGU3MGEwZWJiZDY0ZWVlODFjNDg5YTE0MGE0MjU1YiIgc3R5bGU9IndpZHRoOiAxMDAuMCU7IGhlaWdodDogMTAwLjAlOyI+PGI+SmF2YSBUaW1lPC9iPiA8YnI+TWFra2FoIEFsIE11a2FycmFtYSBSb2FkLCBBbCBPbGF5YTwvZGl2PmApWzBdOwogICAgICAgICAgICBwb3B1cF9mM2M1NzJhMzVmOGU0YTQ1OTkwZDliYjBlYjgwOTMzMS5zZXRDb250ZW50KGh0bWxfYzBlNzBhMGViYmQ2NGVlZTgxYzQ4OWExNDBhNDI1NWIpOwogICAgICAgIAoKICAgICAgICBtYXJrZXJfZDc5NzFiZjc2ODYwNDNjZWEwNmUzNDZhMzIyOWVmZTYuYmluZFBvcHVwKHBvcHVwX2YzYzU3MmEzNWY4ZTRhNDU5OTBkOWJiMGViODA5MzMxKQogICAgICAgIDsKCiAgICAgICAgCiAgICAKICAgIAogICAgICAgICAgICBtYXJrZXJfZDc5NzFiZjc2ODYwNDNjZWEwNmUzNDZhMzIyOWVmZTYuYmluZFRvb2x0aXAoCiAgICAgICAgICAgICAgICBgPGRpdj4KICAgICAgICAgICAgICAgICAgICAgPGI+SmF2YSBUaW1lPC9iPiA8YnI+ICgwIG1pbnMpCiAgICAgICAgICAgICAgICAgPC9kaXY+YCwKICAgICAgICAgICAgICAgIHsic3RpY2t5IjogdHJ1ZX0KICAgICAgICAgICAgKTsKICAgICAgICAKICAgIAogICAgICAgICAgICB2YXIgbWFya2VyXzZlZjcwZjg0MDgwMjRhNTBiOGY2OGE0MWQxZjhkZDQ3ID0gTC5tYXJrZXIoCiAgICAgICAgICAgICAgICBbMjQuNjgyNywgNDYuNjk2NzZdLAogICAgICAgICAgICAgICAge30KICAgICAgICAgICAgKS5hZGRUbyhtYXBfODA1OTc4NWE1Y2YyNDMxZDk4ZTg4MDBmZTQzZGVkNWMpOwogICAgICAgIAogICAgCiAgICAgICAgICAgIHZhciBiZWF1dGlmeV9pY29uX2YzYTNkZDIyN2YyNzQ3MWRhMWMwYjA3MDczMjkzMzQ4ID0gbmV3IEwuQmVhdXRpZnlJY29uLmljb24oCiAgICAgICAgICAgICAgICB7ImJhY2tncm91bmRDb2xvciI6ICIjMDAxMGM4IiwgImJvcmRlckNvbG9yIjogIiMwMDEwYzgiLCAiYm9yZGVyV2lkdGgiOiAzLCAiaWNvblNoYXBlIjogIm1hcmtlciIsICJpY29uU2l6ZSI6IFszNiwgMzZdLCAiaW5uZXJJY29uU3R5bGUiOiAiZm9udC1zaXplOjEycHg7cGFkZGluZy10b3A6LTVweDsiLCAiaXNBbHBoYU51bWVyaWNJY29uIjogdHJ1ZSwgInNwaW4iOiB0cnVlLCAidGV4dCI6IDQsICJ0ZXh0Q29sb3IiOiAiZ3JheSJ9CiAgICAgICAgICAgICkKICAgICAgICAgICAgbWFya2VyXzZlZjcwZjg0MDgwMjRhNTBiOGY2OGE0MWQxZjhkZDQ3LnNldEljb24oYmVhdXRpZnlfaWNvbl9mM2EzZGQyMjdmMjc0NzFkYTFjMGIwNzA3MzI5MzM0OCk7CiAgICAgICAgCiAgICAKICAgICAgICB2YXIgcG9wdXBfZWQ5MjE3MmIwZTZiNDlkODhlYTRlN2Y0NjBkNWVlZGYgPSBMLnBvcHVwKHsibWF4V2lkdGgiOiAxMDB9KTsKCiAgICAgICAgCiAgICAgICAgICAgIHZhciBodG1sXzcyYWZhNWU3NDlkZDQxMTQ5ZDM3YTcwOTVkYWQ2NGVjID0gJChgPGRpdiBpZD0iaHRtbF83MmFmYTVlNzQ5ZGQ0MTE0OWQzN2E3MDk1ZGFkNjRlYyIgc3R5bGU9IndpZHRoOiAxMDAuMCU7IGhlaWdodDogMTAwLjAlOyI+PGI+QWwgQXdhbGVlbiBDb2ZmZWU8L2I+IDxicj5NYWtrYWggQWwgTXVrYXJyYW1hIFJvYWQsIEFsIE9sYXlhPC9kaXY+YClbMF07CiAgICAgICAgICAgIHBvcHVwX2VkOTIxNzJiMGU2YjQ5ZDg4ZWE0ZTdmNDYwZDVlZWRmLnNldENvbnRlbnQoaHRtbF83MmFmYTVlNzQ5ZGQ0MTE0OWQzN2E3MDk1ZGFkNjRlYyk7CiAgICAgICAgCgogICAgICAgIG1hcmtlcl82ZWY3MGY4NDA4MDI0YTUwYjhmNjhhNDFkMWY4ZGQ0Ny5iaW5kUG9wdXAocG9wdXBfZWQ5MjE3MmIwZTZiNDlkODhlYTRlN2Y0NjBkNWVlZGYpCiAgICAgICAgOwoKICAgICAgICAKICAgIAogICAgCiAgICAgICAgICAgIG1hcmtlcl82ZWY3MGY4NDA4MDI0YTUwYjhmNjhhNDFkMWY4ZGQ0Ny5iaW5kVG9vbHRpcCgKICAgICAgICAgICAgICAgIGA8ZGl2PgogICAgICAgICAgICAgICAgICAgICA8Yj5BbCBBd2FsZWVuIENvZmZlZTwvYj4gPGJyPiAoMCBtaW5zKQogICAgICAgICAgICAgICAgIDwvZGl2PmAsCiAgICAgICAgICAgICAgICB7InN0aWNreSI6IHRydWV9CiAgICAgICAgICAgICk7CiAgICAgICAgCiAgICAKICAgICAgICAgICAgdmFyIG1hcmtlcl9hNmM5OWU1Njg4OGE0MDdjYTBhM2U4ZjI0NzU2ODUxZCA9IEwubWFya2VyKAogICAgICAgICAgICAgICAgWzI0LjY4MTEzLCA0Ni42OTMxMV0sCiAgICAgICAgICAgICAgICB7fQogICAgICAgICAgICApLmFkZFRvKG1hcF84MDU5Nzg1YTVjZjI0MzFkOThlODgwMGZlNDNkZWQ1Yyk7CiAgICAgICAgCiAgICAKICAgICAgICAgICAgdmFyIGJlYXV0aWZ5X2ljb25fNjM0ZDEwNGRmYTIwNDRjOTg0ODRiNjUwMDZiNjFkOTEgPSBuZXcgTC5CZWF1dGlmeUljb24uaWNvbigKICAgICAgICAgICAgICAgIHsiYmFja2dyb3VuZENvbG9yIjogIiMwMDE2ZDkiLCAiYm9yZGVyQ29sb3IiOiAiIzAwMTZkOSIsICJib3JkZXJXaWR0aCI6IDMsICJpY29uU2hhcGUiOiAibWFya2VyIiwgImljb25TaXplIjogWzM1LCAzNV0sICJpbm5lckljb25TdHlsZSI6ICJmb250LXNpemU6MTJweDtwYWRkaW5nLXRvcDotNXB4OyIsICJpc0FscGhhTnVtZXJpY0ljb24iOiB0cnVlLCAic3BpbiI6IHRydWUsICJ0ZXh0IjogNSwgInRleHRDb2xvciI6ICJncmF5In0KICAgICAgICAgICAgKQogICAgICAgICAgICBtYXJrZXJfYTZjOTllNTY4ODhhNDA3Y2EwYTNlOGYyNDc1Njg1MWQuc2V0SWNvbihiZWF1dGlmeV9pY29uXzYzNGQxMDRkZmEyMDQ0Yzk4NDg0YjY1MDA2YjYxZDkxKTsKICAgICAgICAKICAgIAogICAgICAgIHZhciBwb3B1cF9jOWVlM2Q5MjE0M2Q0ZjA1OTRlYTNlOTg1ZGYxZmE4ZCA9IEwucG9wdXAoeyJtYXhXaWR0aCI6IDEwMH0pOwoKICAgICAgICAKICAgICAgICAgICAgdmFyIGh0bWxfN2M0ZGViZTBjNmE5NDY2ZGE4OGMyMzcyMmY5MTJjMTAgPSAkKGA8ZGl2IGlkPSJodG1sXzdjNGRlYmUwYzZhOTQ2NmRhODhjMjM3MjJmOTEyYzEwIiBzdHlsZT0id2lkdGg6IDEwMC4wJTsgaGVpZ2h0OiAxMDAuMCU7Ij48Yj5OYWpkZXlhdCBIYWxlZWIgYW5kIEhlYWw8L2I+IDxicj5NYWtrYWggQWwgTXVrYXJyYW1hIFJvYWQsIEFsIE9sYXlhPC9kaXY+YClbMF07CiAgICAgICAgICAgIHBvcHVwX2M5ZWUzZDkyMTQzZDRmMDU5NGVhM2U5ODVkZjFmYThkLnNldENvbnRlbnQoaHRtbF83YzRkZWJlMGM2YTk0NjZkYTg4YzIzNzIyZjkxMmMxMCk7CiAgICAgICAgCgogICAgICAgIG1hcmtlcl9hNmM5OWU1Njg4OGE0MDdjYTBhM2U4ZjI0NzU2ODUxZC5iaW5kUG9wdXAocG9wdXBfYzllZTNkOTIxNDNkNGYwNTk0ZWEzZTk4NWRmMWZhOGQpCiAgICAgICAgOwoKICAgICAgICAKICAgIAogICAgCiAgICAgICAgICAgIG1hcmtlcl9hNmM5OWU1Njg4OGE0MDdjYTBhM2U4ZjI0NzU2ODUxZC5iaW5kVG9vbHRpcCgKICAgICAgICAgICAgICAgIGA8ZGl2PgogICAgICAgICAgICAgICAgICAgICA8Yj5OYWpkZXlhdCBIYWxlZWIgYW5kIEhlYWw8L2I+IDxicj4gKDAgbWlucykKICAgICAgICAgICAgICAgICA8L2Rpdj5gLAogICAgICAgICAgICAgICAgeyJzdGlja3kiOiB0cnVlfQogICAgICAgICAgICApOwogICAgICAgIAogICAgCiAgICAgICAgICAgIHZhciBtYXJrZXJfOTFkMzRhYmNhYmUxNDQwYzk4NTIxODU1YmQwMjAwZjcgPSBMLm1hcmtlcigKICAgICAgICAgICAgICAgIFsyNC42ODYzNywgNDYuNjg2N10sCiAgICAgICAgICAgICAgICB7fQogICAgICAgICAgICApLmFkZFRvKG1hcF84MDU5Nzg1YTVjZjI0MzFkOThlODgwMGZlNDNkZWQ1Yyk7CiAgICAgICAgCiAgICAKICAgICAgICAgICAgdmFyIGJlYXV0aWZ5X2ljb25fMmNlMmQ5N2Y1ZTNlNDQyMWI2MTg1YjliMzQxOGFkN2YgPSBuZXcgTC5CZWF1dGlmeUljb24uaWNvbigKICAgICAgICAgICAgICAgIHsiYmFja2dyb3VuZENvbG9yIjogIiMwMDFjZWIiLCAiYm9yZGVyQ29sb3IiOiAiIzAwMWNlYiIsICJib3JkZXJXaWR0aCI6IDMsICJpY29uU2hhcGUiOiAibWFya2VyIiwgImljb25TaXplIjogWzM0LCAzNF0sICJpbm5lckljb25TdHlsZSI6ICJmb250LXNpemU6MTJweDtwYWRkaW5nLXRvcDotNXB4OyIsICJpc0FscGhhTnVtZXJpY0ljb24iOiB0cnVlLCAic3BpbiI6IHRydWUsICJ0ZXh0IjogNiwgInRleHRDb2xvciI6ICJncmF5In0KICAgICAgICAgICAgKQogICAgICAgICAgICBtYXJrZXJfOTFkMzRhYmNhYmUxNDQwYzk4NTIxODU1YmQwMjAwZjcuc2V0SWNvbihiZWF1dGlmeV9pY29uXzJjZTJkOTdmNWUzZTQ0MjFiNjE4NWI5YjM0MThhZDdmKTsKICAgICAgICAKICAgIAogICAgICAgIHZhciBwb3B1cF9iMzNhYTEwYTZjM2I0NjEzOGEwMTZhNmEwYmE3N2UwZCA9IEwucG9wdXAoeyJtYXhXaWR0aCI6IDEwMH0pOwoKICAgICAgICAKICAgICAgICAgICAgdmFyIGh0bWxfNmUxNmZiZWQ4YzhhNDJiNGJlNjljZGJmZjQyNTgxYjEgPSAkKGA8ZGl2IGlkPSJodG1sXzZlMTZmYmVkOGM4YTQyYjRiZTY5Y2RiZmY0MjU4MWIxIiBzdHlsZT0id2lkdGg6IDEwMC4wJTsgaGVpZ2h0OiAxMDAuMCU7Ij48Yj5Sb21hIENhZmU8L2I+IDxicj4sIEFsIE9sYXlhPC9kaXY+YClbMF07CiAgICAgICAgICAgIHBvcHVwX2IzM2FhMTBhNmMzYjQ2MTM4YTAxNmE2YTBiYTc3ZTBkLnNldENvbnRlbnQoaHRtbF82ZTE2ZmJlZDhjOGE0MmI0YmU2OWNkYmZmNDI1ODFiMSk7CiAgICAgICAgCgogICAgICAgIG1hcmtlcl85MWQzNGFiY2FiZTE0NDBjOTg1MjE4NTViZDAyMDBmNy5iaW5kUG9wdXAocG9wdXBfYjMzYWExMGE2YzNiNDYxMzhhMDE2YTZhMGJhNzdlMGQpCiAgICAgICAgOwoKICAgICAgICAKICAgIAogICAgCiAgICAgICAgICAgIG1hcmtlcl85MWQzNGFiY2FiZTE0NDBjOTg1MjE4NTViZDAyMDBmNy5iaW5kVG9vbHRpcCgKICAgICAgICAgICAgICAgIGA8ZGl2PgogICAgICAgICAgICAgICAgICAgICA8Yj5Sb21hIENhZmU8L2I+IDxicj4gKDEgbWlucykKICAgICAgICAgICAgICAgICA8L2Rpdj5gLAogICAgICAgICAgICAgICAgeyJzdGlja3kiOiB0cnVlfQogICAgICAgICAgICApOwogICAgICAgIAogICAgCiAgICAgICAgICAgIHZhciBtYXJrZXJfMTJhZWUxMWI1ZjU3NDQ3MGJiYzMxNGYwMzU3NDNiM2YgPSBMLm1hcmtlcigKICAgICAgICAgICAgICAgIFsyNC42ODA3OSwgNDYuNjk0MzhdLAogICAgICAgICAgICAgICAge30KICAgICAgICAgICAgKS5hZGRUbyhtYXBfODA1OTc4NWE1Y2YyNDMxZDk4ZTg4MDBmZTQzZGVkNWMpOwogICAgICAgIAogICAgCiAgICAgICAgICAgIHZhciBiZWF1dGlmeV9pY29uX2MyMjMwNjg2OGZhMDRhZjM4ZWU3OTcwZDcwNTQ5OTUzID0gbmV3IEwuQmVhdXRpZnlJY29uLmljb24oCiAgICAgICAgICAgICAgICB7ImJhY2tncm91bmRDb2xvciI6ICIjMDAyNGZkIiwgImJvcmRlckNvbG9yIjogIiMwMDI0ZmQiLCAiYm9yZGVyV2lkdGgiOiAzLCAiaWNvblNoYXBlIjogIm1hcmtlciIsICJpY29uU2l6ZSI6IFszMywgMzNdLCAiaW5uZXJJY29uU3R5bGUiOiAiZm9udC1zaXplOjEycHg7cGFkZGluZy10b3A6LTVweDsiLCAiaXNBbHBoYU51bWVyaWNJY29uIjogdHJ1ZSwgInNwaW4iOiB0cnVlLCAidGV4dCI6IDcsICJ0ZXh0Q29sb3IiOiAiZ3JheSJ9CiAgICAgICAgICAgICkKICAgICAgICAgICAgbWFya2VyXzEyYWVlMTFiNWY1NzQ0NzBiYmMzMTRmMDM1NzQzYjNmLnNldEljb24oYmVhdXRpZnlfaWNvbl9jMjIzMDY4NjhmYTA0YWYzOGVlNzk3MGQ3MDU0OTk1Myk7CiAgICAgICAgCiAgICAKICAgICAgICB2YXIgcG9wdXBfMjQ0OGM2NzEzN2NkNGI5Y2EzNDI3MzIzMmMxNWJiOTggPSBMLnBvcHVwKHsibWF4V2lkdGgiOiAxMDB9KTsKCiAgICAgICAgCiAgICAgICAgICAgIHZhciBodG1sXzA1MzA2YWEzYjZiNDQ5ODg4MDRhMzBjNTYwZjQyM2Q5ID0gJChgPGRpdiBpZD0iaHRtbF8wNTMwNmFhM2I2YjQ0OTg4ODA0YTMwYzU2MGY0MjNkOSIgc3R5bGU9IndpZHRoOiAxMDAuMCU7IGhlaWdodDogMTAwLjAlOyI+PGI+RGFuIEtvbjwvYj4gPGJyPk1hZGFlbiBTYWxlaCBTdHJlZXQsIEFsIE9sYXlhPC9kaXY+YClbMF07CiAgICAgICAgICAgIHBvcHVwXzI0NDhjNjcxMzdjZDRiOWNhMzQyNzMyMzJjMTViYjk4LnNldENvbnRlbnQoaHRtbF8wNTMwNmFhM2I2YjQ0OTg4ODA0YTMwYzU2MGY0MjNkOSk7CiAgICAgICAgCgogICAgICAgIG1hcmtlcl8xMmFlZTExYjVmNTc0NDcwYmJjMzE0ZjAzNTc0M2IzZi5iaW5kUG9wdXAocG9wdXBfMjQ0OGM2NzEzN2NkNGI5Y2EzNDI3MzIzMmMxNWJiOTgpCiAgICAgICAgOwoKICAgICAgICAKICAgIAogICAgCiAgICAgICAgICAgIG1hcmtlcl8xMmFlZTExYjVmNTc0NDcwYmJjMzE0ZjAzNTc0M2IzZi5iaW5kVG9vbHRpcCgKICAgICAgICAgICAgICAgIGA8ZGl2PgogICAgICAgICAgICAgICAgICAgICA8Yj5EYW4gS29uPC9iPiA8YnI+ICgxIG1pbnMpCiAgICAgICAgICAgICAgICAgPC9kaXY+YCwKICAgICAgICAgICAgICAgIHsic3RpY2t5IjogdHJ1ZX0KICAgICAgICAgICAgKTsKICAgICAgICAKICAgIAogICAgICAgICAgICB2YXIgbWFya2VyXzJhYzYyMGJiNjQyYzRiMzU4YWMyMTRiYmFiZjkxMWJkID0gTC5tYXJrZXIoCiAgICAgICAgICAgICAgICBbMjQuNjk0MjUsIDQ2LjY3NzM2XSwKICAgICAgICAgICAgICAgIHt9CiAgICAgICAgICAgICkuYWRkVG8obWFwXzgwNTk3ODVhNWNmMjQzMWQ5OGU4ODAwZmU0M2RlZDVjKTsKICAgICAgICAKICAgIAogICAgICAgICAgICB2YXIgYmVhdXRpZnlfaWNvbl8wMTdmZTQ1OTdhMTE0MDEyOWY2MGE3ZjRiMWYxNGNhZCA9IG5ldyBMLkJlYXV0aWZ5SWNvbi5pY29uKAogICAgICAgICAgICAgICAgeyJiYWNrZ3JvdW5kQ29sb3IiOiAiIzEwMzZmZiIsICJib3JkZXJDb2xvciI6ICIjMTAzNmZmIiwgImJvcmRlcldpZHRoIjogMywgImljb25TaGFwZSI6ICJtYXJrZXIiLCAiaWNvblNpemUiOiBbMzIsIDMyXSwgImlubmVySWNvblN0eWxlIjogImZvbnQtc2l6ZToxMnB4O3BhZGRpbmctdG9wOi01cHg7IiwgImlzQWxwaGFOdW1lcmljSWNvbiI6IHRydWUsICJzcGluIjogdHJ1ZSwgInRleHQiOiA4LCAidGV4dENvbG9yIjogImdyYXkifQogICAgICAgICAgICApCiAgICAgICAgICAgIG1hcmtlcl8yYWM2MjBiYjY0MmM0YjM1OGFjMjE0YmJhYmY5MTFiZC5zZXRJY29uKGJlYXV0aWZ5X2ljb25fMDE3ZmU0NTk3YTExNDAxMjlmNjBhN2Y0YjFmMTRjYWQpOwogICAgICAgIAogICAgCiAgICAgICAgdmFyIHBvcHVwX2FhNDg1NDFlMThiNjQ3ZjdiOTdjNDA2NzMzYjJiYzgyID0gTC5wb3B1cCh7Im1heFdpZHRoIjogMTAwfSk7CgogICAgICAgIAogICAgICAgICAgICB2YXIgaHRtbF83Yjc2ZThlNWY2MzM0NTIzOTVmNjNkMzE1ZTc1ZGQ0MiA9ICQoYDxkaXYgaWQ9Imh0bWxfN2I3NmU4ZTVmNjMzNDUyMzk1ZjYzZDMxNWU3NWRkNDIiIHN0eWxlPSJ3aWR0aDogMTAwLjAlOyBoZWlnaHQ6IDEwMC4wJTsiPjxiPkRhbGxhdG5hIExvdW5nZTwvYj4gPGJyPlByaW5jZSBNdWhhbW1hZCBCaW4gQWJkdWxheml6IFJvYWQsIEFsIE9sYXlhPC9kaXY+YClbMF07CiAgICAgICAgICAgIHBvcHVwX2FhNDg1NDFlMThiNjQ3ZjdiOTdjNDA2NzMzYjJiYzgyLnNldENvbnRlbnQoaHRtbF83Yjc2ZThlNWY2MzM0NTIzOTVmNjNkMzE1ZTc1ZGQ0Mik7CiAgICAgICAgCgogICAgICAgIG1hcmtlcl8yYWM2MjBiYjY0MmM0YjM1OGFjMjE0YmJhYmY5MTFiZC5iaW5kUG9wdXAocG9wdXBfYWE0ODU0MWUxOGI2NDdmN2I5N2M0MDY3MzNiMmJjODIpCiAgICAgICAgOwoKICAgICAgICAKICAgIAogICAgCiAgICAgICAgICAgIG1hcmtlcl8yYWM2MjBiYjY0MmM0YjM1OGFjMjE0YmJhYmY5MTFiZC5iaW5kVG9vbHRpcCgKICAgICAgICAgICAgICAgIGA8ZGl2PgogICAgICAgICAgICAgICAgICAgICA8Yj5EYWxsYXRuYSBMb3VuZ2U8L2I+IDxicj4gKDEgbWlucykKICAgICAgICAgICAgICAgICA8L2Rpdj5gLAogICAgICAgICAgICAgICAgeyJzdGlja3kiOiB0cnVlfQogICAgICAgICAgICApOwogICAgICAgIAogICAgCiAgICAgICAgICAgIHZhciBtYXJrZXJfMjNjM2YzYTY1YWIzNDVhZGJhY2I4ZWNiMThjMGRmNDcgPSBMLm1hcmtlcigKICAgICAgICAgICAgICAgIFsyNC42ODY5NiwgNDYuNjg1NDldLAogICAgICAgICAgICAgICAge30KICAgICAgICAgICAgKS5hZGRUbyhtYXBfODA1OTc4NWE1Y2YyNDMxZDk4ZTg4MDBmZTQzZGVkNWMpOwogICAgICAgIAogICAgCiAgICAgICAgICAgIHZhciBiZWF1dGlmeV9pY29uX2VjZDk1YzQwOGUyYTQ4MzZiMDViZjYzNzQ4YWYzMmUwID0gbmV3IEwuQmVhdXRpZnlJY29uLmljb24oCiAgICAgICAgICAgICAgICB7ImJhY2tncm91bmRDb2xvciI6ICIjMjI0YWZmIiwgImJvcmRlckNvbG9yIjogIiMyMjRhZmYiLCAiYm9yZGVyV2lkdGgiOiAzLCAiaWNvblNoYXBlIjogIm1hcmtlciIsICJpY29uU2l6ZSI6IFszMSwgMzFdLCAiaW5uZXJJY29uU3R5bGUiOiAiZm9udC1zaXplOjEycHg7cGFkZGluZy10b3A6LTVweDsiLCAiaXNBbHBoYU51bWVyaWNJY29uIjogdHJ1ZSwgInNwaW4iOiB0cnVlLCAidGV4dCI6IDksICJ0ZXh0Q29sb3IiOiAiZ3JheSJ9CiAgICAgICAgICAgICkKICAgICAgICAgICAgbWFya2VyXzIzYzNmM2E2NWFiMzQ1YWRiYWNiOGVjYjE4YzBkZjQ3LnNldEljb24oYmVhdXRpZnlfaWNvbl9lY2Q5NWM0MDhlMmE0ODM2YjA1YmY2Mzc0OGFmMzJlMCk7CiAgICAgICAgCiAgICAKICAgICAgICB2YXIgcG9wdXBfMGU2ZTNjMTEyOTg4NGUwNjg2MWRmNDMzY2Q3ODFjMjEgPSBMLnBvcHVwKHsibWF4V2lkdGgiOiAxMDB9KTsKCiAgICAgICAgCiAgICAgICAgICAgIHZhciBodG1sXzFjOWIxYzY1NzMxYjQyMDU5NjkyMjcyNGRhMmJkYjUwID0gJChgPGRpdiBpZD0iaHRtbF8xYzliMWM2NTczMWI0MjA1OTY5MjI3MjRkYTJiZGI1MCIgc3R5bGU9IndpZHRoOiAxMDAuMCU7IGhlaWdodDogMTAwLjAlOyI+PGI+Q29mZmVlIE5ldDwvYj4gPGJyPldhZHkgQWwgVGFpcnkgU3RyZWV0LCBBbCBPbGF5YTwvZGl2PmApWzBdOwogICAgICAgICAgICBwb3B1cF8wZTZlM2MxMTI5ODg0ZTA2ODYxZGY0MzNjZDc4MWMyMS5zZXRDb250ZW50KGh0bWxfMWM5YjFjNjU3MzFiNDIwNTk2OTIyNzI0ZGEyYmRiNTApOwogICAgICAgIAoKICAgICAgICBtYXJrZXJfMjNjM2YzYTY1YWIzNDVhZGJhY2I4ZWNiMThjMGRmNDcuYmluZFBvcHVwKHBvcHVwXzBlNmUzYzExMjk4ODRlMDY4NjFkZjQzM2NkNzgxYzIxKQogICAgICAgIDsKCiAgICAgICAgCiAgICAKICAgIAogICAgICAgICAgICBtYXJrZXJfMjNjM2YzYTY1YWIzNDVhZGJhY2I4ZWNiMThjMGRmNDcuYmluZFRvb2x0aXAoCiAgICAgICAgICAgICAgICBgPGRpdj4KICAgICAgICAgICAgICAgICAgICAgPGI+Q29mZmVlIE5ldDwvYj4gPGJyPiAoMSBtaW5zKQogICAgICAgICAgICAgICAgIDwvZGl2PmAsCiAgICAgICAgICAgICAgICB7InN0aWNreSI6IHRydWV9CiAgICAgICAgICAgICk7CiAgICAgICAgCiAgICAKICAgICAgICAgICAgdmFyIG1hcmtlcl8xN2NiMThkMjZhOTY0ZDFmOWNmNWMyZWFjZDllMGJlZSA9IEwubWFya2VyKAogICAgICAgICAgICAgICAgWzI0LjY5MzA5LCA0Ni42ODIzNV0sCiAgICAgICAgICAgICAgICB7fQogICAgICAgICAgICApLmFkZFRvKG1hcF84MDU5Nzg1YTVjZjI0MzFkOThlODgwMGZlNDNkZWQ1Yyk7CiAgICAgICAgCiAgICAKICAgICAgICAgICAgdmFyIGJlYXV0aWZ5X2ljb25fMDZlMWYwODBhMDE5NGU0YmJkOTljMTM4NTNjOGVkYWUgPSBuZXcgTC5CZWF1dGlmeUljb24uaWNvbigKICAgICAgICAgICAgICAgIHsiYmFja2dyb3VuZENvbG9yIjogIiMzNDVkZmYiLCAiYm9yZGVyQ29sb3IiOiAiIzM0NWRmZiIsICJib3JkZXJXaWR0aCI6IDMsICJpY29uU2hhcGUiOiAibWFya2VyIiwgImljb25TaXplIjogWzMwLCAzMF0sICJpbm5lckljb25TdHlsZSI6ICJmb250LXNpemU6MTJweDtwYWRkaW5nLXRvcDotNXB4OyIsICJpc0FscGhhTnVtZXJpY0ljb24iOiB0cnVlLCAic3BpbiI6IHRydWUsICJ0ZXh0IjogMTAsICJ0ZXh0Q29sb3IiOiAiZ3JheSJ9CiAgICAgICAgICAgICkKICAgICAgICAgICAgbWFya2VyXzE3Y2IxOGQyNmE5NjRkMWY5Y2Y1YzJlYWNkOWUwYmVlLnNldEljb24oYmVhdXRpZnlfaWNvbl8wNmUxZjA4MGEwMTk0ZTRiYmQ5OWMxMzg1M2M4ZWRhZSk7CiAgICAgICAgCiAgICAKICAgICAgICB2YXIgcG9wdXBfZmYzZGI5NjdiYWM2NGE2YmI1YWQ2MzEzYjVlOTJhODggPSBMLnBvcHVwKHsibWF4V2lkdGgiOiAxMDB9KTsKCiAgICAgICAgCiAgICAgICAgICAgIHZhciBodG1sX2Y2NjMwYTA4ZmJmZDQ4MzY5MWExMzk4ZTY0YTRmNmNmID0gJChgPGRpdiBpZD0iaHRtbF9mNjYzMGEwOGZiZmQ0ODM2OTFhMTM5OGU2NGE0ZjZjZiIgc3R5bGU9IndpZHRoOiAxMDAuMCU7IGhlaWdodDogMTAwLjAlOyI+PGI+UGFyaXMgQ29mZmVlPC9iPiA8YnI+V2FkaSBBbCBBbWFyaWEgU3RyZWV0LCBBbCBPbGF5YTwvZGl2PmApWzBdOwogICAgICAgICAgICBwb3B1cF9mZjNkYjk2N2JhYzY0YTZiYjVhZDYzMTNiNWU5MmE4OC5zZXRDb250ZW50KGh0bWxfZjY2MzBhMDhmYmZkNDgzNjkxYTEzOThlNjRhNGY2Y2YpOwogICAgICAgIAoKICAgICAgICBtYXJrZXJfMTdjYjE4ZDI2YTk2NGQxZjljZjVjMmVhY2Q5ZTBiZWUuYmluZFBvcHVwKHBvcHVwX2ZmM2RiOTY3YmFjNjRhNmJiNWFkNjMxM2I1ZTkyYTg4KQogICAgICAgIDsKCiAgICAgICAgCiAgICAKICAgIAogICAgICAgICAgICBtYXJrZXJfMTdjYjE4ZDI2YTk2NGQxZjljZjVjMmVhY2Q5ZTBiZWUuYmluZFRvb2x0aXAoCiAgICAgICAgICAgICAgICBgPGRpdj4KICAgICAgICAgICAgICAgICAgICAgPGI+UGFyaXMgQ29mZmVlPC9iPiA8YnI+ICgyIG1pbnMpCiAgICAgICAgICAgICAgICAgPC9kaXY+YCwKICAgICAgICAgICAgICAgIHsic3RpY2t5IjogdHJ1ZX0KICAgICAgICAgICAgKTsKICAgICAgICAKICAgIAogICAgICAgICAgICB2YXIgbWFya2VyXzIyNWFhOGQ0MThlMzQ0ZGI5Mzk0MzJhYmMwMWYwYTM5ID0gTC5tYXJrZXIoCiAgICAgICAgICAgICAgICBbMjQuNjk0NTEsIDQ2LjY4MjU1XSwKICAgICAgICAgICAgICAgIHt9CiAgICAgICAgICAgICkuYWRkVG8obWFwXzgwNTk3ODVhNWNmMjQzMWQ5OGU4ODAwZmU0M2RlZDVjKTsKICAgICAgICAKICAgIAogICAgICAgICAgICB2YXIgYmVhdXRpZnlfaWNvbl9mMTNiNDUwYzBkMTU0ZmI0OTM4MDVhYjk0OTFiMWZkOCA9IG5ldyBMLkJlYXV0aWZ5SWNvbi5pY29uKAogICAgICAgICAgICAgICAgeyJiYWNrZ3JvdW5kQ29sb3IiOiAiIzQ2NmZmZiIsICJib3JkZXJDb2xvciI6ICIjNDY2ZmZmIiwgImJvcmRlcldpZHRoIjogMywgImljb25TaGFwZSI6ICJtYXJrZXIiLCAiaWNvblNpemUiOiBbMjksIDI5XSwgImlubmVySWNvblN0eWxlIjogImZvbnQtc2l6ZToxMnB4O3BhZGRpbmctdG9wOi01cHg7IiwgImlzQWxwaGFOdW1lcmljSWNvbiI6IHRydWUsICJzcGluIjogdHJ1ZSwgInRleHQiOiAxMSwgInRleHRDb2xvciI6ICJncmF5In0KICAgICAgICAgICAgKQogICAgICAgICAgICBtYXJrZXJfMjI1YWE4ZDQxOGUzNDRkYjkzOTQzMmFiYzAxZjBhMzkuc2V0SWNvbihiZWF1dGlmeV9pY29uX2YxM2I0NTBjMGQxNTRmYjQ5MzgwNWFiOTQ5MWIxZmQ4KTsKICAgICAgICAKICAgIAogICAgICAgIHZhciBwb3B1cF8yMzJkMmFiOTYxZDI0MjlkOTFiMWQ3NWVlZmU0ZjllYiA9IEwucG9wdXAoeyJtYXhXaWR0aCI6IDEwMH0pOwoKICAgICAgICAKICAgICAgICAgICAgdmFyIGh0bWxfY2ZmNGYwZDRhODE3NDczMTkyYmM1Y2QxM2I1YjYwMTggPSAkKGA8ZGl2IGlkPSJodG1sX2NmZjRmMGQ0YTgxNzQ3MzE5MmJjNWNkMTNiNWI2MDE4IiBzdHlsZT0id2lkdGg6IDEwMC4wJTsgaGVpZ2h0OiAxMDAuMCU7Ij48Yj5CbGFjayBIb3VzZTwvYj4gPGJyPjUwIFN0cmVldCwgQWwgT2xheWE8L2Rpdj5gKVswXTsKICAgICAgICAgICAgcG9wdXBfMjMyZDJhYjk2MWQyNDI5ZDkxYjFkNzVlZWZlNGY5ZWIuc2V0Q29udGVudChodG1sX2NmZjRmMGQ0YTgxNzQ3MzE5MmJjNWNkMTNiNWI2MDE4KTsKICAgICAgICAKCiAgICAgICAgbWFya2VyXzIyNWFhOGQ0MThlMzQ0ZGI5Mzk0MzJhYmMwMWYwYTM5LmJpbmRQb3B1cChwb3B1cF8yMzJkMmFiOTYxZDI0MjlkOTFiMWQ3NWVlZmU0ZjllYikKICAgICAgICA7CgogICAgICAgIAogICAgCiAgICAKICAgICAgICAgICAgbWFya2VyXzIyNWFhOGQ0MThlMzQ0ZGI5Mzk0MzJhYmMwMWYwYTM5LmJpbmRUb29sdGlwKAogICAgICAgICAgICAgICAgYDxkaXY+CiAgICAgICAgICAgICAgICAgICAgIDxiPkJsYWNrIEhvdXNlPC9iPiA8YnI+ICgyIG1pbnMpCiAgICAgICAgICAgICAgICAgPC9kaXY+YCwKICAgICAgICAgICAgICAgIHsic3RpY2t5IjogdHJ1ZX0KICAgICAgICAgICAgKTsKICAgICAgICAKICAgIAogICAgICAgICAgICB2YXIgbWFya2VyXzJkMWQyYTY5ODhiNDRkNDU5NjZiMzQxNGI0ZDMzMjA1ID0gTC5tYXJrZXIoCiAgICAgICAgICAgICAgICBbMjQuNjg5ODEsIDQ2LjY4NTA2XSwKICAgICAgICAgICAgICAgIHt9CiAgICAgICAgICAgICkuYWRkVG8obWFwXzgwNTk3ODVhNWNmMjQzMWQ5OGU4ODAwZmU0M2RlZDVjKTsKICAgICAgICAKICAgIAogICAgICAgICAgICB2YXIgYmVhdXRpZnlfaWNvbl9hNjYyNDA3YWE0NzM0Y2YxYmY1ZjRmOTRjYzhkMGEyOCA9IG5ldyBMLkJlYXV0aWZ5SWNvbi5pY29uKAogICAgICAgICAgICAgICAgeyJiYWNrZ3JvdW5kQ29sb3IiOiAiIzU4ODBmZiIsICJib3JkZXJDb2xvciI6ICIjNTg4MGZmIiwgImJvcmRlcldpZHRoIjogMywgImljb25TaGFwZSI6ICJtYXJrZXIiLCAiaWNvblNpemUiOiBbMjgsIDI4XSwgImlubmVySWNvblN0eWxlIjogImZvbnQtc2l6ZToxMnB4O3BhZGRpbmctdG9wOi01cHg7IiwgImlzQWxwaGFOdW1lcmljSWNvbiI6IHRydWUsICJzcGluIjogdHJ1ZSwgInRleHQiOiAxMiwgInRleHRDb2xvciI6ICJncmF5In0KICAgICAgICAgICAgKQogICAgICAgICAgICBtYXJrZXJfMmQxZDJhNjk4OGI0NGQ0NTk2NmIzNDE0YjRkMzMyMDUuc2V0SWNvbihiZWF1dGlmeV9pY29uX2E2NjI0MDdhYTQ3MzRjZjFiZjVmNGY5NGNjOGQwYTI4KTsKICAgICAgICAKICAgIAogICAgICAgIHZhciBwb3B1cF8wMGFlMDgzOGQyNzg0NWEzYjI3YzI4NzI5ZDBmMzBkOCA9IEwucG9wdXAoeyJtYXhXaWR0aCI6IDEwMH0pOwoKICAgICAgICAKICAgICAgICAgICAgdmFyIGh0bWxfZDViNmFhOWNmOWYzNDJjMTliMDIxMjE4ZDZjYWQxZjggPSAkKGA8ZGl2IGlkPSJodG1sX2Q1YjZhYTljZjlmMzQyYzE5YjAyMTIxOGQ2Y2FkMWY4IiBzdHlsZT0id2lkdGg6IDEwMC4wJTsgaGVpZ2h0OiAxMDAuMCU7Ij48Yj5Mb25kb24gUGFzdHJpZXMgQW5kIENvZmZlZTwvYj4gPGJyPiwgQWwgT2xheWE8L2Rpdj5gKVswXTsKICAgICAgICAgICAgcG9wdXBfMDBhZTA4MzhkMjc4NDVhM2IyN2MyODcyOWQwZjMwZDguc2V0Q29udGVudChodG1sX2Q1YjZhYTljZjlmMzQyYzE5YjAyMTIxOGQ2Y2FkMWY4KTsKICAgICAgICAKCiAgICAgICAgbWFya2VyXzJkMWQyYTY5ODhiNDRkNDU5NjZiMzQxNGI0ZDMzMjA1LmJpbmRQb3B1cChwb3B1cF8wMGFlMDgzOGQyNzg0NWEzYjI3YzI4NzI5ZDBmMzBkOCkKICAgICAgICA7CgogICAgICAgIAogICAgCiAgICAKICAgICAgICAgICAgbWFya2VyXzJkMWQyYTY5ODhiNDRkNDU5NjZiMzQxNGI0ZDMzMjA1LmJpbmRUb29sdGlwKAogICAgICAgICAgICAgICAgYDxkaXY+CiAgICAgICAgICAgICAgICAgICAgIDxiPkxvbmRvbiBQYXN0cmllcyBBbmQgQ29mZmVlPC9iPiA8YnI+ICgyIG1pbnMpCiAgICAgICAgICAgICAgICAgPC9kaXY+YCwKICAgICAgICAgICAgICAgIHsic3RpY2t5IjogdHJ1ZX0KICAgICAgICAgICAgKTsKICAgICAgICAKICAgIAogICAgICAgICAgICB2YXIgbWFya2VyXzA1ZjE1NmNjNGM5YjQ2ODY5YTA5YzdkNzBkYTYwZmZkID0gTC5tYXJrZXIoCiAgICAgICAgICAgICAgICBbMjQuNjgyNzQsIDQ2LjY4Nzk0XSwKICAgICAgICAgICAgICAgIHt9CiAgICAgICAgICAgICkuYWRkVG8obWFwXzgwNTk3ODVhNWNmMjQzMWQ5OGU4ODAwZmU0M2RlZDVjKTsKICAgICAgICAKICAgIAogICAgICAgICAgICB2YXIgYmVhdXRpZnlfaWNvbl81NzJkZjhmYWNiNGU0MjEyOWVhYWJlMjE2N2Q4N2M3MyA9IG5ldyBMLkJlYXV0aWZ5SWNvbi5pY29uKAogICAgICAgICAgICAgICAgeyJiYWNrZ3JvdW5kQ29sb3IiOiAiIzZhOTFmZiIsICJib3JkZXJDb2xvciI6ICIjNmE5MWZmIiwgImJvcmRlcldpZHRoIjogMywgImljb25TaGFwZSI6ICJtYXJrZXIiLCAiaWNvblNpemUiOiBbMjcsIDI3XSwgImlubmVySWNvblN0eWxlIjogImZvbnQtc2l6ZToxMnB4O3BhZGRpbmctdG9wOi01cHg7IiwgImlzQWxwaGFOdW1lcmljSWNvbiI6IHRydWUsICJzcGluIjogdHJ1ZSwgInRleHQiOiAxMywgInRleHRDb2xvciI6ICJncmF5In0KICAgICAgICAgICAgKQogICAgICAgICAgICBtYXJrZXJfMDVmMTU2Y2M0YzliNDY4NjlhMDljN2Q3MGRhNjBmZmQuc2V0SWNvbihiZWF1dGlmeV9pY29uXzU3MmRmOGZhY2I0ZTQyMTI5ZWFhYmUyMTY3ZDg3YzczKTsKICAgICAgICAKICAgIAogICAgICAgIHZhciBwb3B1cF8xMjk2NjdmYmIwZDk0ODEzYWNkMjA4Mzg3NGVkNTg2OCA9IEwucG9wdXAoeyJtYXhXaWR0aCI6IDEwMH0pOwoKICAgICAgICAKICAgICAgICAgICAgdmFyIGh0bWxfMjZhYzJlMzdhNTA0NGFmYTk4NTVmNjdjNGM1YTlmNWEgPSAkKGA8ZGl2IGlkPSJodG1sXzI2YWMyZTM3YTUwNDRhZmE5ODU1ZjY3YzRjNWE5ZjVhIiBzdHlsZT0id2lkdGg6IDEwMC4wJTsgaGVpZ2h0OiAxMDAuMCU7Ij48Yj5NYWRhciBBbCBIYXlhaCBDZW50ZXIgRm9yIEludGVybmV0PC9iPiA8YnI+V2FkaSBBbCBEYXdhc2VyIFN0cmVldCwgQWwgT2xheWE8L2Rpdj5gKVswXTsKICAgICAgICAgICAgcG9wdXBfMTI5NjY3ZmJiMGQ5NDgxM2FjZDIwODM4NzRlZDU4Njguc2V0Q29udGVudChodG1sXzI2YWMyZTM3YTUwNDRhZmE5ODU1ZjY3YzRjNWE5ZjVhKTsKICAgICAgICAKCiAgICAgICAgbWFya2VyXzA1ZjE1NmNjNGM5YjQ2ODY5YTA5YzdkNzBkYTYwZmZkLmJpbmRQb3B1cChwb3B1cF8xMjk2NjdmYmIwZDk0ODEzYWNkMjA4Mzg3NGVkNTg2OCkKICAgICAgICA7CgogICAgICAgIAogICAgCiAgICAKICAgICAgICAgICAgbWFya2VyXzA1ZjE1NmNjNGM5YjQ2ODY5YTA5YzdkNzBkYTYwZmZkLmJpbmRUb29sdGlwKAogICAgICAgICAgICAgICAgYDxkaXY+CiAgICAgICAgICAgICAgICAgICAgIDxiPk1hZGFyIEFsIEhheWFoIENlbnRlciBGb3IgSW50ZXJuZXQ8L2I+IDxicj4gKDIgbWlucykKICAgICAgICAgICAgICAgICA8L2Rpdj5gLAogICAgICAgICAgICAgICAgeyJzdGlja3kiOiB0cnVlfQogICAgICAgICAgICApOwogICAgICAgIAogICAgCiAgICAgICAgICAgIHZhciBtYXJrZXJfM2VmN2MyMWQ0NjkxNDY2ODk4MWQ5NzQzYTk5ZjQ0OWMgPSBMLm1hcmtlcigKICAgICAgICAgICAgICAgIFsyNC42OTA5NiwgNDYuNjg0MzVdLAogICAgICAgICAgICAgICAge30KICAgICAgICAgICAgKS5hZGRUbyhtYXBfODA1OTc4NWE1Y2YyNDMxZDk4ZTg4MDBmZTQzZGVkNWMpOwogICAgICAgIAogICAgCiAgICAgICAgICAgIHZhciBiZWF1dGlmeV9pY29uX2MxZmUyMDNhZmEzOTRiMzNhNzJmYjdmNDZiNmE3ZjkyID0gbmV3IEwuQmVhdXRpZnlJY29uLmljb24oCiAgICAgICAgICAgICAgICB7ImJhY2tncm91bmRDb2xvciI6ICIjN2NhMGZmIiwgImJvcmRlckNvbG9yIjogIiM3Y2EwZmYiLCAiYm9yZGVyV2lkdGgiOiAzLCAiaWNvblNoYXBlIjogIm1hcmtlciIsICJpY29uU2l6ZSI6IFsyNiwgMjZdLCAiaW5uZXJJY29uU3R5bGUiOiAiZm9udC1zaXplOjEycHg7cGFkZGluZy10b3A6LTVweDsiLCAiaXNBbHBoYU51bWVyaWNJY29uIjogdHJ1ZSwgInNwaW4iOiB0cnVlLCAidGV4dCI6IDE0LCAidGV4dENvbG9yIjogImdyYXkifQogICAgICAgICAgICApCiAgICAgICAgICAgIG1hcmtlcl8zZWY3YzIxZDQ2OTE0NjY4OTgxZDk3NDNhOTlmNDQ5Yy5zZXRJY29uKGJlYXV0aWZ5X2ljb25fYzFmZTIwM2FmYTM5NGIzM2E3MmZiN2Y0NmI2YTdmOTIpOwogICAgICAgIAogICAgCiAgICAgICAgdmFyIHBvcHVwX2RmNjc2NDQ1MDQ4MzQ1NTI5NmZjYWE2NjliZDk2ZGVjID0gTC5wb3B1cCh7Im1heFdpZHRoIjogMTAwfSk7CgogICAgICAgIAogICAgICAgICAgICB2YXIgaHRtbF9jMWMwMmRjMWU2ZDg0YzQ2OGQ0YzE5OTljZmVkMWFjMyA9ICQoYDxkaXYgaWQ9Imh0bWxfYzFjMDJkYzFlNmQ4NGM0NjhkNGMxOTk5Y2ZlZDFhYzMiIHN0eWxlPSJ3aWR0aDogMTAwLjAlOyBoZWlnaHQ6IDEwMC4wJTsiPjxiPkNvZmZlZSBEYXk8L2I+IDxicj5BbCBNb2F0YXNlbSBTdHJlZXQsIEFsIE9sYXlhPC9kaXY+YClbMF07CiAgICAgICAgICAgIHBvcHVwX2RmNjc2NDQ1MDQ4MzQ1NTI5NmZjYWE2NjliZDk2ZGVjLnNldENvbnRlbnQoaHRtbF9jMWMwMmRjMWU2ZDg0YzQ2OGQ0YzE5OTljZmVkMWFjMyk7CiAgICAgICAgCgogICAgICAgIG1hcmtlcl8zZWY3YzIxZDQ2OTE0NjY4OTgxZDk3NDNhOTlmNDQ5Yy5iaW5kUG9wdXAocG9wdXBfZGY2NzY0NDUwNDgzNDU1Mjk2ZmNhYTY2OWJkOTZkZWMpCiAgICAgICAgOwoKICAgICAgICAKICAgIAogICAgCiAgICAgICAgICAgIG1hcmtlcl8zZWY3YzIxZDQ2OTE0NjY4OTgxZDk3NDNhOTlmNDQ5Yy5iaW5kVG9vbHRpcCgKICAgICAgICAgICAgICAgIGA8ZGl2PgogICAgICAgICAgICAgICAgICAgICA8Yj5Db2ZmZWUgRGF5PC9iPiA8YnI+ICgyIG1pbnMpCiAgICAgICAgICAgICAgICAgPC9kaXY+YCwKICAgICAgICAgICAgICAgIHsic3RpY2t5IjogdHJ1ZX0KICAgICAgICAgICAgKTsKICAgICAgICAKICAgIAogICAgICAgICAgICB2YXIgbWFya2VyXzQ2ZjA0ODk4ZWEwODQ0N2M4NjY3ZTAzOTNkMzQwN2I4ID0gTC5tYXJrZXIoCiAgICAgICAgICAgICAgICBbMjQuNjgyMTksIDQ2LjY5Nzk4XSwKICAgICAgICAgICAgICAgIHt9CiAgICAgICAgICAgICkuYWRkVG8obWFwXzgwNTk3ODVhNWNmMjQzMWQ5OGU4ODAwZmU0M2RlZDVjKTsKICAgICAgICAKICAgIAogICAgICAgICAgICB2YXIgYmVhdXRpZnlfaWNvbl82MzFiNGJlNDA5YWE0NjYyYTVhMjdkYjI5YjYyYzY0MyA9IG5ldyBMLkJlYXV0aWZ5SWNvbi5pY29uKAogICAgICAgICAgICAgICAgeyJiYWNrZ3JvdW5kQ29sb3IiOiAiIzhkYjBmZiIsICJib3JkZXJDb2xvciI6ICIjOGRiMGZmIiwgImJvcmRlcldpZHRoIjogMywgImljb25TaGFwZSI6ICJtYXJrZXIiLCAiaWNvblNpemUiOiBbMjUsIDI1XSwgImlubmVySWNvblN0eWxlIjogImZvbnQtc2l6ZToxMnB4O3BhZGRpbmctdG9wOi01cHg7IiwgImlzQWxwaGFOdW1lcmljSWNvbiI6IHRydWUsICJzcGluIjogdHJ1ZSwgInRleHQiOiAxNSwgInRleHRDb2xvciI6ICJncmF5In0KICAgICAgICAgICAgKQogICAgICAgICAgICBtYXJrZXJfNDZmMDQ4OThlYTA4NDQ3Yzg2NjdlMDM5M2QzNDA3Yjguc2V0SWNvbihiZWF1dGlmeV9pY29uXzYzMWI0YmU0MDlhYTQ2NjJhNWEyN2RiMjliNjJjNjQzKTsKICAgICAgICAKICAgIAogICAgICAgIHZhciBwb3B1cF9jN2QxNDdmYzM0ZWE0ZTRlYWMzYzJmMmI5MzBmYmJiYiA9IEwucG9wdXAoeyJtYXhXaWR0aCI6IDEwMH0pOwoKICAgICAgICAKICAgICAgICAgICAgdmFyIGh0bWxfYTQ0NGE4YmY5NjA0NDc5OWI1NWMxMjBjY2I0ZjBlYTcgPSAkKGA8ZGl2IGlkPSJodG1sX2E0NDRhOGJmOTYwNDQ3OTliNTVjMTIwY2NiNGYwZWE3IiBzdHlsZT0id2lkdGg6IDEwMC4wJTsgaGVpZ2h0OiAxMDAuMCU7Ij48Yj5TZXZlbiBDYWZlPC9iPiA8YnI+LCBBbCBPbGF5YTwvZGl2PmApWzBdOwogICAgICAgICAgICBwb3B1cF9jN2QxNDdmYzM0ZWE0ZTRlYWMzYzJmMmI5MzBmYmJiYi5zZXRDb250ZW50KGh0bWxfYTQ0NGE4YmY5NjA0NDc5OWI1NWMxMjBjY2I0ZjBlYTcpOwogICAgICAgIAoKICAgICAgICBtYXJrZXJfNDZmMDQ4OThlYTA4NDQ3Yzg2NjdlMDM5M2QzNDA3YjguYmluZFBvcHVwKHBvcHVwX2M3ZDE0N2ZjMzRlYTRlNGVhYzNjMmYyYjkzMGZiYmJiKQogICAgICAgIDsKCiAgICAgICAgCiAgICAKICAgIAogICAgICAgICAgICBtYXJrZXJfNDZmMDQ4OThlYTA4NDQ3Yzg2NjdlMDM5M2QzNDA3YjguYmluZFRvb2x0aXAoCiAgICAgICAgICAgICAgICBgPGRpdj4KICAgICAgICAgICAgICAgICAgICAgPGI+U2V2ZW4gQ2FmZTwvYj4gPGJyPiAoMiBtaW5zKQogICAgICAgICAgICAgICAgIDwvZGl2PmAsCiAgICAgICAgICAgICAgICB7InN0aWNreSI6IHRydWV9CiAgICAgICAgICAgICk7CiAgICAgICAgCiAgICAKICAgICAgICAgICAgdmFyIG1hcmtlcl9iYTM0OTNhY2NkZTU0OGM4ODhiNjdmYTZkNThkNmI3MSA9IEwubWFya2VyKAogICAgICAgICAgICAgICAgWzI0LjY5MTQzLCA0Ni42ODE5MV0sCiAgICAgICAgICAgICAgICB7fQogICAgICAgICAgICApLmFkZFRvKG1hcF84MDU5Nzg1YTVjZjI0MzFkOThlODgwMGZlNDNkZWQ1Yyk7CiAgICAgICAgCiAgICAKICAgICAgICAgICAgdmFyIGJlYXV0aWZ5X2ljb25fNWMyODYyZjNhNDJmNGYzMmI0N2VkMDUxNWZmNTRkOTAgPSBuZXcgTC5CZWF1dGlmeUljb24uaWNvbigKICAgICAgICAgICAgICAgIHsiYmFja2dyb3VuZENvbG9yIjogIiM5ZmJlZmYiLCAiYm9yZGVyQ29sb3IiOiAiIzlmYmVmZiIsICJib3JkZXJXaWR0aCI6IDMsICJpY29uU2hhcGUiOiAibWFya2VyIiwgImljb25TaXplIjogWzI0LCAyNF0sICJpbm5lckljb25TdHlsZSI6ICJmb250LXNpemU6MTJweDtwYWRkaW5nLXRvcDotNXB4OyIsICJpc0FscGhhTnVtZXJpY0ljb24iOiB0cnVlLCAic3BpbiI6IHRydWUsICJ0ZXh0IjogMTYsICJ0ZXh0Q29sb3IiOiAiZ3JheSJ9CiAgICAgICAgICAgICkKICAgICAgICAgICAgbWFya2VyX2JhMzQ5M2FjY2RlNTQ4Yzg4OGI2N2ZhNmQ1OGQ2YjcxLnNldEljb24oYmVhdXRpZnlfaWNvbl81YzI4NjJmM2E0MmY0ZjMyYjQ3ZWQwNTE1ZmY1NGQ5MCk7CiAgICAgICAgCiAgICAKICAgICAgICB2YXIgcG9wdXBfY2MxYjZiMTAwODEzNDQ1NWFkMGY3OGU4ZTNiM2E1NTcgPSBMLnBvcHVwKHsibWF4V2lkdGgiOiAxMDB9KTsKCiAgICAgICAgCiAgICAgICAgICAgIHZhciBodG1sX2NmMjIwYzFjODNhNjRkNDZiZjQxNDM5M2U0MTA5YmE2ID0gJChgPGRpdiBpZD0iaHRtbF9jZjIyMGMxYzgzYTY0ZDQ2YmY0MTQzOTNlNDEwOWJhNiIgc3R5bGU9IndpZHRoOiAxMDAuMCU7IGhlaWdodDogMTAwLjAlOyI+PGI+RHVua2luJzwvYj4gPGJyPkhhYmEgQWxsYWggQWwgU2FtcnkgQWxsZXksIEFsIE9sYXlhPC9kaXY+YClbMF07CiAgICAgICAgICAgIHBvcHVwX2NjMWI2YjEwMDgxMzQ0NTVhZDBmNzhlOGUzYjNhNTU3LnNldENvbnRlbnQoaHRtbF9jZjIyMGMxYzgzYTY0ZDQ2YmY0MTQzOTNlNDEwOWJhNik7CiAgICAgICAgCgogICAgICAgIG1hcmtlcl9iYTM0OTNhY2NkZTU0OGM4ODhiNjdmYTZkNThkNmI3MS5iaW5kUG9wdXAocG9wdXBfY2MxYjZiMTAwODEzNDQ1NWFkMGY3OGU4ZTNiM2E1NTcpCiAgICAgICAgOwoKICAgICAgICAKICAgIAogICAgCiAgICAgICAgICAgIG1hcmtlcl9iYTM0OTNhY2NkZTU0OGM4ODhiNjdmYTZkNThkNmI3MS5iaW5kVG9vbHRpcCgKICAgICAgICAgICAgICAgIGA8ZGl2PgogICAgICAgICAgICAgICAgICAgICA8Yj5EdW5raW4nPC9iPiA8YnI+ICgyIG1pbnMpCiAgICAgICAgICAgICAgICAgPC9kaXY+YCwKICAgICAgICAgICAgICAgIHsic3RpY2t5IjogdHJ1ZX0KICAgICAgICAgICAgKTsKICAgICAgICAKICAgIAogICAgICAgICAgICB2YXIgbWFya2VyXzBmMTU0YWE0MzU2YzRjOGE4MDY3NTc5ZjNiNTRkZjM5ID0gTC5tYXJrZXIoCiAgICAgICAgICAgICAgICBbMjQuNjgxNDksIDQ2LjY5NjY0XSwKICAgICAgICAgICAgICAgIHt9CiAgICAgICAgICAgICkuYWRkVG8obWFwXzgwNTk3ODVhNWNmMjQzMWQ5OGU4ODAwZmU0M2RlZDVjKTsKICAgICAgICAKICAgIAogICAgICAgICAgICB2YXIgYmVhdXRpZnlfaWNvbl80YzNlNmRhODQwM2M0YmYyYTdjMGZjNGZkYTYzMTZjOSA9IG5ldyBMLkJlYXV0aWZ5SWNvbi5pY29uKAogICAgICAgICAgICAgICAgeyJiYWNrZ3JvdW5kQ29sb3IiOiAiI2IxY2NmZiIsICJib3JkZXJDb2xvciI6ICIjYjFjY2ZmIiwgImJvcmRlcldpZHRoIjogMywgImljb25TaGFwZSI6ICJtYXJrZXIiLCAiaWNvblNpemUiOiBbMjMsIDIzXSwgImlubmVySWNvblN0eWxlIjogImZvbnQtc2l6ZToxMnB4O3BhZGRpbmctdG9wOi01cHg7IiwgImlzQWxwaGFOdW1lcmljSWNvbiI6IHRydWUsICJzcGluIjogdHJ1ZSwgInRleHQiOiAxNywgInRleHRDb2xvciI6ICJncmF5In0KICAgICAgICAgICAgKQogICAgICAgICAgICBtYXJrZXJfMGYxNTRhYTQzNTZjNGM4YTgwNjc1NzlmM2I1NGRmMzkuc2V0SWNvbihiZWF1dGlmeV9pY29uXzRjM2U2ZGE4NDAzYzRiZjJhN2MwZmM0ZmRhNjMxNmM5KTsKICAgICAgICAKICAgIAogICAgICAgIHZhciBwb3B1cF82ZGE5OTZjMWI0MTI0YWI4ODBjYzU5YTEyOTFiMzE1MSA9IEwucG9wdXAoeyJtYXhXaWR0aCI6IDEwMH0pOwoKICAgICAgICAKICAgICAgICAgICAgdmFyIGh0bWxfYWE0Y2U2NjdhNjFmNDk2Y2IzOTRmMTc1ZWY0OTViY2YgPSAkKGA8ZGl2IGlkPSJodG1sX2FhNGNlNjY3YTYxZjQ5NmNiMzk0ZjE3NWVmNDk1YmNmIiBzdHlsZT0id2lkdGg6IDEwMC4wJTsgaGVpZ2h0OiAxMDAuMCU7Ij48Yj5BbCBLaHV6YW1hPC9iPiA8YnI+UHJpbmNlIE1hbnNvb3IgQmluIEFidWxheml6IFN0cmVldCwgQWwgT2xheWE8L2Rpdj5gKVswXTsKICAgICAgICAgICAgcG9wdXBfNmRhOTk2YzFiNDEyNGFiODgwY2M1OWExMjkxYjMxNTEuc2V0Q29udGVudChodG1sX2FhNGNlNjY3YTYxZjQ5NmNiMzk0ZjE3NWVmNDk1YmNmKTsKICAgICAgICAKCiAgICAgICAgbWFya2VyXzBmMTU0YWE0MzU2YzRjOGE4MDY3NTc5ZjNiNTRkZjM5LmJpbmRQb3B1cChwb3B1cF82ZGE5OTZjMWI0MTI0YWI4ODBjYzU5YTEyOTFiMzE1MSkKICAgICAgICA7CgogICAgICAgIAogICAgCiAgICAKICAgICAgICAgICAgbWFya2VyXzBmMTU0YWE0MzU2YzRjOGE4MDY3NTc5ZjNiNTRkZjM5LmJpbmRUb29sdGlwKAogICAgICAgICAgICAgICAgYDxkaXY+CiAgICAgICAgICAgICAgICAgICAgIDxiPkFsIEtodXphbWE8L2I+IDxicj4gKDIgbWlucykKICAgICAgICAgICAgICAgICA8L2Rpdj5gLAogICAgICAgICAgICAgICAgeyJzdGlja3kiOiB0cnVlfQogICAgICAgICAgICApOwogICAgICAgIAogICAgCiAgICAgICAgICAgIHZhciBtYXJrZXJfZjNkNDcyMGY2MDRhNGVhODkxMjNiZjY1NTE5NGIwOGEgPSBMLm1hcmtlcigKICAgICAgICAgICAgICAgIFsyNC42ODE4NiwgNDYuNjk2OTVdLAogICAgICAgICAgICAgICAge30KICAgICAgICAgICAgKS5hZGRUbyhtYXBfODA1OTc4NWE1Y2YyNDMxZDk4ZTg4MDBmZTQzZGVkNWMpOwogICAgICAgIAogICAgCiAgICAgICAgICAgIHZhciBiZWF1dGlmeV9pY29uX2JiZTBlYWY1YmUxMzQ1MjFhNGVhZTdkYzUzOGNlMGVhID0gbmV3IEwuQmVhdXRpZnlJY29uLmljb24oCiAgICAgICAgICAgICAgICB7ImJhY2tncm91bmRDb2xvciI6ICIjYzNkOWZmIiwgImJvcmRlckNvbG9yIjogIiNjM2Q5ZmYiLCAiYm9yZGVyV2lkdGgiOiAzLCAiaWNvblNoYXBlIjogIm1hcmtlciIsICJpY29uU2l6ZSI6IFsyMiwgMjJdLCAiaW5uZXJJY29uU3R5bGUiOiAiZm9udC1zaXplOjEycHg7cGFkZGluZy10b3A6LTVweDsiLCAiaXNBbHBoYU51bWVyaWNJY29uIjogdHJ1ZSwgInNwaW4iOiB0cnVlLCAidGV4dCI6IDE4LCAidGV4dENvbG9yIjogImdyYXkifQogICAgICAgICAgICApCiAgICAgICAgICAgIG1hcmtlcl9mM2Q0NzIwZjYwNGE0ZWE4OTEyM2JmNjU1MTk0YjA4YS5zZXRJY29uKGJlYXV0aWZ5X2ljb25fYmJlMGVhZjViZTEzNDUyMWE0ZWFlN2RjNTM4Y2UwZWEpOwogICAgICAgIAogICAgCiAgICAgICAgdmFyIHBvcHVwXzg0YjE4ZTBjZGQwZTQ0MWJhZjUxMmM0NGI1ZDdiZWMxID0gTC5wb3B1cCh7Im1heFdpZHRoIjogMTAwfSk7CgogICAgICAgIAogICAgICAgICAgICB2YXIgaHRtbF83ZDMwOTAxOTE4ZDU0ZWY4YWM3Y2I3YTdjYTNjMmE2OCA9ICQoYDxkaXYgaWQ9Imh0bWxfN2QzMDkwMTkxOGQ1NGVmOGFjN2NiN2E3Y2EzYzJhNjgiIHN0eWxlPSJ3aWR0aDogMTAwLjAlOyBoZWlnaHQ6IDEwMC4wJTsiPjxiPkR1bmtpbic8L2I+IDxicj5NYWtrYWggQWwgTXVrYXJyYW1hIFJvYWQsIEFsIE9sYXlhPC9kaXY+YClbMF07CiAgICAgICAgICAgIHBvcHVwXzg0YjE4ZTBjZGQwZTQ0MWJhZjUxMmM0NGI1ZDdiZWMxLnNldENvbnRlbnQoaHRtbF83ZDMwOTAxOTE4ZDU0ZWY4YWM3Y2I3YTdjYTNjMmE2OCk7CiAgICAgICAgCgogICAgICAgIG1hcmtlcl9mM2Q0NzIwZjYwNGE0ZWE4OTEyM2JmNjU1MTk0YjA4YS5iaW5kUG9wdXAocG9wdXBfODRiMThlMGNkZDBlNDQxYmFmNTEyYzQ0YjVkN2JlYzEpCiAgICAgICAgOwoKICAgICAgICAKICAgIAogICAgCiAgICAgICAgICAgIG1hcmtlcl9mM2Q0NzIwZjYwNGE0ZWE4OTEyM2JmNjU1MTk0YjA4YS5iaW5kVG9vbHRpcCgKICAgICAgICAgICAgICAgIGA8ZGl2PgogICAgICAgICAgICAgICAgICAgICA8Yj5EdW5raW4nPC9iPiA8YnI+ICgyIG1pbnMpCiAgICAgICAgICAgICAgICAgPC9kaXY+YCwKICAgICAgICAgICAgICAgIHsic3RpY2t5IjogdHJ1ZX0KICAgICAgICAgICAgKTsKICAgICAgICAKICAgIAogICAgICAgICAgICB2YXIgbWFya2VyXzNkZjYxYTQyOWJjNDQ1MWI5N2ZiZWFlNTE5NjI4NjkzID0gTC5tYXJrZXIoCiAgICAgICAgICAgICAgICBbMjQuNjgxMjksIDQ2LjY4OTUyXSwKICAgICAgICAgICAgICAgIHt9CiAgICAgICAgICAgICkuYWRkVG8obWFwXzgwNTk3ODVhNWNmMjQzMWQ5OGU4ODAwZmU0M2RlZDVjKTsKICAgICAgICAKICAgIAogICAgICAgICAgICB2YXIgYmVhdXRpZnlfaWNvbl81NWE2NzAzMjE1NDA0YzUyODJiM2RiZDRkZDcyZDNhNSA9IG5ldyBMLkJlYXV0aWZ5SWNvbi5pY29uKAogICAgICAgICAgICAgICAgeyJiYWNrZ3JvdW5kQ29sb3IiOiAiI2Q1ZTVmZiIsICJib3JkZXJDb2xvciI6ICIjZDVlNWZmIiwgImJvcmRlcldpZHRoIjogMywgImljb25TaGFwZSI6ICJtYXJrZXIiLCAiaWNvblNpemUiOiBbMjEsIDIxXSwgImlubmVySWNvblN0eWxlIjogImZvbnQtc2l6ZToxMnB4O3BhZGRpbmctdG9wOi01cHg7IiwgImlzQWxwaGFOdW1lcmljSWNvbiI6IHRydWUsICJzcGluIjogdHJ1ZSwgInRleHQiOiAxOSwgInRleHRDb2xvciI6ICJncmF5In0KICAgICAgICAgICAgKQogICAgICAgICAgICBtYXJrZXJfM2RmNjFhNDI5YmM0NDUxYjk3ZmJlYWU1MTk2Mjg2OTMuc2V0SWNvbihiZWF1dGlmeV9pY29uXzU1YTY3MDMyMTU0MDRjNTI4MmIzZGJkNGRkNzJkM2E1KTsKICAgICAgICAKICAgIAogICAgICAgIHZhciBwb3B1cF8zNDUzYTM1N2FjMTI0ZjVhOWNmZTQ3YjQ1YTUwMDc4ZCA9IEwucG9wdXAoeyJtYXhXaWR0aCI6IDEwMH0pOwoKICAgICAgICAKICAgICAgICAgICAgdmFyIGh0bWxfZjJjN2RhOGM4YzQ2NDAzYzgyOTczNjFlYmIwNWNlNjcgPSAkKGA8ZGl2IGlkPSJodG1sX2YyYzdkYThjOGM0NjQwM2M4Mjk3MzYxZWJiMDVjZTY3IiBzdHlsZT0id2lkdGg6IDEwMC4wJTsgaGVpZ2h0OiAxMDAuMCU7Ij48Yj5BbCBXYWhhaCBQbGFjZSBDb2ZmZWU8L2I+IDxicj42IFN0cmVldCwgQWwgT2xheWE8L2Rpdj5gKVswXTsKICAgICAgICAgICAgcG9wdXBfMzQ1M2EzNTdhYzEyNGY1YTljZmU0N2I0NWE1MDA3OGQuc2V0Q29udGVudChodG1sX2YyYzdkYThjOGM0NjQwM2M4Mjk3MzYxZWJiMDVjZTY3KTsKICAgICAgICAKCiAgICAgICAgbWFya2VyXzNkZjYxYTQyOWJjNDQ1MWI5N2ZiZWFlNTE5NjI4NjkzLmJpbmRQb3B1cChwb3B1cF8zNDUzYTM1N2FjMTI0ZjVhOWNmZTQ3YjQ1YTUwMDc4ZCkKICAgICAgICA7CgogICAgICAgIAogICAgCiAgICAKICAgICAgICAgICAgbWFya2VyXzNkZjYxYTQyOWJjNDQ1MWI5N2ZiZWFlNTE5NjI4NjkzLmJpbmRUb29sdGlwKAogICAgICAgICAgICAgICAgYDxkaXY+CiAgICAgICAgICAgICAgICAgICAgIDxiPkFsIFdhaGFoIFBsYWNlIENvZmZlZTwvYj4gPGJyPiAoMyBtaW5zKQogICAgICAgICAgICAgICAgIDwvZGl2PmAsCiAgICAgICAgICAgICAgICB7InN0aWNreSI6IHRydWV9CiAgICAgICAgICAgICk7CiAgICAgICAgCjwvc2NyaXB0Pg==\" style=\"position:absolute;width:100%;height:100%;left:0;top:0;border:none !important;\" allowfullscreen webkitallowfullscreen mozallowfullscreen></iframe></div></div>"
      ],
      "text/plain": [
       "<folium.folium.Map at 0x7f96411f10b8>"
      ]
     },
     "execution_count": 352,
     "metadata": {},
     "output_type": "execute_result"
    }
   ],
   "source": [
    "# map\n",
    "draw_along_search_map(res)"
   ]
  },
  {
   "cell_type": "markdown",
   "metadata": {},
   "source": [
    "> **ii. Finding all cafes of a specific brand name along the route (between home and destination point)**"
   ]
  },
  {
   "cell_type": "code",
   "execution_count": 379,
   "metadata": {},
   "outputs": [],
   "source": [
    "# we want to restrict the result to Points Of Interest of specific brands ex:\"Dunkin'\"\n",
    "res_Dunkin = get_cafes_along_route(max_detour_time, max_res_limit, \"Dunkin'\")"
   ]
  },
  {
   "cell_type": "code",
   "execution_count": 380,
   "metadata": {},
   "outputs": [
    {
     "data": {
      "text/plain": [
       "5"
      ]
     },
     "execution_count": 380,
     "metadata": {},
     "output_type": "execute_result"
    }
   ],
   "source": [
    "# show how many POI returned\n",
    "res_Dunkin['summary']['totalResults']"
   ]
  },
  {
   "cell_type": "code",
   "execution_count": 382,
   "metadata": {
    "scrolled": false
   },
   "outputs": [
    {
     "name": "stdout",
     "output_type": "stream",
     "text": [
      "\u001b[1m1. Dunkin'\u001b[0m\n",
      "Dunkin' , King Fahd Road , Al Olaya\n",
      "\n",
      "\n",
      "\u001b[1m2. Dunkin'\u001b[0m\n",
      "Dunkin' , Prince Muhammad Bin Abdulaziz Road , Al Olaya\n",
      "\n",
      "\n",
      "\u001b[1m3. Dunkin'\u001b[0m\n",
      "Dunkin' , Al Moatasem Street , Al Olaya\n",
      "\n",
      "\n",
      "\u001b[1m4. Dunkin'\u001b[0m\n",
      "Dunkin' , Haba Allah Al Samry Alley , Al Olaya\n",
      "\n",
      "\n",
      "\u001b[1m5. Dunkin'\u001b[0m\n",
      "Dunkin' , Makkah Al Mukarrama Road , Al Olaya\n",
      "\n",
      "\n"
     ]
    }
   ],
   "source": [
    "# show returned places names and address\n",
    "for ind, i in enumerate(res_Dunkin['results']):\n",
    "    print(\"\\033[1m\"+f\"{ind+1}. {i['poi']['name']}\"+\"\\033[0m\")\n",
    "    print(i['poi']['name'], ',', i.get('address').get('streetName',''),',', i['address']['municipalitySubdivision'])\n",
    "    print('\\n')"
   ]
  },
  {
   "cell_type": "code",
   "execution_count": 383,
   "metadata": {
    "scrolled": false
   },
   "outputs": [
    {
     "data": {
      "text/html": [
       "<div style=\"width:100%;\"><div style=\"position:relative;width:100%;height:0;padding-bottom:60%;\"><iframe src=\"data:text/html;charset=utf-8;base64,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\" style=\"position:absolute;width:100%;height:100%;left:0;top:0;border:none !important;\" allowfullscreen webkitallowfullscreen mozallowfullscreen></iframe></div></div>"
      ],
      "text/plain": [
       "<folium.folium.Map at 0x7f96413c7668>"
      ]
     },
     "execution_count": 383,
     "metadata": {},
     "output_type": "execute_result"
    }
   ],
   "source": [
    "# map\n",
    "draw_along_search_map(res_Dunkin)"
   ]
  },
  {
   "cell_type": "code",
   "execution_count": null,
   "metadata": {},
   "outputs": [],
   "source": []
  },
  {
   "cell_type": "code",
   "execution_count": null,
   "metadata": {},
   "outputs": [],
   "source": []
  }
 ],
 "metadata": {
  "kernelspec": {
   "display_name": "Python 3",
   "language": "python",
   "name": "python3"
  },
  "language_info": {
   "codemirror_mode": {
    "name": "ipython",
    "version": 3
   },
   "file_extension": ".py",
   "mimetype": "text/x-python",
   "name": "python",
   "nbconvert_exporter": "python",
   "pygments_lexer": "ipython3",
   "version": "3.6.5"
  }
 },
 "nbformat": 4,
 "nbformat_minor": 2
}
