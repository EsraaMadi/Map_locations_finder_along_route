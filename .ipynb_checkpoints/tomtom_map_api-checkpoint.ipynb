{
 "cells": [
  {
   "cell_type": "markdown",
   "metadata": {},
   "source": [
    "# Find Places Along Route using TomTom Maps:\n",
    "_Auther: Esraa Madi_\n",
    "\n",
    "\n",
    "-------"
   ]
  },
  {
   "cell_type": "markdown",
   "metadata": {},
   "source": [
    "_Note: Folium maps have some issues with rendering maps on github, in case the maps are not shown, you can check this notebook on [nbviewer]()._"
   ]
  },
  {
   "cell_type": "code",
   "execution_count": 1,
   "metadata": {},
   "outputs": [],
   "source": [
    "# !pip install streamlit\n",
    "# !pip install folium\n",
    "# !pip install geocoder\n",
    "# !pip install colour==0.1.1"
   ]
  },
  {
   "cell_type": "code",
   "execution_count": 1,
   "metadata": {},
   "outputs": [],
   "source": [
    "# import libraries\n",
    "import numpy as np\n",
    "import pandas as pd\n",
    "import folium\n",
    "from folium.plugins import BeautifyIcon\n",
    "import geocoder\n",
    "import requests\n",
    "import json\n",
    "from selenium import webdriver\n",
    "from selenium.webdriver.chrome.options import Options\n",
    "from selenium.webdriver.support.ui import WebDriverWait\n",
    "import time\n",
    "import pickle\n",
    "import matplotlib.pyplot as plt\n",
    "from bs4 import BeautifulSoup\n",
    "from colour import Color\n",
    "from googletrans import Translator\n",
    "from IPython.core.display import HTML"
   ]
  },
  {
   "cell_type": "markdown",
   "metadata": {},
   "source": [
    "### Step 1: [TomTom](https://developer.tomtom.com/) API Setting:"
   ]
  },
  {
   "cell_type": "markdown",
   "metadata": {},
   "source": [
    "To be able to use TomTom api features, you have to register as a developer and get your own key, you can follow the steps in this article to issue your key [How to register a TomTom Api key](https://www.mapsmarker.com/kb/user-guide/how-tomtom-api/)"
   ]
  },
  {
   "cell_type": "code",
   "execution_count": 2,
   "metadata": {},
   "outputs": [],
   "source": [
    "# My key is saved in file so need to retrive and set TomTom api key \n",
    "with open('help_files/tomtomapikey.txt') as f:\n",
    "    api_key = f.readline()"
   ]
  },
  {
   "cell_type": "markdown",
   "metadata": {},
   "source": [
    "### Step 2: Map Initialization"
   ]
  },
  {
   "cell_type": "markdown",
   "metadata": {},
   "source": [
    "We here use [Folium](https://python-visualization.github.io/folium/) to visual our data on an interactive maps "
   ]
  },
  {
   "cell_type": "code",
   "execution_count": 3,
   "metadata": {},
   "outputs": [],
   "source": [
    "# A function to initialize any map using TomTom map.\n",
    "def init_map(api_key, latitude=0, longitude=0, zoom=14, layer = \"basic\", style = \"main\"):\n",
    "    \"\"\"\n",
    "    A function to initialize a clean TomTom map\n",
    "    \"\"\"\n",
    "    \n",
    "    maps_url = \"http://{s}.api.tomtom.com/map/1/tile/\"+layer+\"/\"+style+\"/{z}/{x}/{y}.png?tileSize=512&key=\"\n",
    "    TomTom_map = folium.Map(\n",
    "        location = [latitude, longitude],  # on what coordinates [lat, lon] initialise the map\n",
    "        zoom_start = zoom,\n",
    "        tiles = str(maps_url + api_key),\n",
    "        attr = 'TomTom')\n",
    "    \n",
    "    # add get latitude and longitude feature to our map\n",
    "    folium.LatLngPopup().add_to(TomTom_map)\n",
    "    \n",
    "    return TomTom_map"
   ]
  },
  {
   "cell_type": "code",
   "execution_count": 5,
   "metadata": {},
   "outputs": [
    {
     "data": {
      "text/html": [
       "<div style=\"width:100%;\"><div style=\"position:relative;width:100%;height:0;padding-bottom:60%;\"><iframe src=\"data:text/html;charset=utf-8;base64,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\" style=\"position:absolute;width:100%;height:100%;left:0;top:0;border:none !important;\" allowfullscreen webkitallowfullscreen mozallowfullscreen></iframe></div></div>"
      ],
      "text/plain": [
       "<IPython.core.display.HTML object>"
      ]
     },
     "execution_count": 5,
     "metadata": {},
     "output_type": "execute_result"
    }
   ],
   "source": [
    "m = init_map(api_key)\n",
    "HTML(m._repr_html_())"
   ]
  },
  {
   "cell_type": "markdown",
   "metadata": {},
   "source": [
    "### Step 3: Center our Map on Your Location "
   ]
  },
  {
   "cell_type": "markdown",
   "metadata": {},
   "source": [
    "In our case that we run our script on PC and not all of them have GPS module to get your accurate location `latitude` and `longitude`. Therfore we instead could use GeoIP lookup to help with that. This involves getting the user’s public IP address and then using a database to convert that to a general location. \n",
    "\n",
    "This can be done in different ways using:\n",
    "1. Libraries\n",
    "2. RESTful APIs.\n",
    "3. Selenium\n",
    "\n",
    "P.S. I've tried many ways trying to get accurate GeoIP latitude and longitude."
   ]
  },
  {
   "cell_type": "markdown",
   "metadata": {},
   "source": [
    "#### Method 1: Use [geocoder](https://pypi.org/project/geocoder/) library"
   ]
  },
  {
   "cell_type": "code",
   "execution_count": 6,
   "metadata": {},
   "outputs": [],
   "source": [
    "# save all my trials to get location\n",
    "my_location_lst = []"
   ]
  },
  {
   "cell_type": "code",
   "execution_count": 7,
   "metadata": {},
   "outputs": [],
   "source": [
    "# Request my location\n",
    "my_location = geocoder.ip('me')"
   ]
  },
  {
   "cell_type": "code",
   "execution_count": 8,
   "metadata": {
    "scrolled": true
   },
   "outputs": [
    {
     "data": {
      "text/plain": [
       "{'address': 'Riyadh, Ar Riyāḑ, SA',\n",
       " 'city': 'Riyadh',\n",
       " 'country': 'SA',\n",
       " 'ip': '51.36.62.228',\n",
       " 'lat': 24.6877,\n",
       " 'lng': 46.7219,\n",
       " 'ok': True,\n",
       " 'org': 'AS43766 MTC KSA',\n",
       " 'raw': {'ip': '51.36.62.228',\n",
       "  'city': 'Riyadh',\n",
       "  'region': 'Ar Riyāḑ',\n",
       "  'country': 'SA',\n",
       "  'loc': '24.6877,46.7219',\n",
       "  'org': 'AS43766 MTC KSA',\n",
       "  'timezone': 'Asia/Riyadh',\n",
       "  'readme': 'https://ipinfo.io/missingauth'},\n",
       " 'state': 'Ar Riyāḑ',\n",
       " 'status': 'OK'}"
      ]
     },
     "execution_count": 8,
     "metadata": {},
     "output_type": "execute_result"
    }
   ],
   "source": [
    "# show location result\n",
    "my_location.geojson['features'][0]['properties']"
   ]
  },
  {
   "cell_type": "code",
   "execution_count": 9,
   "metadata": {},
   "outputs": [
    {
     "name": "stdout",
     "output_type": "stream",
     "text": [
      "latitude:  24.6877\n",
      "longitude:  46.7219\n"
     ]
    }
   ],
   "source": [
    "my_location_1 = [float(my_location.latlng[0]), float(my_location.latlng[1])]\n",
    "print('latitude: ', my_location_1[0])\n",
    "print('longitude: ', my_location_1[1])\n",
    "my_location_lst.append(my_location_1)"
   ]
  },
  {
   "cell_type": "markdown",
   "metadata": {},
   "source": [
    "#### Method 2: Use RESTful APIs"
   ]
  },
  {
   "cell_type": "code",
   "execution_count": 10,
   "metadata": {},
   "outputs": [
    {
     "data": {
      "text/plain": [
       "'51.36.62.228'"
      ]
     },
     "execution_count": 10,
     "metadata": {},
     "output_type": "execute_result"
    }
   ],
   "source": [
    "# step 1 : get my ip \n",
    "ip_request = requests.get('https://get.geojs.io/v1/ip.json')\n",
    "my_ip = ip_request.json()['ip']\n",
    "my_ip"
   ]
  },
  {
   "cell_type": "code",
   "execution_count": 11,
   "metadata": {},
   "outputs": [],
   "source": [
    "# step 2_1 : get GEOIP latitude and longitude\n",
    "geo_request = requests.get('https://get.geojs.io/v1/ip/geo/' +my_ip + '.json')\n",
    "geo_data = geo_request.json()"
   ]
  },
  {
   "cell_type": "code",
   "execution_count": 12,
   "metadata": {},
   "outputs": [
    {
     "name": "stdout",
     "output_type": "stream",
     "text": [
      "latitude:  24.6537\n",
      "longitude:  46.7152\n"
     ]
    }
   ],
   "source": [
    "my_location_2 = [float(geo_data['latitude']), float(geo_data['longitude'])]\n",
    "print('latitude: ', my_location_2[0])\n",
    "print('longitude: ', my_location_2[1])\n",
    "my_location_lst.append(my_location_2)"
   ]
  },
  {
   "cell_type": "markdown",
   "metadata": {},
   "source": [
    "> It's slightly different than what we got from library above"
   ]
  },
  {
   "cell_type": "code",
   "execution_count": 13,
   "metadata": {
    "scrolled": true
   },
   "outputs": [],
   "source": [
    "# step 2_2 : get GEOIP latitude and longitude\n",
    "geo_request = requests.get('https://ipinfo.io/')\n",
    "geo_data = geo_request.json()"
   ]
  },
  {
   "cell_type": "code",
   "execution_count": 14,
   "metadata": {},
   "outputs": [
    {
     "name": "stdout",
     "output_type": "stream",
     "text": [
      "latitude:  24.6877\n",
      "longitude:  46.7219\n"
     ]
    }
   ],
   "source": [
    "my_location_3 = [float(i) for i in geo_data['loc'].split(',')]\n",
    "print('latitude: ', my_location_3[0])\n",
    "print('longitude: ', my_location_3[1])\n",
    "my_location_lst.append(my_location_3)"
   ]
  },
  {
   "cell_type": "markdown",
   "metadata": {},
   "source": [
    "> Same as `my_location_1`"
   ]
  },
  {
   "cell_type": "code",
   "execution_count": 15,
   "metadata": {
    "scrolled": true
   },
   "outputs": [],
   "source": [
    "# step 2_3 : get GEOIP latitude and longitude\n",
    "\n",
    "# need api key for this request\n",
    "with open('help_files/ipstackkey.txt') as f:\n",
    "    api_key_loc = f.readline()\n",
    "    \n",
    "geo_request = requests.get(f\"http://api.ipstack.com/{my_ip}?access_key={api_key_loc}\")\n",
    "geo_data = geo_request.json()"
   ]
  },
  {
   "cell_type": "code",
   "execution_count": 16,
   "metadata": {},
   "outputs": [
    {
     "data": {
      "text/plain": [
       "{'ip': '51.36.62.228',\n",
       " 'type': 'ipv4',\n",
       " 'continent_code': 'AS',\n",
       " 'continent_name': 'Asia',\n",
       " 'country_code': 'SA',\n",
       " 'country_name': 'Saudi Arabia',\n",
       " 'region_code': '01',\n",
       " 'region_name': 'Ar Riyāḑ',\n",
       " 'city': 'Riyadh',\n",
       " 'zip': '11142',\n",
       " 'latitude': 24.68773078918457,\n",
       " 'longitude': 46.72185134887695,\n",
       " 'location': {'geoname_id': 108410,\n",
       "  'capital': 'Riyadh',\n",
       "  'languages': [{'code': 'ar',\n",
       "    'name': 'Arabic',\n",
       "    'native': 'العربية',\n",
       "    'rtl': 1}],\n",
       "  'country_flag': 'http://assets.ipstack.com/flags/sa.svg',\n",
       "  'country_flag_emoji': '🇸🇦',\n",
       "  'country_flag_emoji_unicode': 'U+1F1F8 U+1F1E6',\n",
       "  'calling_code': '966',\n",
       "  'is_eu': False}}"
      ]
     },
     "execution_count": 16,
     "metadata": {},
     "output_type": "execute_result"
    }
   ],
   "source": [
    "# show result \n",
    "geo_data"
   ]
  },
  {
   "cell_type": "code",
   "execution_count": 17,
   "metadata": {},
   "outputs": [
    {
     "name": "stdout",
     "output_type": "stream",
     "text": [
      "latitude:  24.68773078918457\n",
      "longitude:  46.72185134887695\n"
     ]
    }
   ],
   "source": [
    "my_location_4 = [float(geo_data['latitude']), float(geo_data['longitude'])]\n",
    "print('latitude: ', my_location_4[0])\n",
    "print('longitude: ', my_location_4[1])\n",
    "my_location_lst.append(my_location_4)"
   ]
  },
  {
   "cell_type": "code",
   "execution_count": 18,
   "metadata": {},
   "outputs": [
    {
     "data": {
      "text/plain": [
       "('01', 'Riyadh')"
      ]
     },
     "execution_count": 18,
     "metadata": {},
     "output_type": "execute_result"
    }
   ],
   "source": [
    "# save resion code and city name for later use\n",
    "my_region_code = geo_data['region_code']\n",
    "my_region = geo_data['city']\n",
    "my_region_code, my_region"
   ]
  },
  {
   "cell_type": "markdown",
   "metadata": {},
   "source": [
    "> It seems more accurate right!"
   ]
  },
  {
   "cell_type": "markdown",
   "metadata": {},
   "source": [
    "#### Method 3: Use Selenium"
   ]
  },
  {
   "cell_type": "code",
   "execution_count": 19,
   "metadata": {},
   "outputs": [],
   "source": [
    "#create driver\n",
    "options = Options()\n",
    "options.add_argument(\"--use-fake-ui-for-media-stream\")\n",
    "timeout = 20\n",
    "driver = webdriver.Chrome(executable_path = 'help_files/chromedriver/chromedriver', chrome_options=options)\n",
    "# request page\n",
    "driver.get(\"https://mycurrentlocation.net/\")\n",
    "wait = WebDriverWait(driver, timeout)\n",
    "time.sleep(3)\n",
    "longitude = driver.find_elements_by_xpath('//*[@id=\"longitude\"]')\n",
    "longitude = [x.text for x in longitude]\n",
    "longitude = str(longitude[0])\n",
    "latitude = driver.find_elements_by_xpath('//*[@id=\"latitude\"]')\n",
    "latitude = [x.text for x in latitude]\n",
    "latitude = str(latitude[0])\n",
    "driver.quit()"
   ]
  },
  {
   "cell_type": "code",
   "execution_count": 20,
   "metadata": {},
   "outputs": [
    {
     "name": "stdout",
     "output_type": "stream",
     "text": [
      "latitude:  24.71355\n",
      "longitude:  46.6753\n"
     ]
    }
   ],
   "source": [
    "my_location_5 = [float(latitude), float(longitude)]\n",
    "print('latitude: ', my_location_5[0])\n",
    "print('longitude: ', my_location_5[1])\n",
    "my_location_lst.append(my_location_5)"
   ]
  },
  {
   "cell_type": "markdown",
   "metadata": {},
   "source": [
    "#### Since we already tried many ways to get my latitude and longitude, let's center our map using their average as follows:"
   ]
  },
  {
   "cell_type": "code",
   "execution_count": 21,
   "metadata": {},
   "outputs": [
    {
     "data": {
      "text/plain": [
       "[[24.6877, 46.7219],\n",
       " [24.6537, 46.7152],\n",
       " [24.6877, 46.7219],\n",
       " [24.68773078918457, 46.72185134887695],\n",
       " [24.71355, 46.6753]]"
      ]
     },
     "execution_count": 21,
     "metadata": {},
     "output_type": "execute_result"
    }
   ],
   "source": [
    "my_location_lst"
   ]
  },
  {
   "cell_type": "code",
   "execution_count": 22,
   "metadata": {},
   "outputs": [
    {
     "name": "stdout",
     "output_type": "stream",
     "text": [
      "24.686076157836915\n",
      "46.711230269775385\n"
     ]
    }
   ],
   "source": [
    "my_latitude = sum([loc[0] for loc in my_location_lst])/len(my_location_lst)\n",
    "my_longitude = sum([loc[1] for loc in my_location_lst])/len(my_location_lst)\n",
    "print(my_latitude)\n",
    "print(my_longitude)"
   ]
  },
  {
   "cell_type": "code",
   "execution_count": 23,
   "metadata": {
    "scrolled": false
   },
   "outputs": [
    {
     "data": {
      "text/html": [
       "<div style=\"width:100%;\"><div style=\"position:relative;width:100%;height:0;padding-bottom:60%;\"><iframe src=\"data:text/html;charset=utf-8;base64,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\" style=\"position:absolute;width:100%;height:100%;left:0;top:0;border:none !important;\" allowfullscreen webkitallowfullscreen mozallowfullscreen></iframe></div></div>"
      ],
      "text/plain": [
       "<IPython.core.display.HTML object>"
      ]
     },
     "execution_count": 23,
     "metadata": {},
     "output_type": "execute_result"
    }
   ],
   "source": [
    "tomtom_map = init_map(api_key, latitude=my_latitude, longitude=my_longitude)\n",
    "HTML(tomtom_map._repr_html_())"
   ]
  },
  {
   "cell_type": "markdown",
   "metadata": {},
   "source": [
    "#### In our streamlit app, we will just use one method `ipstack` to get our location to save compution power "
   ]
  },
  {
   "cell_type": "markdown",
   "metadata": {},
   "source": [
    "### Step 4: Get Destination Point (Target Place):"
   ]
  },
  {
   "cell_type": "code",
   "execution_count": 24,
   "metadata": {},
   "outputs": [],
   "source": [
    "# A function to add a point marker at any TomTom map.\n",
    "def add_marker_map(tomtom_map, marker_latitude, marker_longitude, marker_title='point', marker_color='blue'):\n",
    "    \"\"\"\n",
    "    A function to add a point marker at any TomTom map\n",
    "    \"\"\"\n",
    "    folium.Marker(location=( marker_latitude, marker_longitude),\n",
    "                  popup=marker_title, \n",
    "                  icon=folium.Icon(color=marker_color, icon='glyphicon-star')\n",
    "             ).add_to(tomtom_map)\n",
    "    \n",
    "    return tomtom_map"
   ]
  },
  {
   "cell_type": "markdown",
   "metadata": {},
   "source": [
    "- 1st Point: **Home**"
   ]
  },
  {
   "cell_type": "code",
   "execution_count": 25,
   "metadata": {
    "scrolled": false
   },
   "outputs": [
    {
     "data": {
      "text/html": [
       "<div style=\"width:100%;\"><div style=\"position:relative;width:100%;height:0;padding-bottom:60%;\"><iframe src=\"data:text/html;charset=utf-8;base64,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\" style=\"position:absolute;width:100%;height:100%;left:0;top:0;border:none !important;\" allowfullscreen webkitallowfullscreen mozallowfullscreen></iframe></div></div>"
      ],
      "text/plain": [
       "<IPython.core.display.HTML object>"
      ]
     },
     "execution_count": 25,
     "metadata": {},
     "output_type": "execute_result"
    }
   ],
   "source": [
    "# add marker for home point (detected current point from api)\n",
    "tomtom_map = add_marker_map(tomtom_map, my_latitude, my_longitude, \"your Location\", 'blue')\n",
    "HTML(tomtom_map._repr_html_())"
   ]
  },
  {
   "cell_type": "markdown",
   "metadata": {},
   "source": [
    "- 2nd Point: **Destination**"
   ]
  },
  {
   "cell_type": "markdown",
   "metadata": {},
   "source": [
    "The current version of Folium maps does not have a feature to take the user mouse click as input, it would be great if it provides this!\n",
    "<br>\n",
    "<br>\n",
    "Here, we are going to use the available feature from Folium `LatLngPopup()` that shows user latitude and longitude wherever he clicks on the map then do manual copy past for them in input boxes"
   ]
  },
  {
   "cell_type": "markdown",
   "metadata": {},
   "source": [
    "![Alt Text](assets/input_lat_long.gif)"
   ]
  },
  {
   "cell_type": "code",
   "execution_count": 26,
   "metadata": {},
   "outputs": [
    {
     "name": "stdout",
     "output_type": "stream",
     "text": [
      "Enter Destination Latitude :24.6948\n"
     ]
    }
   ],
   "source": [
    "dest_latitude = float(input(\"Enter Destination Latitude :\"))\n",
    "# 24.6948"
   ]
  },
  {
   "cell_type": "code",
   "execution_count": 27,
   "metadata": {
    "scrolled": true
   },
   "outputs": [
    {
     "name": "stdout",
     "output_type": "stream",
     "text": [
      "Enter Destination Longitude :46.6803\n"
     ]
    }
   ],
   "source": [
    "dest_longitude = float(input(\"Enter Destination Longitude :\"))\n",
    "#46.6803"
   ]
  },
  {
   "cell_type": "code",
   "execution_count": 28,
   "metadata": {},
   "outputs": [],
   "source": [
    "def get_map_center_zoom(home_latitude, home_longitude, dest_latitude, dest_longitude):\n",
    "    \"\"\"Function to get center of folium map and zoom used\"\"\"\n",
    "    # get center of our map based on home and destination points\n",
    "    ave_lat = (home_latitude + dest_latitude) / 2\n",
    "    ave_long = (home_longitude + dest_longitude) /2\n",
    "    \n",
    "    # calculate map zoom\n",
    "    zoom = 14 #defuelt zoom\n",
    "    latitude_diff = abs(home_latitude - dest_latitude)\n",
    "    longitude_diff = abs(home_longitude - dest_longitude)\n",
    "    \n",
    "    if latitude_diff > longitude_diff:\n",
    "        while latitude_diff > 0:\n",
    "            zoom = zoom -1\n",
    "            latitude_diff = latitude_diff - 0.1\n",
    "    else:\n",
    "        while longitude_diff > 0:\n",
    "            zoom = zoom -1\n",
    "            longitude_diff = longitude_diff - 0.1\n",
    "    return ave_lat, ave_long, zoom"
   ]
  },
  {
   "cell_type": "code",
   "execution_count": 29,
   "metadata": {},
   "outputs": [],
   "source": [
    "lat_, long_, zoom_ = get_map_center_zoom(my_latitude, my_longitude, dest_latitude, dest_longitude)"
   ]
  },
  {
   "cell_type": "code",
   "execution_count": 30,
   "metadata": {},
   "outputs": [
    {
     "data": {
      "text/html": [
       "<div style=\"width:100%;\"><div style=\"position:relative;width:100%;height:0;padding-bottom:60%;\"><iframe src=\"data:text/html;charset=utf-8;base64,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\" style=\"position:absolute;width:100%;height:100%;left:0;top:0;border:none !important;\" allowfullscreen webkitallowfullscreen mozallowfullscreen></iframe></div></div>"
      ],
      "text/plain": [
       "<IPython.core.display.HTML object>"
      ]
     },
     "execution_count": 30,
     "metadata": {},
     "output_type": "execute_result"
    }
   ],
   "source": [
    "tomtom_map = init_map(api_key, latitude=lat_, longitude=long_, zoom=zoom_)\n",
    "tomtom_map = add_marker_map(tomtom_map, my_latitude, my_longitude, \"Your Location\", 'blue')\n",
    "tomtom_map = add_marker_map(tomtom_map, dest_latitude, dest_longitude, \"destination Location\", 'green')\n",
    "HTML(tomtom_map._repr_html_())"
   ]
  },
  {
   "cell_type": "markdown",
   "metadata": {},
   "source": [
    "#### We can use [Fuzzy search](https://developer.tomtom.com/search?keywords=Address+%26+POI+search) and [autocomplete](https://developer.tomtom.com/search-api/search-api-documentation/autocomplete) Services to enter our destination as follows:"
   ]
  },
  {
   "cell_type": "code",
   "execution_count": 31,
   "metadata": {},
   "outputs": [],
   "source": [
    "# autocomplete part\n",
    "text = \"King\"\n",
    "lang = \"en-GB\"\n",
    "limit_ = 10"
   ]
  },
  {
   "cell_type": "code",
   "execution_count": 32,
   "metadata": {},
   "outputs": [],
   "source": [
    "def autocomplete_search(text, lang, search_limit):\n",
    "    \"\"\"Function to retrieve result for given text\"\"\"\n",
    "\n",
    "    # Gather all paramters in dict\n",
    "    params_ = {'countrySet' : 'SA',\n",
    "               'language' : lang,\n",
    "               'limit' : search_limit,\n",
    "               'key' : api_key\n",
    "              }\n",
    "    # create a request \n",
    "    url = (f'https://api.tomtom.com/search/2/autocomplete/{text}.json')\n",
    "    r = requests.get(url, params=params_)\n",
    "    \n",
    "    # check response status to make sure it went through\n",
    "    if r.status_code == 200:\n",
    "        result = r.json()\n",
    "    return result   "
   ]
  },
  {
   "cell_type": "code",
   "execution_count": 33,
   "metadata": {},
   "outputs": [
    {
     "data": {
      "text/plain": [
       "{'context': {'inputQuery': 'King'},\n",
       " 'results': [{'segments': [{'type': 'brand',\n",
       "     'value': 'BURGER KING',\n",
       "     'matches': {'inputQuery': [{'offset': 0, 'length': 4}]}}]}]}"
      ]
     },
     "execution_count": 33,
     "metadata": {},
     "output_type": "execute_result"
    }
   ],
   "source": [
    "autocomplete_search(text, lang, limit_)"
   ]
  },
  {
   "cell_type": "markdown",
   "metadata": {},
   "source": [
    "### Step 5: Find Shortest Route Between Two Points:"
   ]
  },
  {
   "cell_type": "markdown",
   "metadata": {},
   "source": [
    "TomTom [Calculate Route](https://developer.tomtom.com/routing-api/routing-api-documentation-routing/calculate-route) service calculates a route between an origin and a destination based on historical traffic data.\n",
    "\n",
    "- Information returned includes:\n",
    "    - Distance (in meters)\n",
    "    - Estimated travel time (in seconds)\n",
    "    - Estimated arrival time\n",
    "    \n",
    "P.S. This service cannot predict sudden large-scale changes in road network utilization like the one many areas are experiencing due to the COVID-19 crisis"
   ]
  },
  {
   "cell_type": "code",
   "execution_count": 34,
   "metadata": {},
   "outputs": [],
   "source": [
    "# Make the Request\n",
    "r = requests.get(f\"https://api.tomtom.com/routing/1/calculateRoute/{my_latitude},{my_longitude}:{dest_latitude},{dest_longitude}/xml?avoid=unpavedRoads&key={api_key}\")"
   ]
  },
  {
   "cell_type": "code",
   "execution_count": 35,
   "metadata": {},
   "outputs": [
    {
     "data": {
      "text/plain": [
       "200"
      ]
     },
     "execution_count": 35,
     "metadata": {},
     "output_type": "execute_result"
    }
   ],
   "source": [
    "# check response status to make sure it went through\n",
    "r.status_code"
   ]
  },
  {
   "cell_type": "code",
   "execution_count": 36,
   "metadata": {
    "scrolled": true
   },
   "outputs": [],
   "source": [
    "# Turn the XML data into a human readable format\n",
    "soup = BeautifulSoup(r.content, \"lxml\")\n",
    "\n",
    "# Print out the information\n",
    "# print(soup.prettify())"
   ]
  },
  {
   "cell_type": "code",
   "execution_count": 37,
   "metadata": {},
   "outputs": [],
   "source": [
    "def convert_sec_to_h_m(sec, hours=True ):\n",
    "    \"\"\"Function to convert sec to corresponding hours and minates or minates\"\"\"\n",
    "    if hours:\n",
    "        time_h = int(sec / (60*60))\n",
    "        time_m = int((sec % (60*60)) /60)\n",
    "    else:\n",
    "        time_h = 0\n",
    "        time_m = int(sec / 60)\n",
    "    return time_h, time_m    "
   ]
  },
  {
   "cell_type": "code",
   "execution_count": 38,
   "metadata": {},
   "outputs": [
    {
     "name": "stdout",
     "output_type": "stream",
     "text": [
      "Travel Time: 0 hours, 8 mins\n"
     ]
    }
   ],
   "source": [
    "# get Estimated travel time\n",
    "time_tot_sec = float(soup.find('summary').find('traveltimeinseconds').text)\n",
    "time_h, time_m  = convert_sec_to_h_m(time_tot_sec)\n",
    "print(f'Travel Time: {time_h} hours, {time_m} mins')"
   ]
  },
  {
   "cell_type": "code",
   "execution_count": 39,
   "metadata": {},
   "outputs": [
    {
     "name": "stdout",
     "output_type": "stream",
     "text": [
      "Travel Distance: 6.174 Km\n"
     ]
    }
   ],
   "source": [
    "# get distance\n",
    "print('Travel Distance:', float(soup.find('summary').find('lengthinmeters').text)/1000, 'Km')"
   ]
  },
  {
   "cell_type": "code",
   "execution_count": 40,
   "metadata": {
    "scrolled": true
   },
   "outputs": [
    {
     "name": "stdout",
     "output_type": "stream",
     "text": [
      "Estimated Arrival Date: 2020-07-06\n",
      "Estimated Arrival Time: 23:47:36\n"
     ]
    }
   ],
   "source": [
    "# get EAT\n",
    "eta = soup.find('summary').find('arrivaltime').text.split('T')\n",
    "eta_date = eta[0]\n",
    "eta_time = eta[1].split('+')[0]\n",
    "print(f'Estimated Arrival Date: {eta_date}')\n",
    "print(f'Estimated Arrival Time: {eta_time}')"
   ]
  },
  {
   "cell_type": "code",
   "execution_count": 41,
   "metadata": {},
   "outputs": [
    {
     "data": {
      "text/plain": [
       "[<point latitude=\"24.68610\" longitude=\"46.71127\"></point>,\n",
       " <point latitude=\"24.68604\" longitude=\"46.71131\"></point>,\n",
       " <point latitude=\"24.68599\" longitude=\"46.71132\"></point>]"
      ]
     },
     "execution_count": 41,
     "metadata": {},
     "output_type": "execute_result"
    }
   ],
   "source": [
    "# Find all the tags that contain a point in our route\n",
    "points = soup.find_all('point')\n",
    "points[:3]"
   ]
  },
  {
   "cell_type": "code",
   "execution_count": 42,
   "metadata": {},
   "outputs": [
    {
     "data": {
      "text/plain": [
       "[(24.6861, 46.71127), (24.68604, 46.71131), (24.68599, 46.71132)]"
      ]
     },
     "execution_count": 42,
     "metadata": {},
     "output_type": "execute_result"
    }
   ],
   "source": [
    "# clean points list \n",
    "points = [tuple([float(point['latitude']), float(point['longitude'])]) for point in points ]\n",
    "points[:3]"
   ]
  },
  {
   "cell_type": "code",
   "execution_count": 43,
   "metadata": {
    "scrolled": true
   },
   "outputs": [
    {
     "data": {
      "image/png": "[encoded data removed]",
      "text/plain": [
       "<Figure size 432x288 with 1 Axes>"
      ]
     },
     "metadata": {
      "needs_background": "light"
     },
     "output_type": "display_data"
    }
   ],
   "source": [
    "# draw your route using matplot\n",
    "\n",
    "# Initialize our 2 arrays that will contain all the points\n",
    "lat = [point[0] for point in points]\n",
    "long = [point[1] for point in points]\n",
    "\n",
    "# plot\n",
    "plt.scatter(long,lat)\n",
    "plt.title('Route from TomTom API')\n",
    "plt.show()"
   ]
  },
  {
   "cell_type": "code",
   "execution_count": 44,
   "metadata": {},
   "outputs": [],
   "source": [
    "# draw our route using Folium\n",
    "\n",
    "def draw_route(points):\n",
    "    \"\"\"Function to draw a route between two points using folium\"\"\"\n",
    "    \n",
    "    # get center of our map based on obtained route\n",
    "    ave_lat = sum(float(p[0]) for p in points)/len(points)\n",
    "    ave_long = sum(float(p[1]) for p in points)/len(points)\n",
    "    \n",
    "    # initlize a map \n",
    "    TomTom_map = init_map(api_key, latitude=ave_lat, longitude=ave_long)\n",
    "\n",
    "    #add a markers for home and destination points\n",
    "    TomTom_map = add_marker_map(TomTom_map, points[0][0], points[0][1], marker_title='Your location', marker_color='blue')\n",
    "    TomTom_map = add_marker_map(TomTom_map, points[-1][0], points[-1][1], marker_title='Your destination point', marker_color='red')\n",
    "\n",
    "\n",
    "    # add lines \n",
    "    folium.PolyLine(points, color=\"green\", weight=2.5, opacity=1).add_to(TomTom_map)\n",
    "\n",
    "    return TomTom_map\n",
    "    "
   ]
  },
  {
   "cell_type": "code",
   "execution_count": 45,
   "metadata": {
    "scrolled": false
   },
   "outputs": [
    {
     "data": {
      "text/html": [
       "<div style=\"width:100%;\"><div style=\"position:relative;width:100%;height:0;padding-bottom:60%;\"><iframe src=\"data:text/html;charset=utf-8;base64,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\" style=\"position:absolute;width:100%;height:100%;left:0;top:0;border:none !important;\" allowfullscreen webkitallowfullscreen mozallowfullscreen></iframe></div></div>"
      ],
      "text/plain": [
       "<IPython.core.display.HTML object>"
      ]
     },
     "execution_count": 45,
     "metadata": {},
     "output_type": "execute_result"
    }
   ],
   "source": [
    "tomtom_map = draw_route(points)\n",
    "HTML(tomtom_map._repr_html_())"
   ]
  },
  {
   "cell_type": "markdown",
   "metadata": {},
   "source": [
    "### Step 6: Grab your Coffees in your way:"
   ]
  },
  {
   "cell_type": "markdown",
   "metadata": {},
   "source": [
    "Let's try two different TomTom services to achive this task and find all possible options:"
   ]
  },
  {
   "cell_type": "markdown",
   "metadata": {},
   "source": [
    "1. **TomTom [category Search](https://developer.tomtom.com/search-api/search-api-documentation-search/category-search) service**:\n",
    "    - This service returns POI (Points of Interest) results around a location which are categorized as specified.\n",
    "    - This service handles several categories, to check available categories, you can check the provided link above. For our script, we've saved them in a file so we can retrieve and try various categories."
   ]
  },
  {
   "cell_type": "code",
   "execution_count": 296,
   "metadata": {},
   "outputs": [],
   "source": [
    "# let's search for cafes category (around one point)"
   ]
  },
  {
   "cell_type": "code",
   "execution_count": 48,
   "metadata": {},
   "outputs": [],
   "source": [
    "# specify paramters for API (you could check out folloing paramters and more using link above)\n",
    "\n",
    "# maximum number of responses (POI) that will be returned (1-100)\n",
    "search_limit = 100 \n",
    "\n",
    "# The results will be constrained to the defined area (radius) in meters.\n",
    "search_radius = 500\n",
    "\n",
    "# place category \n",
    "category = 'coffee'"
   ]
  },
  {
   "cell_type": "code",
   "execution_count": 49,
   "metadata": {},
   "outputs": [],
   "source": [
    "def get_cafes_around_point(dest_latitude, dest_longitude, search_limit, search_radius, category):\n",
    "    \"\"\"Function to retrieve cafes around given point\"\"\"\n",
    "\n",
    "    # Gather all paramters in dict\n",
    "    params_ = {'countrySet' : 'SA',\n",
    "               'lat' : dest_latitude,\n",
    "               'lon' : dest_longitude,\n",
    "               'limit' : search_limit,\n",
    "               'radius' : search_radius,\n",
    "               'key' : api_key\n",
    "              }\n",
    "    # create a request \n",
    "    url = (f'https://api.tomtom.com/search/2/categorySearch/{category}.json')\n",
    "    r = requests.get(url, params=params_)\n",
    "    \n",
    "    # check response status to make sure it went through\n",
    "    if r.status_code == 200:\n",
    "        result = r.json()\n",
    "    return result   "
   ]
  },
  {
   "cell_type": "code",
   "execution_count": 50,
   "metadata": {},
   "outputs": [],
   "source": [
    "result = get_cafes_around_point(dest_latitude, dest_longitude, search_limit, search_radius, category)"
   ]
  },
  {
   "cell_type": "code",
   "execution_count": 51,
   "metadata": {},
   "outputs": [
    {
     "data": {
      "text/plain": [
       "11"
      ]
     },
     "execution_count": 51,
     "metadata": {},
     "output_type": "execute_result"
    }
   ],
   "source": [
    "# show how many POI returned\n",
    "len(result['results'])"
   ]
  },
  {
   "cell_type": "code",
   "execution_count": 52,
   "metadata": {},
   "outputs": [
    {
     "data": {
      "text/plain": [
       "{'type': 'POI',\n",
       " 'id': 'g6JpZK82ODIwMDkwMDA1MTk1NTihY6NTQVWhdqdVbmlmaWVk',\n",
       " 'score': 2.5745251179,\n",
       " 'dist': 89.9022089251954,\n",
       " 'info': 'search:ta:682009000519558-SA',\n",
       " 'poi': {'name': 'Naomy for Organic Tea',\n",
       "  'categorySet': [{'id': 9376005}],\n",
       "  'categories': ['café/pub', 'tea house'],\n",
       "  'classifications': [{'code': 'CAFE_PUB',\n",
       "    'names': [{'nameLocale': 'en-US', 'name': 'café/pub'},\n",
       "     {'nameLocale': 'en-US', 'name': 'tea house'}]}]},\n",
       " 'address': {'streetName': 'Prince Muhammad Bin Abdulaziz Road',\n",
       "  'municipalitySubdivision': 'Al Olaya',\n",
       "  'municipality': 'Riyadh',\n",
       "  'countrySubdivision': 'Riyadh Province',\n",
       "  'postalCode': '12212',\n",
       "  'countryCode': 'SA',\n",
       "  'country': 'Saudi Arabia',\n",
       "  'countryCodeISO3': 'SAU',\n",
       "  'freeformAddress': 'Prince Muhammad Bin Abdulaziz Road, Riyadh Province, Riyadh',\n",
       "  'localName': 'Riyadh'},\n",
       " 'position': {'lat': 24.69497, 'lon': 46.68117},\n",
       " 'viewport': {'topLeftPoint': {'lat': 24.69587, 'lon': 46.68018},\n",
       "  'btmRightPoint': {'lat': 24.69407, 'lon': 46.68216}},\n",
       " 'entryPoints': [{'type': 'main',\n",
       "   'position': {'lat': 24.69493, 'lon': 46.68101}}]}"
      ]
     },
     "execution_count": 52,
     "metadata": {},
     "output_type": "execute_result"
    }
   ],
   "source": [
    "# show how every place in the result\n",
    "result['results'][0]"
   ]
  },
  {
   "cell_type": "code",
   "execution_count": 53,
   "metadata": {
    "scrolled": false
   },
   "outputs": [
    {
     "data": {
      "text/html": [
       "<div style=\"width:100%;\"><div style=\"position:relative;width:100%;height:0;padding-bottom:60%;\"><iframe src=\"data:text/html;charset=utf-8;base64,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\" style=\"position:absolute;width:100%;height:100%;left:0;top:0;border:none !important;\" allowfullscreen webkitallowfullscreen mozallowfullscreen></iframe></div></div>"
      ],
      "text/plain": [
       "<IPython.core.display.HTML object>"
      ]
     },
     "execution_count": 53,
     "metadata": {},
     "output_type": "execute_result"
    }
   ],
   "source": [
    "# draw shortest route between home and dest\n",
    "tomtom_map = draw_route(points)\n",
    "\n",
    "# add a grey circle to represent the search radius\n",
    "folium.Circle(\n",
    "    [dest_latitude, dest_longitude],\n",
    "    radius=search_radius,\n",
    "    color='#004B7F', # Navy\n",
    "    opacity=0.3,\n",
    "    fill = False\n",
    ").add_to(tomtom_map)\n",
    "\n",
    "# Add POIs one by one to the map\n",
    "for poi in result['results']:\n",
    "    folium.Marker(location=tuple(poi['position'].values()),\n",
    "                  popup=str(poi['poi']['name']), \n",
    "                  icon=folium.Icon(color='purple', icon='glyphicon-star')\n",
    "             ).add_to(tomtom_map)\n",
    "HTML(tomtom_map._repr_html_())"
   ]
  },
  {
   "cell_type": "markdown",
   "metadata": {},
   "source": [
    "- You can press on any marker to show cafe shop name "
   ]
  },
  {
   "cell_type": "markdown",
   "metadata": {},
   "source": [
    "#### We can get use of this service more Efficient by Retrieving cafes in given area by providing area center points `lon/lat`"
   ]
  },
  {
   "cell_type": "code",
   "execution_count": 54,
   "metadata": {},
   "outputs": [],
   "source": [
    "# let's get area center points"
   ]
  },
  {
   "cell_type": "code",
   "execution_count": 55,
   "metadata": {},
   "outputs": [],
   "source": [
    "def SearchCity(city, country):\n",
    "    \"\"\" Function use Geocoding feature in Search API to get lat/lon of the center of a city or area\"\"\"\n",
    "    \n",
    "    url = f'https://api.tomtom.com/search/2/search/{city},{country}.json?limit=1&idxSet=Geo&key={api_key}'\n",
    "    result = requests.get(url).json()\n",
    "    \n",
    "    GeoID = result['results'][0]['dataSources']['geometry']['id']\n",
    "    position = result['results'][0]['position']\n",
    "    \n",
    "    return GeoID,position"
   ]
  },
  {
   "cell_type": "code",
   "execution_count": 56,
   "metadata": {},
   "outputs": [
    {
     "data": {
      "text/plain": [
       "('01', 'Riyadh')"
      ]
     },
     "execution_count": 56,
     "metadata": {},
     "output_type": "execute_result"
    }
   ],
   "source": [
    "# from your location we can identify the resion name \n",
    "my_region_code, my_region"
   ]
  },
  {
   "cell_type": "code",
   "execution_count": 57,
   "metadata": {},
   "outputs": [
    {
     "name": "stdout",
     "output_type": "stream",
     "text": [
      "The center of the neighborhood is: ( 24.77586 ,  46.75362 )\n"
     ]
    }
   ],
   "source": [
    "# let's try 'KAl Hamra' area in riyadh city\n",
    "GeoID, position = SearchCity('Al Hamra' ,my_region)\n",
    "lat_area = position['lat']\n",
    "lon_area = position['lon']\n",
    "print(\"The center of the neighborhood is: (\", lat_area, \", \", lon_area, \")\")"
   ]
  },
  {
   "cell_type": "markdown",
   "metadata": {},
   "source": [
    "To get all Saudi regions to use them later in Streamlit app, we can use **[National Address API](https://api.address.gov.sa/lookupsapi-cities)**:"
   ]
  },
  {
   "cell_type": "code",
   "execution_count": 58,
   "metadata": {},
   "outputs": [],
   "source": [
    "def getPolygon(GeoID,zoomLevel):\n",
    "    \"\"\" Function to get polygon of a given GeoID\"\"\"\n",
    "    \n",
    "    url = f'https://api.tomtom.com/search/2/additionalData.json?geometries={GeoID}&geometriesZoom={zoomLevel}&key={api_key}'\n",
    "    result = requests.get(url).json()\n",
    "    \n",
    "    GeoJson = result['additionalData'][0]['geometryData']\n",
    "    \n",
    "    return GeoJson"
   ]
  },
  {
   "cell_type": "code",
   "execution_count": 59,
   "metadata": {},
   "outputs": [],
   "source": [
    "Polygon = getPolygon(GeoID,22)"
   ]
  },
  {
   "cell_type": "code",
   "execution_count": 60,
   "metadata": {},
   "outputs": [],
   "source": [
    "with open('help_files/nationaladdapikey.txt') as f:\n",
    "    nationaladd_key = f.read()"
   ]
  },
  {
   "cell_type": "code",
   "execution_count": 61,
   "metadata": {},
   "outputs": [],
   "source": [
    "def get_saudi_regions(key):\n",
    "    \"\"\"Function to return all Saudi Arabia regions names in english and arabic\"\"\"\n",
    "    \n",
    "    regions = dict()\n",
    "    \n",
    "    # request En cities names\n",
    "    citys_request_ar = requests.get(f'https://apina.address.gov.sa/NationalAddress/v3.1/lookup/regions?language=A&format=json&api_key={key}')\n",
    "    \n",
    "    time.sleep(5)\n",
    "    \n",
    "    # request Ar cities names\n",
    "    citys_request_en = requests.get(f'https://apina.address.gov.sa/NationalAddress/v3.1/lookup/regions?language=E&format=json&api_key={key}')\n",
    "    \n",
    "    if citys_request_en.status_code == 200 and citys_request_ar.status_code == 200:\n",
    "        \n",
    "        cities_en = citys_request_en.json()['Regions']\n",
    "        cities_ar = citys_request_ar.json()['Regions']\n",
    "        for en_city, ar_city in zip(cities_en, cities_ar):\n",
    "            if not regions.get(int(en_city['Id']),0):\n",
    "                regions[int(en_city['Id'])]={}\n",
    "            if not regions.get(int(ar_city['Id']),0):\n",
    "                regions[int(ar_city['Id'])] = {}\n",
    "\n",
    "            regions[int(en_city['Id'])][0] = en_city['Name']\n",
    "            regions[int(ar_city['Id'])][1] = ar_city['Name']\n",
    "    return regions"
   ]
  },
  {
   "cell_type": "code",
   "execution_count": 62,
   "metadata": {},
   "outputs": [
    {
     "data": {
      "text/plain": [
       "{6: {0: 'Asir', 1: ' عسير'},\n",
       " 12: {1: ' الباحة', 0: 'Bahah'},\n",
       " 13: {1: ' الجوف', 0: 'Jawf'},\n",
       " 5: {0: 'Eastern Province', 1: 'الشرقية'},\n",
       " 9: {1: ' الحدود الشمالية', 0: 'Northern Borders'},\n",
       " 8: {0: 'Hail', 1: ' حائل'},\n",
       " 1: {1: ' الرياض', 0: 'Riyadh'},\n",
       " 4: {1: ' القصيم', 0: 'Qassim'},\n",
       " 10: {0: 'Jizan', 1: ' جازان'},\n",
       " 3: {1: ' المدينة المنورة', 0: 'Madinah'},\n",
       " 7: {1: ' تبوك', 0: 'Tabuk'},\n",
       " 2: {0: 'Makkah', 1: ' مكة المكرمة'},\n",
       " 11: {0: 'Najran', 1: ' نجران'}}"
      ]
     },
     "execution_count": 62,
     "metadata": {},
     "output_type": "execute_result"
    }
   ],
   "source": [
    "ksa_cities = get_saudi_regions(nationaladd_key)\n",
    "ksa_cities"
   ]
  },
  {
   "cell_type": "code",
   "execution_count": 63,
   "metadata": {},
   "outputs": [],
   "source": [
    "# save it to load it again in the streamlit app\n",
    "with open('help_files/sa_regions.pkl', 'wb') as f:\n",
    "    pickle.dump(ksa_cities, f)"
   ]
  },
  {
   "cell_type": "code",
   "execution_count": 64,
   "metadata": {},
   "outputs": [
    {
     "data": {
      "text/html": [
       "<div style=\"width:100%;\"><div style=\"position:relative;width:100%;height:0;padding-bottom:60%;\"><iframe src=\"data:text/html;charset=utf-8;base64,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\" style=\"position:absolute;width:100%;height:100%;left:0;top:0;border:none !important;\" allowfullscreen webkitallowfullscreen mozallowfullscreen></iframe></div></div>"
      ],
      "text/plain": [
       "<IPython.core.display.HTML object>"
      ]
     },
     "execution_count": 64,
     "metadata": {},
     "output_type": "execute_result"
    }
   ],
   "source": [
    "# draw area on map\n",
    "\n",
    "#initialize new map\n",
    "tomtom_map = init_map(api_key, lat_area, lon_area)\n",
    "\n",
    "\n",
    "# add polygons to a map\n",
    "folium.GeoJson(Polygon).add_to(tomtom_map)\n",
    "\n",
    "HTML(tomtom_map._repr_html_())"
   ]
  },
  {
   "cell_type": "code",
   "execution_count": 65,
   "metadata": {},
   "outputs": [],
   "source": [
    "result = get_cafes_around_point(lat_area, lon_area, search_limit, search_radius, category)"
   ]
  },
  {
   "cell_type": "code",
   "execution_count": 66,
   "metadata": {},
   "outputs": [
    {
     "data": {
      "text/plain": [
       "4"
      ]
     },
     "execution_count": 66,
     "metadata": {},
     "output_type": "execute_result"
    }
   ],
   "source": [
    "#\n",
    "len(result['results'])"
   ]
  },
  {
   "cell_type": "code",
   "execution_count": 67,
   "metadata": {
    "scrolled": false
   },
   "outputs": [
    {
     "data": {
      "text/html": [
       "<div style=\"width:100%;\"><div style=\"position:relative;width:100%;height:0;padding-bottom:60%;\"><iframe src=\"data:text/html;charset=utf-8;base64,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\" style=\"position:absolute;width:100%;height:100%;left:0;top:0;border:none !important;\" allowfullscreen webkitallowfullscreen mozallowfullscreen></iframe></div></div>"
      ],
      "text/plain": [
       "<IPython.core.display.HTML object>"
      ]
     },
     "execution_count": 67,
     "metadata": {},
     "output_type": "execute_result"
    }
   ],
   "source": [
    "# Add POIs one by one to the map\n",
    "for poi in result['results']:\n",
    "    folium.Marker(location=tuple(poi['position'].values()),\n",
    "                  popup=str(poi['poi']['name']), \n",
    "                  icon=folium.Icon(color='green', icon='glyphicon-star')\n",
    "                  #icon=icon\n",
    "             ).add_to(tomtom_map)\n",
    "HTML(tomtom_map._repr_html_())"
   ]
  },
  {
   "cell_type": "markdown",
   "metadata": {},
   "source": [
    "\n",
    "> This service just considers one point and try to get the nearest places within a radius. **What about the other places along the route from home point to destination point! Maybe there are better options!**"
   ]
  },
  {
   "cell_type": "markdown",
   "metadata": {},
   "source": [
    "2. **TomTom [Along Route Search](https://developer.tomtom.com/search-api/search-api-documentation-search/along-route-search) service**:\n",
    "    - This service allows you to perform a search for POIs along a specified route (from home point to destination point).\n",
    "\n",
    "    - This search is constrained by specifying a detour time-limiting measure.\n",
    "    \n",
    "    - To specify the route, we should provide points along it (from Home point to Destination point) \n",
    "         - The minimum number of route points is 2.\n",
    "         - A good scenario for route points is using a start point and an end point and some middle points, therefore in our request here we will try to use 6 points to describe our route:\n",
    "            - Home point (start point)\n",
    "            - 4 middle points\n",
    "            - Destination point (end point)"
   ]
  },
  {
   "cell_type": "markdown",
   "metadata": {},
   "source": [
    "> **i. Finding all cafes along the route (between home and destination point)**"
   ]
  },
  {
   "cell_type": "code",
   "execution_count": 305,
   "metadata": {},
   "outputs": [],
   "source": [
    "# helper func:"
   ]
  },
  {
   "cell_type": "code",
   "execution_count": 68,
   "metadata": {},
   "outputs": [],
   "source": [
    "def get_route_points(points, num_points):\n",
    "    \"\"\"Function returns distributed selected number of points along route (array of points)\"\"\"\n",
    "    \n",
    "    # calculate step between each 2 points\n",
    "    step = len(points)// (num_points + 2) # num_points +1 for start point +1 for end points\n",
    "    \n",
    "    # return points\n",
    "    return [{'lat':points[step * i][0], 'lon':points[step * i][1]} for i in range(1,num_points+1)]"
   ]
  },
  {
   "cell_type": "code",
   "execution_count": 69,
   "metadata": {},
   "outputs": [],
   "source": [
    "def tomtom_category_sets():\n",
    "    \"\"\"Function to dataframe of categories supported by tomtom api\"\"\"\n",
    "    \n",
    "    res = requests.get(f'https://api.tomtom.com/search/2/poiCategories.json?key={api_key}')\n",
    "    if res.status_code == 200:\n",
    "        cat_res = json.loads(res.text)\n",
    "        cat_df = pd.DataFrame(cat_res['poiCategories'])\n",
    "        return cat_df"
   ]
  },
  {
   "cell_type": "code",
   "execution_count": 70,
   "metadata": {
    "scrolled": true
   },
   "outputs": [
    {
     "data": {
      "text/html": [
       "<div>\n",
       "<style scoped>\n",
       "    .dataframe tbody tr th:only-of-type {\n",
       "        vertical-align: middle;\n",
       "    }\n",
       "\n",
       "    .dataframe tbody tr th {\n",
       "        vertical-align: top;\n",
       "    }\n",
       "\n",
       "    .dataframe thead th {\n",
       "        text-align: right;\n",
       "    }\n",
       "</style>\n",
       "<table border=\"1\" class=\"dataframe\">\n",
       "  <thead>\n",
       "    <tr style=\"text-align: right;\">\n",
       "      <th></th>\n",
       "      <th>id</th>\n",
       "      <th>name</th>\n",
       "      <th>childCategoryIds</th>\n",
       "      <th>synonyms</th>\n",
       "    </tr>\n",
       "  </thead>\n",
       "  <tbody>\n",
       "    <tr>\n",
       "      <th>0</th>\n",
       "      <td>7320</td>\n",
       "      <td>Sports Center</td>\n",
       "      <td>[7320002, 7320003, 7320005]</td>\n",
       "      <td>[Gym, Indoors Sports, Sports Centre]</td>\n",
       "    </tr>\n",
       "    <tr>\n",
       "      <th>1</th>\n",
       "      <td>7374</td>\n",
       "      <td>Stadium</td>\n",
       "      <td>[7374002, 7374009, 7374012, 7374003, 7374010, ...</td>\n",
       "      <td>[Arena, Gymnasium, Sports Ground, Sports Stadium]</td>\n",
       "    </tr>\n",
       "    <tr>\n",
       "      <th>2</th>\n",
       "      <td>7315</td>\n",
       "      <td>Restaurant</td>\n",
       "      <td>[7315081, 7315002, 7315082, 7315003, 7315083, ...</td>\n",
       "      <td>[Dining, Eatery, Eating House, Eating Place]</td>\n",
       "    </tr>\n",
       "    <tr>\n",
       "      <th>3</th>\n",
       "      <td>9376</td>\n",
       "      <td>Café/Pub</td>\n",
       "      <td>[9376002, 9376006, 9376004, 9376007, 9376003, ...</td>\n",
       "      <td>[Ale House, Public House, Tavern]</td>\n",
       "    </tr>\n",
       "    <tr>\n",
       "      <th>4</th>\n",
       "      <td>9663</td>\n",
       "      <td>Health Care Service</td>\n",
       "      <td>[9663005, 9663004, 9663003, 9663002]</td>\n",
       "      <td>[]</td>\n",
       "    </tr>\n",
       "  </tbody>\n",
       "</table>\n",
       "</div>"
      ],
      "text/plain": [
       "     id                 name  \\\n",
       "0  7320        Sports Center   \n",
       "1  7374              Stadium   \n",
       "2  7315           Restaurant   \n",
       "3  9376             Café/Pub   \n",
       "4  9663  Health Care Service   \n",
       "\n",
       "                                    childCategoryIds  \\\n",
       "0                        [7320002, 7320003, 7320005]   \n",
       "1  [7374002, 7374009, 7374012, 7374003, 7374010, ...   \n",
       "2  [7315081, 7315002, 7315082, 7315003, 7315083, ...   \n",
       "3  [9376002, 9376006, 9376004, 9376007, 9376003, ...   \n",
       "4               [9663005, 9663004, 9663003, 9663002]   \n",
       "\n",
       "                                            synonyms  \n",
       "0               [Gym, Indoors Sports, Sports Centre]  \n",
       "1  [Arena, Gymnasium, Sports Ground, Sports Stadium]  \n",
       "2       [Dining, Eatery, Eating House, Eating Place]  \n",
       "3                  [Ale House, Public House, Tavern]  \n",
       "4                                                 []  "
      ]
     },
     "execution_count": 70,
     "metadata": {},
     "output_type": "execute_result"
    }
   ],
   "source": [
    "# specify paramters for API (you could check out folloing paramters and more using link above)\n",
    "\n",
    "# route points points[0][0], points[0][1],\n",
    "route_dict={\"points\": [{\"lat\": points[0][0], \"lon\": points[0][1]}] #start point\n",
    "            + get_route_points(points, 4) # 4 middle points\n",
    "            + [{\"lat\": points[-1][0],\"lon\": points[-1][1]}] # end point\n",
    "           }\n",
    "api_points = {\"route\":route_dict}\n",
    "\n",
    "# maximum detour time limit (sec)\n",
    "max_detour_time=200\n",
    "\n",
    "\n",
    "# maximum number of responses that will be returned.\n",
    "max_res_limit = 20\n",
    "\n",
    "\n",
    "# return calculation of the distance between the start of the route and the starting point of the detour to a POI.\n",
    "detour_offset = True\n",
    "\n",
    "# categories to restrict the result to the Points Of Interest of specific categories. \n",
    "# The list of categories can be discovered using the POI Categories endpoint.\n",
    "category_set_df = tomtom_category_sets()\n",
    "category_set_df.head()"
   ]
  },
  {
   "cell_type": "code",
   "execution_count": 71,
   "metadata": {},
   "outputs": [],
   "source": [
    "# save some categories for later use in streamlit app\n",
    "category_set_lang_df = category_set_df[['id', 'name']].iloc[[121, 2, 206, 8, 215, 220, 587, 579, 577, 5, 39, 11, 260, 25,  147,   335],:].copy()"
   ]
  },
  {
   "cell_type": "code",
   "execution_count": 72,
   "metadata": {},
   "outputs": [
    {
     "data": {
      "text/html": [
       "<div>\n",
       "<style scoped>\n",
       "    .dataframe tbody tr th:only-of-type {\n",
       "        vertical-align: middle;\n",
       "    }\n",
       "\n",
       "    .dataframe tbody tr th {\n",
       "        vertical-align: top;\n",
       "    }\n",
       "\n",
       "    .dataframe thead th {\n",
       "        text-align: right;\n",
       "    }\n",
       "</style>\n",
       "<table border=\"1\" class=\"dataframe\">\n",
       "  <thead>\n",
       "    <tr style=\"text-align: right;\">\n",
       "      <th></th>\n",
       "      <th>id</th>\n",
       "      <th>name</th>\n",
       "      <th>name_ar</th>\n",
       "    </tr>\n",
       "  </thead>\n",
       "  <tbody>\n",
       "    <tr>\n",
       "      <th>121</th>\n",
       "      <td>9376002</td>\n",
       "      <td>Café</td>\n",
       "      <td>قهوة</td>\n",
       "    </tr>\n",
       "    <tr>\n",
       "      <th>2</th>\n",
       "      <td>7315</td>\n",
       "      <td>Restaurant</td>\n",
       "      <td>مطعم</td>\n",
       "    </tr>\n",
       "    <tr>\n",
       "      <th>206</th>\n",
       "      <td>7315015</td>\n",
       "      <td>Fast Food</td>\n",
       "      <td>الوجبات السريعة</td>\n",
       "    </tr>\n",
       "    <tr>\n",
       "      <th>8</th>\n",
       "      <td>7332</td>\n",
       "      <td>Market</td>\n",
       "      <td>سوق</td>\n",
       "    </tr>\n",
       "    <tr>\n",
       "      <th>215</th>\n",
       "      <td>9361018</td>\n",
       "      <td>Bakery</td>\n",
       "      <td>مخبز</td>\n",
       "    </tr>\n",
       "    <tr>\n",
       "      <th>220</th>\n",
       "      <td>9361023</td>\n",
       "      <td>Grocery Store</td>\n",
       "      <td>بقالة</td>\n",
       "    </tr>\n",
       "    <tr>\n",
       "      <th>587</th>\n",
       "      <td>7328</td>\n",
       "      <td>Bank</td>\n",
       "      <td>مصرف</td>\n",
       "    </tr>\n",
       "    <tr>\n",
       "      <th>579</th>\n",
       "      <td>7397</td>\n",
       "      <td>ATM</td>\n",
       "      <td>ماكينة الصراف الآلي</td>\n",
       "    </tr>\n",
       "    <tr>\n",
       "      <th>577</th>\n",
       "      <td>7311</td>\n",
       "      <td>Gas Station</td>\n",
       "      <td>محطة غاز</td>\n",
       "    </tr>\n",
       "    <tr>\n",
       "      <th>5</th>\n",
       "      <td>7321</td>\n",
       "      <td>Hospital</td>\n",
       "      <td>مستشفى</td>\n",
       "    </tr>\n",
       "    <tr>\n",
       "      <th>39</th>\n",
       "      <td>9155</td>\n",
       "      <td>Car Wash</td>\n",
       "      <td>غسيل سيارة</td>\n",
       "    </tr>\n",
       "    <tr>\n",
       "      <th>11</th>\n",
       "      <td>7324</td>\n",
       "      <td>Post Office</td>\n",
       "      <td>مكتب البريد</td>\n",
       "    </tr>\n",
       "    <tr>\n",
       "      <th>260</th>\n",
       "      <td>7314003</td>\n",
       "      <td>Hotel</td>\n",
       "      <td>الفندق</td>\n",
       "    </tr>\n",
       "    <tr>\n",
       "      <th>25</th>\n",
       "      <td>7372</td>\n",
       "      <td>School</td>\n",
       "      <td>مدرسة</td>\n",
       "    </tr>\n",
       "    <tr>\n",
       "      <th>147</th>\n",
       "      <td>9361006</td>\n",
       "      <td>Clothing Shop</td>\n",
       "      <td>محل ملابس</td>\n",
       "    </tr>\n",
       "    <tr>\n",
       "      <th>335</th>\n",
       "      <td>7339003</td>\n",
       "      <td>Mosque</td>\n",
       "      <td>مسجد</td>\n",
       "    </tr>\n",
       "  </tbody>\n",
       "</table>\n",
       "</div>"
      ],
      "text/plain": [
       "          id           name              name_ar\n",
       "121  9376002           Café                 قهوة\n",
       "2       7315     Restaurant                 مطعم\n",
       "206  7315015      Fast Food      الوجبات السريعة\n",
       "8       7332         Market                  سوق\n",
       "215  9361018         Bakery                 مخبز\n",
       "220  9361023  Grocery Store                بقالة\n",
       "587     7328           Bank                 مصرف\n",
       "579     7397            ATM  ماكينة الصراف الآلي\n",
       "577     7311    Gas Station             محطة غاز\n",
       "5       7321       Hospital               مستشفى\n",
       "39      9155       Car Wash           غسيل سيارة\n",
       "11      7324    Post Office          مكتب البريد\n",
       "260  7314003          Hotel               الفندق\n",
       "25      7372         School                مدرسة\n",
       "147  9361006  Clothing Shop            محل ملابس\n",
       "335  7339003         Mosque                 مسجد"
      ]
     },
     "execution_count": 72,
     "metadata": {},
     "output_type": "execute_result"
    }
   ],
   "source": [
    "translator = Translator()\n",
    "category_set_lang_df['name_ar'] = category_set_lang_df.name.map(lambda x: translator.translate(x, dest='ar').text)\n",
    "category_set_lang_df"
   ]
  },
  {
   "cell_type": "code",
   "execution_count": 73,
   "metadata": {},
   "outputs": [],
   "source": [
    "# save it to load it again in the streamlit app\n",
    "with open('help_files/categories.pkl', 'wb') as f:\n",
    "    pickle.dump(category_set_lang_df, f)"
   ]
  },
  {
   "cell_type": "code",
   "execution_count": 74,
   "metadata": {},
   "outputs": [],
   "source": [
    "def get_cafes_along_route(detour_time, res_limit, cafe_brand=None):\n",
    "    \"\"\"Function to retrieve cafes spread over given route\"\"\"\n",
    "    # Gather all paramters in dict\n",
    "    params_ = {'maxDetourTime' : detour_time,\n",
    "               'detourOffset' : json.dumps(True),\n",
    "               'limit' : res_limit,\n",
    "               'categorySet' : category_set_df[category_set_df['name']=='Café/Pub']['id'],\n",
    "               'key': api_key\n",
    "              } \n",
    "    # add place brand if it's provided\n",
    "    if cafe_brand:\n",
    "        params_['brandSet'] = cafe_brand\n",
    "            \n",
    "    # create a request\n",
    "    headers = {'Content-type': 'application/json'}\n",
    "    response = requests.post(f'https://api.tomtom.com/search/2/searchAlongRoute/{category}.json',\n",
    "                             json=api_points,\n",
    "                             headers=headers,\n",
    "                             params=params_)\n",
    "    \n",
    "    # check response status to make sure it went through\n",
    "    if response.status_code == 200:\n",
    "        res = json.loads(response.text) \n",
    "    return res   "
   ]
  },
  {
   "cell_type": "code",
   "execution_count": 75,
   "metadata": {},
   "outputs": [],
   "source": [
    "res = get_cafes_along_route(max_detour_time, max_res_limit)"
   ]
  },
  {
   "cell_type": "code",
   "execution_count": 76,
   "metadata": {},
   "outputs": [
    {
     "data": {
      "text/plain": [
       "dict_keys(['summary', 'results'])"
      ]
     },
     "execution_count": 76,
     "metadata": {},
     "output_type": "execute_result"
    }
   ],
   "source": [
    "# check response\n",
    "res.keys()"
   ]
  },
  {
   "cell_type": "code",
   "execution_count": 77,
   "metadata": {},
   "outputs": [
    {
     "data": {
      "text/plain": [
       "20"
      ]
     },
     "execution_count": 77,
     "metadata": {},
     "output_type": "execute_result"
    }
   ],
   "source": [
    "# show how many POI returned\n",
    "res['summary']['totalResults']"
   ]
  },
  {
   "cell_type": "code",
   "execution_count": 78,
   "metadata": {},
   "outputs": [
    {
     "data": {
      "text/plain": [
       "{'type': 'POI',\n",
       " 'id': 'g6JpZK82ODIwMDkwMDA4ODYwMDKhY6NTQVWhdqdVbmlmaWVk',\n",
       " 'score': 2.9976737499,\n",
       " 'dist': 171.02338965596542,\n",
       " 'info': 'search:ta:682009000886002-SA',\n",
       " 'poi': {'name': 'Roma Cafe',\n",
       "  'categorySet': [{'id': 9376002}],\n",
       "  'categories': ['café', 'café/pub'],\n",
       "  'classifications': [{'code': 'CAFE_PUB',\n",
       "    'names': [{'nameLocale': 'en-US', 'name': 'café'},\n",
       "     {'nameLocale': 'en-US', 'name': 'café/pub'}]}]},\n",
       " 'address': {'municipalitySubdivision': 'Al Olaya',\n",
       "  'municipality': 'Riyadh',\n",
       "  'countrySubdivision': 'Riyadh Province',\n",
       "  'postalCode': '12211',\n",
       "  'countryCode': 'SA',\n",
       "  'country': 'Saudi Arabia',\n",
       "  'countryCodeISO3': 'SAU',\n",
       "  'freeformAddress': 'Riyadh Province, Riyadh',\n",
       "  'localName': 'Riyadh'},\n",
       " 'position': {'lat': 24.68637, 'lon': 46.6867},\n",
       " 'viewport': {'topLeftPoint': {'lat': 24.68727, 'lon': 46.68571},\n",
       "  'btmRightPoint': {'lat': 24.68547, 'lon': 46.68769}},\n",
       " 'entryPoints': [{'type': 'main',\n",
       "   'position': {'lat': 24.68659, 'lon': 46.68659}}],\n",
       " 'detourTime': 84,\n",
       " 'detourDistance': 335,\n",
       " 'detourOffset': 4322}"
      ]
     },
     "execution_count": 78,
     "metadata": {},
     "output_type": "execute_result"
    }
   ],
   "source": [
    "# show how every place in the result\n",
    "res['results'][4]"
   ]
  },
  {
   "cell_type": "code",
   "execution_count": 79,
   "metadata": {
    "scrolled": false
   },
   "outputs": [
    {
     "name": "stdout",
     "output_type": "stream",
     "text": [
      "\u001b[1m1. Dallatna Lounge\u001b[0m\n",
      "Dallatna Lounge , Prince Muhammad Bin Abdulaziz Road , Al Olaya\n",
      "\n",
      "\n",
      "\u001b[1m2. Dunkin'\u001b[0m\n",
      "Dunkin' , Prince Muhammad Bin Abdulaziz Road , Al Olaya\n",
      "\n",
      "\n",
      "\u001b[1m3. Naomy for Organic Tea\u001b[0m\n",
      "Naomy for Organic Tea , Prince Muhammad Bin Abdulaziz Road , Al Olaya\n",
      "\n",
      "\n",
      "\u001b[1m4. Dunkin'\u001b[0m\n",
      "Dunkin' , King Fahd Road , Al Olaya\n",
      "\n",
      "\n",
      "\u001b[1m5. Roma Cafe\u001b[0m\n",
      "Roma Cafe ,  , Al Olaya\n",
      "\n",
      "\n",
      "\u001b[1m6. Coffee Net\u001b[0m\n",
      "Coffee Net , Wady Al Tairy Street , Al Olaya\n",
      "\n",
      "\n",
      "\u001b[1m7. Paris Coffee\u001b[0m\n",
      "Paris Coffee , Wadi Al Amaria Street , Al Olaya\n",
      "\n",
      "\n",
      "\u001b[1m8. Black House\u001b[0m\n",
      "Black House , 50 Street , Al Olaya\n",
      "\n",
      "\n",
      "\u001b[1m9. London Pastries And Coffee\u001b[0m\n",
      "London Pastries And Coffee ,  , Al Olaya\n",
      "\n",
      "\n",
      "\u001b[1m10. Coffee Day\u001b[0m\n",
      "Coffee Day , Al Moatasem Street , Al Olaya\n",
      "\n",
      "\n",
      "\u001b[1m11. Coffeeshop Company\u001b[0m\n",
      "Coffeeshop Company , Al Moatasem Street , Al Olaya\n",
      "\n",
      "\n",
      "\u001b[1m12. Dunkin'\u001b[0m\n",
      "Dunkin' , Al Moatasem Street , Al Olaya\n",
      "\n",
      "\n",
      "\u001b[1m13. Al Khuzama\u001b[0m\n",
      "Al Khuzama , Prince Mansoor Bin Abulaziz Street , Al Olaya\n",
      "\n",
      "\n",
      "\u001b[1m14. Dunkin'\u001b[0m\n",
      "Dunkin' , Makkah Al Mukarrama Road , Al Olaya\n",
      "\n",
      "\n",
      "\u001b[1m15. Al Awaleen Coffee\u001b[0m\n",
      "Al Awaleen Coffee , Makkah Al Mukarrama Road , Al Olaya\n",
      "\n",
      "\n",
      "\u001b[1m16. Al Awaleen Coffee - Jalsat Shaabiyah\u001b[0m\n",
      "Al Awaleen Coffee - Jalsat Shaabiyah , Makkah Al Mukarrama Road , Al Olaya\n",
      "\n",
      "\n",
      "\u001b[1m17. Java Time\u001b[0m\n",
      "Java Time , Makkah Al Mukarrama Road , Al Olaya\n",
      "\n",
      "\n",
      "\u001b[1m18. Najdeyat Haleeb and Heal\u001b[0m\n",
      "Najdeyat Haleeb and Heal , Makkah Al Mukarrama Road , Al Olaya\n",
      "\n",
      "\n",
      "\u001b[1m19. Al Awaleen Coffee\u001b[0m\n",
      "Al Awaleen Coffee , Makkah Al Mukarrama Road , Al Olaya\n",
      "\n",
      "\n",
      "\u001b[1m20. Dunkin'\u001b[0m\n",
      "Dunkin' , Haba Allah Al Samry Alley , Al Olaya\n",
      "\n",
      "\n"
     ]
    }
   ],
   "source": [
    "# show returned places names and address\n",
    "for ind, i in enumerate(res['results']):\n",
    "    print(\"\\033[1m\"+f\"{ind+1}. {i['poi']['name']}\"+\"\\033[0m\")\n",
    "    print(i['poi']['name'], ',', i.get('address').get('streetName',''),',', i['address']['municipalitySubdivision'])\n",
    "    print('\\n')"
   ]
  },
  {
   "cell_type": "markdown",
   "metadata": {},
   "source": [
    "### Visualize the map that shows the following:\n",
    "    - Home point \n",
    "    - Destination point\n",
    "    - The shortest route between both points\n",
    "    - Returned places:\n",
    "        - Each place marker has a number indicate the oreder of the place based on its detour time.\n",
    "            - ex: the place with the shortest derout time will have number 1 then the second shortest place will have number 2 and so on. \n",
    "        - Each place has a different coloer and size repersents its derout time\n",
    "            - ex: the place with the shortest derout time will have darkest color and bigger size then the second shortest place be little bit lighter and smaller and so on. \n",
    "        - Each place has 2 popup windows:\n",
    "            1. Popup window that showup when pressing on the marker to give you some location's information (name, full address) .\n",
    "            2. Popup window that showup when  hovering over the marker to give you some location's information (name, derout time) ."
   ]
  },
  {
   "cell_type": "code",
   "execution_count": 80,
   "metadata": {
    "scrolled": false
   },
   "outputs": [],
   "source": [
    "def draw_along_search_map(res):\n",
    "    \"\"\"Function to draw returned result of along_search service on map\"\"\"\n",
    "    \n",
    "    # draw home, destination, shortest route between them\n",
    "    tomtom_map = draw_route(points)\n",
    "\n",
    "    # create heat colors scale for markers to show Priority of the place\n",
    "    # we chose here blue gradients\n",
    "    colors = list(Color(\"#000080\").range_to(Color(\"#d5e5ff\"),max_res_limit))\n",
    "\n",
    "    # for each returened place\n",
    "    for ind, poi in enumerate(res['results']):\n",
    "\n",
    "        # calculate detour time for this place in minutes \n",
    "        detour_h, detour_min = convert_sec_to_h_m(poi['detourTime'], False)\n",
    "\n",
    "        # create marker on the place has own size and color\n",
    "        icon_ = BeautifyIcon(icon_shape='marker',\n",
    "                             number=ind,\n",
    "                             spin=True,\n",
    "                             text_color='gray',\n",
    "                             icon_size=(40-ind, 40-ind),\n",
    "                             border_color =str(colors[ind]),\n",
    "                             background_color=str(colors[ind]),\n",
    "                             inner_icon_style=\"font-size:12px;padding-top:-5px;\"\n",
    "                            )\n",
    "\n",
    "        # add a marker for each lat, lon\n",
    "        folium.Marker(location=tuple(poi['position'].values()),\n",
    "                      popup=folium.Popup(f\"<b>{poi['poi']['name']}</b> <br>{poi.get('address').get('streetName','')}, {poi['address']['municipalitySubdivision']}\", max_width=100) , \n",
    "                      icon=icon_,\n",
    "                      tooltip=f\"<b>{poi['poi']['name']}</b> <br> ({detour_min} mins)\"\n",
    "                 ).add_to(tomtom_map)\n",
    "    return tomtom_map"
   ]
  },
  {
   "cell_type": "code",
   "execution_count": 81,
   "metadata": {},
   "outputs": [
    {
     "data": {
      "text/html": [
       "<div style=\"width:100%;\"><div style=\"position:relative;width:100%;height:0;padding-bottom:60%;\"><iframe src=\"data:text/html;charset=utf-8;base64,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\" style=\"position:absolute;width:100%;height:100%;left:0;top:0;border:none !important;\" allowfullscreen webkitallowfullscreen mozallowfullscreen></iframe></div></div>"
      ],
      "text/plain": [
       "<IPython.core.display.HTML object>"
      ]
     },
     "execution_count": 81,
     "metadata": {},
     "output_type": "execute_result"
    }
   ],
   "source": [
    "# map\n",
    "tomtom_map = draw_along_search_map(res)\n",
    "HTML(tomtom_map._repr_html_())"
   ]
  },
  {
   "cell_type": "markdown",
   "metadata": {},
   "source": [
    "> **ii. Finding all cafes of a specific brand name along the route (between home and destination point)**"
   ]
  },
  {
   "cell_type": "code",
   "execution_count": 82,
   "metadata": {},
   "outputs": [],
   "source": [
    "# we want to restrict the result to Points Of Interest of specific brands ex:\"Dunkin'\"\n",
    "res_Dunkin = get_cafes_along_route(max_detour_time, max_res_limit, \"Dunkin'\")"
   ]
  },
  {
   "cell_type": "code",
   "execution_count": 83,
   "metadata": {},
   "outputs": [
    {
     "data": {
      "text/plain": [
       "5"
      ]
     },
     "execution_count": 83,
     "metadata": {},
     "output_type": "execute_result"
    }
   ],
   "source": [
    "# show how many POI returned\n",
    "res_Dunkin['summary']['totalResults']"
   ]
  },
  {
   "cell_type": "code",
   "execution_count": 84,
   "metadata": {
    "scrolled": false
   },
   "outputs": [
    {
     "name": "stdout",
     "output_type": "stream",
     "text": [
      "\u001b[1m1. Dunkin'\u001b[0m\n",
      "Dunkin' , Prince Muhammad Bin Abdulaziz Road , Al Olaya\n",
      "\n",
      "\n",
      "\u001b[1m2. Dunkin'\u001b[0m\n",
      "Dunkin' , King Fahd Road , Al Olaya\n",
      "\n",
      "\n",
      "\u001b[1m3. Dunkin'\u001b[0m\n",
      "Dunkin' , Al Moatasem Street , Al Olaya\n",
      "\n",
      "\n",
      "\u001b[1m4. Dunkin'\u001b[0m\n",
      "Dunkin' , Makkah Al Mukarrama Road , Al Olaya\n",
      "\n",
      "\n",
      "\u001b[1m5. Dunkin'\u001b[0m\n",
      "Dunkin' , Haba Allah Al Samry Alley , Al Olaya\n",
      "\n",
      "\n"
     ]
    }
   ],
   "source": [
    "# show returned places names and address\n",
    "for ind, i in enumerate(res_Dunkin['results']):\n",
    "    print(\"\\033[1m\"+f\"{ind+1}. {i['poi']['name']}\"+\"\\033[0m\")\n",
    "    print(i['poi']['name'], ',', i.get('address').get('streetName',''),',', i['address']['municipalitySubdivision'])\n",
    "    print('\\n')"
   ]
  },
  {
   "cell_type": "code",
   "execution_count": 85,
   "metadata": {
    "scrolled": false
   },
   "outputs": [
    {
     "data": {
      "text/html": [
       "<div style=\"width:100%;\"><div style=\"position:relative;width:100%;height:0;padding-bottom:60%;\"><iframe src=\"data:text/html;charset=utf-8;base64,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\" style=\"position:absolute;width:100%;height:100%;left:0;top:0;border:none !important;\" allowfullscreen webkitallowfullscreen mozallowfullscreen></iframe></div></div>"
      ],
      "text/plain": [
       "<IPython.core.display.HTML object>"
      ]
     },
     "execution_count": 85,
     "metadata": {},
     "output_type": "execute_result"
    }
   ],
   "source": [
    "# map\n",
    "tomtom_map = draw_along_search_map(res_Dunkin)\n",
    "HTML(tomtom_map._repr_html_())"
   ]
  },
  {
   "cell_type": "code",
   "execution_count": null,
   "metadata": {},
   "outputs": [],
   "source": []
  },
  {
   "cell_type": "code",
   "execution_count": null,
   "metadata": {},
   "outputs": [],
   "source": []
  }
 ],
 "metadata": {
  "kernelspec": {
   "display_name": "Python 3",
   "language": "python",
   "name": "python3"
  },
  "language_info": {
   "codemirror_mode": {
    "name": "ipython",
    "version": 3
   },
   "file_extension": ".py",
   "mimetype": "text/x-python",
   "name": "python",
   "nbconvert_exporter": "python",
   "pygments_lexer": "ipython3",
   "version": "3.6.5"
  }
 },
 "nbformat": 4,
 "nbformat_minor": 2
}
